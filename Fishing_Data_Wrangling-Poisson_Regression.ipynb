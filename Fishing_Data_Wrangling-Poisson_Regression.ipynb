{
 "cells": [
  {
   "cell_type": "code",
   "execution_count": 1,
   "metadata": {},
   "outputs": [],
   "source": [
    "##Importing data"
   ]
  },
  {
   "cell_type": "code",
   "execution_count": 2,
   "metadata": {},
   "outputs": [
    {
     "name": "stdout",
     "output_type": "stream",
     "text": [
      "  Estimate Status  Year         Wave Fishing Mode Fishing Area  \\\n",
      "0           FINAL  2010  MARCH/APRIL        SHORE       INLAND   \n",
      "1           FINAL  2010  MARCH/APRIL        SHORE       INLAND   \n",
      "2           FINAL  2010  MARCH/APRIL        SHORE       INLAND   \n",
      "3           FINAL  2010  MARCH/APRIL        SHORE       INLAND   \n",
      "4           FINAL  2010  MARCH/APRIL        SHORE       INLAND   \n",
      "\n",
      "          Species Group             Sub Group  Observed Harvest (A)   PSE  \\\n",
      "0  CARTILAGINOUS FISHES           SKATES/RAYS                     0     .   \n",
      "1             CATFISHES  FRESHWATER CATFISHES                 35600  63.5   \n",
      "2          OTHER FISHES          OTHER FISHES                 53567  60.7   \n",
      "3      TEMPERATE BASSES          STRIPED BASS                     0     .   \n",
      "4      TEMPERATE BASSES           WHITE PERCH               1313617  60.8   \n",
      "\n",
      "   Reported Harvest (B1) PSE.1  Released Alive (B2)  PSE.2  \n",
      "0                      0     .                10143  105.8  \n",
      "1                      0     .                60656   68.6  \n",
      "2                      0     .               284146   58.3  \n",
      "3                      0     .               714968   84.8  \n",
      "4                      0     .              1302508   82.8  \n"
     ]
    }
   ],
   "source": [
    "import pandas as pd\n",
    "\n",
    "data = pd.read_csv('mrip_catch_snapshot.csv', header=0)\n",
    "print(data.head())"
   ]
  },
  {
   "cell_type": "code",
   "execution_count": 3,
   "metadata": {},
   "outputs": [
    {
     "name": "stdout",
     "output_type": "stream",
     "text": [
      "  Estimate Status  Year         Wave  Fishing Mode     Fishing Area  \\\n",
      "0           FINAL  2010  MARCH/APRIL         SHORE  OCEAN (<= 3 MI)   \n",
      "1           FINAL  2010  MARCH/APRIL         SHORE           INLAND   \n",
      "2           FINAL  2010  MARCH/APRIL    PARTY BOAT   OCEAN (> 3 MI)   \n",
      "3           FINAL  2010  MARCH/APRIL    PARTY BOAT           INLAND   \n",
      "4           FINAL  2010  MARCH/APRIL  CHARTER BOAT   OCEAN (> 3 MI)   \n",
      "\n",
      "   Angler Trips    PSE  \n",
      "0          4436  109.6  \n",
      "1        730139   19.1  \n",
      "2           788    8.6  \n",
      "3             2    8.6  \n",
      "4             7   17.3  \n"
     ]
    }
   ],
   "source": [
    "catch_effort = pd.read_csv('mrip_effort_series.csv', header=0)\n",
    "print(catch_effort.head())"
   ]
  },
  {
   "cell_type": "code",
   "execution_count": 4,
   "metadata": {},
   "outputs": [
    {
     "data": {
      "text/html": [
       "<div>\n",
       "<style scoped>\n",
       "    .dataframe tbody tr th:only-of-type {\n",
       "        vertical-align: middle;\n",
       "    }\n",
       "\n",
       "    .dataframe tbody tr th {\n",
       "        vertical-align: top;\n",
       "    }\n",
       "\n",
       "    .dataframe thead th {\n",
       "        text-align: right;\n",
       "    }\n",
       "</style>\n",
       "<table border=\"1\" class=\"dataframe\">\n",
       "  <thead>\n",
       "    <tr style=\"text-align: right;\">\n",
       "      <th></th>\n",
       "      <th>Estimate Status_x</th>\n",
       "      <th>Year</th>\n",
       "      <th>Wave</th>\n",
       "      <th>Fishing Mode</th>\n",
       "      <th>Fishing Area</th>\n",
       "      <th>Species Group</th>\n",
       "      <th>Sub Group</th>\n",
       "      <th>Observed Harvest (A)</th>\n",
       "      <th>PSE_x</th>\n",
       "      <th>Reported Harvest (B1)</th>\n",
       "      <th>PSE.1</th>\n",
       "      <th>Released Alive (B2)</th>\n",
       "      <th>PSE.2</th>\n",
       "      <th>Estimate Status_y</th>\n",
       "      <th>Angler Trips</th>\n",
       "      <th>PSE_y</th>\n",
       "    </tr>\n",
       "  </thead>\n",
       "  <tbody>\n",
       "    <tr>\n",
       "      <th>0</th>\n",
       "      <td>FINAL</td>\n",
       "      <td>2010</td>\n",
       "      <td>MARCH/APRIL</td>\n",
       "      <td>SHORE</td>\n",
       "      <td>INLAND</td>\n",
       "      <td>CARTILAGINOUS FISHES</td>\n",
       "      <td>SKATES/RAYS</td>\n",
       "      <td>0</td>\n",
       "      <td>.</td>\n",
       "      <td>0</td>\n",
       "      <td>.</td>\n",
       "      <td>10143</td>\n",
       "      <td>105.8</td>\n",
       "      <td>FINAL</td>\n",
       "      <td>730139</td>\n",
       "      <td>19.1</td>\n",
       "    </tr>\n",
       "    <tr>\n",
       "      <th>1</th>\n",
       "      <td>FINAL</td>\n",
       "      <td>2010</td>\n",
       "      <td>MARCH/APRIL</td>\n",
       "      <td>SHORE</td>\n",
       "      <td>INLAND</td>\n",
       "      <td>CATFISHES</td>\n",
       "      <td>FRESHWATER CATFISHES</td>\n",
       "      <td>35600</td>\n",
       "      <td>63.5</td>\n",
       "      <td>0</td>\n",
       "      <td>.</td>\n",
       "      <td>60656</td>\n",
       "      <td>68.6</td>\n",
       "      <td>FINAL</td>\n",
       "      <td>730139</td>\n",
       "      <td>19.1</td>\n",
       "    </tr>\n",
       "    <tr>\n",
       "      <th>2</th>\n",
       "      <td>FINAL</td>\n",
       "      <td>2010</td>\n",
       "      <td>MARCH/APRIL</td>\n",
       "      <td>SHORE</td>\n",
       "      <td>INLAND</td>\n",
       "      <td>OTHER FISHES</td>\n",
       "      <td>OTHER FISHES</td>\n",
       "      <td>53567</td>\n",
       "      <td>60.7</td>\n",
       "      <td>0</td>\n",
       "      <td>.</td>\n",
       "      <td>284146</td>\n",
       "      <td>58.3</td>\n",
       "      <td>FINAL</td>\n",
       "      <td>730139</td>\n",
       "      <td>19.1</td>\n",
       "    </tr>\n",
       "    <tr>\n",
       "      <th>3</th>\n",
       "      <td>FINAL</td>\n",
       "      <td>2010</td>\n",
       "      <td>MARCH/APRIL</td>\n",
       "      <td>SHORE</td>\n",
       "      <td>INLAND</td>\n",
       "      <td>TEMPERATE BASSES</td>\n",
       "      <td>STRIPED BASS</td>\n",
       "      <td>0</td>\n",
       "      <td>.</td>\n",
       "      <td>0</td>\n",
       "      <td>.</td>\n",
       "      <td>714968</td>\n",
       "      <td>84.8</td>\n",
       "      <td>FINAL</td>\n",
       "      <td>730139</td>\n",
       "      <td>19.1</td>\n",
       "    </tr>\n",
       "    <tr>\n",
       "      <th>4</th>\n",
       "      <td>FINAL</td>\n",
       "      <td>2010</td>\n",
       "      <td>MARCH/APRIL</td>\n",
       "      <td>SHORE</td>\n",
       "      <td>INLAND</td>\n",
       "      <td>TEMPERATE BASSES</td>\n",
       "      <td>WHITE PERCH</td>\n",
       "      <td>1313617</td>\n",
       "      <td>60.8</td>\n",
       "      <td>0</td>\n",
       "      <td>.</td>\n",
       "      <td>1302508</td>\n",
       "      <td>82.8</td>\n",
       "      <td>FINAL</td>\n",
       "      <td>730139</td>\n",
       "      <td>19.1</td>\n",
       "    </tr>\n",
       "    <tr>\n",
       "      <th>...</th>\n",
       "      <td>...</td>\n",
       "      <td>...</td>\n",
       "      <td>...</td>\n",
       "      <td>...</td>\n",
       "      <td>...</td>\n",
       "      <td>...</td>\n",
       "      <td>...</td>\n",
       "      <td>...</td>\n",
       "      <td>...</td>\n",
       "      <td>...</td>\n",
       "      <td>...</td>\n",
       "      <td>...</td>\n",
       "      <td>...</td>\n",
       "      <td>...</td>\n",
       "      <td>...</td>\n",
       "      <td>...</td>\n",
       "    </tr>\n",
       "    <tr>\n",
       "      <th>2843</th>\n",
       "      <td>FINAL</td>\n",
       "      <td>2019</td>\n",
       "      <td>NOVEMBER/DECEMBER</td>\n",
       "      <td>PRIVATE/RENTAL BOAT</td>\n",
       "      <td>INLAND</td>\n",
       "      <td>OTHER FISHES</td>\n",
       "      <td>OTHER FISHES</td>\n",
       "      <td>14682</td>\n",
       "      <td>57.5</td>\n",
       "      <td>0</td>\n",
       "      <td>.</td>\n",
       "      <td>298869</td>\n",
       "      <td>18.8</td>\n",
       "      <td>FINAL</td>\n",
       "      <td>225163</td>\n",
       "      <td>21.8</td>\n",
       "    </tr>\n",
       "    <tr>\n",
       "      <th>2844</th>\n",
       "      <td>FINAL</td>\n",
       "      <td>2019</td>\n",
       "      <td>NOVEMBER/DECEMBER</td>\n",
       "      <td>PRIVATE/RENTAL BOAT</td>\n",
       "      <td>INLAND</td>\n",
       "      <td>TEMPERATE BASSES</td>\n",
       "      <td>STRIPED BASS</td>\n",
       "      <td>87647</td>\n",
       "      <td>35.1</td>\n",
       "      <td>31024</td>\n",
       "      <td>38.9</td>\n",
       "      <td>449166</td>\n",
       "      <td>28.8</td>\n",
       "      <td>FINAL</td>\n",
       "      <td>225163</td>\n",
       "      <td>21.8</td>\n",
       "    </tr>\n",
       "    <tr>\n",
       "      <th>2845</th>\n",
       "      <td>FINAL</td>\n",
       "      <td>2019</td>\n",
       "      <td>NOVEMBER/DECEMBER</td>\n",
       "      <td>PRIVATE/RENTAL BOAT</td>\n",
       "      <td>INLAND</td>\n",
       "      <td>TEMPERATE BASSES</td>\n",
       "      <td>WHITE PERCH</td>\n",
       "      <td>30297</td>\n",
       "      <td>64.3</td>\n",
       "      <td>31248</td>\n",
       "      <td>82.7</td>\n",
       "      <td>95671</td>\n",
       "      <td>45.6</td>\n",
       "      <td>FINAL</td>\n",
       "      <td>225163</td>\n",
       "      <td>21.8</td>\n",
       "    </tr>\n",
       "    <tr>\n",
       "      <th>2846</th>\n",
       "      <td>FINAL</td>\n",
       "      <td>2019</td>\n",
       "      <td>NOVEMBER/DECEMBER</td>\n",
       "      <td>PRIVATE/RENTAL BOAT</td>\n",
       "      <td>INLAND</td>\n",
       "      <td>TOADFISHES</td>\n",
       "      <td>TOADFISHES</td>\n",
       "      <td>0</td>\n",
       "      <td>.</td>\n",
       "      <td>0</td>\n",
       "      <td>.</td>\n",
       "      <td>763</td>\n",
       "      <td>69.7</td>\n",
       "      <td>FINAL</td>\n",
       "      <td>225163</td>\n",
       "      <td>21.8</td>\n",
       "    </tr>\n",
       "    <tr>\n",
       "      <th>2847</th>\n",
       "      <td>FINAL</td>\n",
       "      <td>2019</td>\n",
       "      <td>NOVEMBER/DECEMBER</td>\n",
       "      <td>PRIVATE/RENTAL BOAT</td>\n",
       "      <td>INLAND</td>\n",
       "      <td>WRASSES</td>\n",
       "      <td>TAUTOG</td>\n",
       "      <td>736</td>\n",
       "      <td>72.8</td>\n",
       "      <td>0</td>\n",
       "      <td>.</td>\n",
       "      <td>16441</td>\n",
       "      <td>78</td>\n",
       "      <td>FINAL</td>\n",
       "      <td>225163</td>\n",
       "      <td>21.8</td>\n",
       "    </tr>\n",
       "  </tbody>\n",
       "</table>\n",
       "<p>2848 rows × 16 columns</p>\n",
       "</div>"
      ],
      "text/plain": [
       "     Estimate Status_x  Year               Wave         Fishing Mode  \\\n",
       "0                FINAL  2010        MARCH/APRIL                SHORE   \n",
       "1                FINAL  2010        MARCH/APRIL                SHORE   \n",
       "2                FINAL  2010        MARCH/APRIL                SHORE   \n",
       "3                FINAL  2010        MARCH/APRIL                SHORE   \n",
       "4                FINAL  2010        MARCH/APRIL                SHORE   \n",
       "...                ...   ...                ...                  ...   \n",
       "2843             FINAL  2019  NOVEMBER/DECEMBER  PRIVATE/RENTAL BOAT   \n",
       "2844             FINAL  2019  NOVEMBER/DECEMBER  PRIVATE/RENTAL BOAT   \n",
       "2845             FINAL  2019  NOVEMBER/DECEMBER  PRIVATE/RENTAL BOAT   \n",
       "2846             FINAL  2019  NOVEMBER/DECEMBER  PRIVATE/RENTAL BOAT   \n",
       "2847             FINAL  2019  NOVEMBER/DECEMBER  PRIVATE/RENTAL BOAT   \n",
       "\n",
       "     Fishing Area         Species Group             Sub Group  \\\n",
       "0          INLAND  CARTILAGINOUS FISHES           SKATES/RAYS   \n",
       "1          INLAND             CATFISHES  FRESHWATER CATFISHES   \n",
       "2          INLAND          OTHER FISHES          OTHER FISHES   \n",
       "3          INLAND      TEMPERATE BASSES          STRIPED BASS   \n",
       "4          INLAND      TEMPERATE BASSES           WHITE PERCH   \n",
       "...           ...                   ...                   ...   \n",
       "2843       INLAND          OTHER FISHES          OTHER FISHES   \n",
       "2844       INLAND      TEMPERATE BASSES          STRIPED BASS   \n",
       "2845       INLAND      TEMPERATE BASSES           WHITE PERCH   \n",
       "2846       INLAND            TOADFISHES            TOADFISHES   \n",
       "2847       INLAND               WRASSES                TAUTOG   \n",
       "\n",
       "      Observed Harvest (A) PSE_x  Reported Harvest (B1) PSE.1  \\\n",
       "0                        0     .                      0     .   \n",
       "1                    35600  63.5                      0     .   \n",
       "2                    53567  60.7                      0     .   \n",
       "3                        0     .                      0     .   \n",
       "4                  1313617  60.8                      0     .   \n",
       "...                    ...   ...                    ...   ...   \n",
       "2843                 14682  57.5                      0     .   \n",
       "2844                 87647  35.1                  31024  38.9   \n",
       "2845                 30297  64.3                  31248  82.7   \n",
       "2846                     0     .                      0     .   \n",
       "2847                   736  72.8                      0     .   \n",
       "\n",
       "      Released Alive (B2)  PSE.2 Estimate Status_y  Angler Trips PSE_y  \n",
       "0                   10143  105.8             FINAL        730139  19.1  \n",
       "1                   60656   68.6             FINAL        730139  19.1  \n",
       "2                  284146   58.3             FINAL        730139  19.1  \n",
       "3                  714968   84.8             FINAL        730139  19.1  \n",
       "4                 1302508   82.8             FINAL        730139  19.1  \n",
       "...                   ...    ...               ...           ...   ...  \n",
       "2843               298869   18.8             FINAL        225163  21.8  \n",
       "2844               449166   28.8             FINAL        225163  21.8  \n",
       "2845                95671   45.6             FINAL        225163  21.8  \n",
       "2846                  763   69.7             FINAL        225163  21.8  \n",
       "2847                16441     78             FINAL        225163  21.8  \n",
       "\n",
       "[2848 rows x 16 columns]"
      ]
     },
     "execution_count": 4,
     "metadata": {},
     "output_type": "execute_result"
    }
   ],
   "source": [
    "df = pd.merge(data, catch_effort, how='left', on=['Year', 'Wave', 'Fishing Mode', 'Fishing Area'])\n",
    "df"
   ]
  },
  {
   "cell_type": "code",
   "execution_count": 5,
   "metadata": {},
   "outputs": [],
   "source": [
    "df.rename(columns = {'Observed Harvest (A)':'A', 'Reported Harvest (B1)':'B1', 'Released Alive (B2)':'B2'}, inplace = True) "
   ]
  },
  {
   "cell_type": "code",
   "execution_count": 6,
   "metadata": {
    "scrolled": true
   },
   "outputs": [
    {
     "name": "stdout",
     "output_type": "stream",
     "text": [
      "<class 'pandas.core.frame.DataFrame'>\n",
      "Int64Index: 2848 entries, 0 to 2847\n",
      "Data columns (total 16 columns):\n",
      " #   Column             Non-Null Count  Dtype \n",
      "---  ------             --------------  ----- \n",
      " 0   Estimate Status_x  2848 non-null   object\n",
      " 1   Year               2848 non-null   int64 \n",
      " 2   Wave               2848 non-null   object\n",
      " 3   Fishing Mode       2848 non-null   object\n",
      " 4   Fishing Area       2848 non-null   object\n",
      " 5   Species Group      2848 non-null   object\n",
      " 6   Sub Group          2848 non-null   object\n",
      " 7   A                  2848 non-null   int64 \n",
      " 8   PSE_x              2848 non-null   object\n",
      " 9   B1                 2848 non-null   int64 \n",
      " 10  PSE.1              2848 non-null   object\n",
      " 11  B2                 2848 non-null   int64 \n",
      " 12  PSE.2              2848 non-null   object\n",
      " 13  Estimate Status_y  2848 non-null   object\n",
      " 14  Angler Trips       2848 non-null   int64 \n",
      " 15  PSE_y              2848 non-null   object\n",
      "dtypes: int64(5), object(11)\n",
      "memory usage: 378.2+ KB\n",
      "None\n"
     ]
    }
   ],
   "source": [
    "print(df.info())"
   ]
  },
  {
   "cell_type": "code",
   "execution_count": 7,
   "metadata": {},
   "outputs": [],
   "source": [
    "## Eploring data...\n",
    "\n",
    "#Columns: Year - Year\n",
    "#    Wave - 2 month period \n",
    "#   Fishing Mode - where fishing took place (from shore or type of boat)\n",
    "#   Fishing Area - inland (but not freshwater), near-shore (within 3 miles of shore), and off-shore (over 3 miles from shore)\n",
    "#   Species Group - Type of fish\n",
    "#   Subgroup - More specific description of fish\n",
    "#   A - Observed Harvest - NOAA official observed\n",
    "#   PSE - Percent standard error. Error over 50 indicates a pretty unreliable number\n",
    "#   B1 - Reported Harvest - Fisher reported but was not observed by NOAA\n",
    "#   B2 - Released Alive - fish were caught and released\n",
    "#   Angler Trips - number of trips reported to NOAA \n",
    "#   PSE_y - Percent standard error in angler trip number"
   ]
  },
  {
   "cell_type": "code",
   "execution_count": 8,
   "metadata": {
    "scrolled": true
   },
   "outputs": [
    {
     "data": {
      "text/html": [
       "<div>\n",
       "<style scoped>\n",
       "    .dataframe tbody tr th:only-of-type {\n",
       "        vertical-align: middle;\n",
       "    }\n",
       "\n",
       "    .dataframe tbody tr th {\n",
       "        vertical-align: top;\n",
       "    }\n",
       "\n",
       "    .dataframe thead th {\n",
       "        text-align: right;\n",
       "    }\n",
       "</style>\n",
       "<table border=\"1\" class=\"dataframe\">\n",
       "  <thead>\n",
       "    <tr style=\"text-align: right;\">\n",
       "      <th></th>\n",
       "      <th>Estimate Status_x</th>\n",
       "      <th>Year</th>\n",
       "      <th>Wave</th>\n",
       "      <th>Fishing Mode</th>\n",
       "      <th>Fishing Area</th>\n",
       "      <th>Species Group</th>\n",
       "      <th>Sub Group</th>\n",
       "      <th>A</th>\n",
       "      <th>PSE_x</th>\n",
       "      <th>B1</th>\n",
       "      <th>PSE.1</th>\n",
       "      <th>B2</th>\n",
       "      <th>PSE.2</th>\n",
       "      <th>Estimate Status_y</th>\n",
       "      <th>Angler Trips</th>\n",
       "      <th>PSE_y</th>\n",
       "      <th>total</th>\n",
       "    </tr>\n",
       "  </thead>\n",
       "  <tbody>\n",
       "    <tr>\n",
       "      <th>0</th>\n",
       "      <td>FINAL</td>\n",
       "      <td>2010</td>\n",
       "      <td>MARCH/APRIL</td>\n",
       "      <td>SHORE</td>\n",
       "      <td>INLAND</td>\n",
       "      <td>CARTILAGINOUS FISHES</td>\n",
       "      <td>SKATES/RAYS</td>\n",
       "      <td>0</td>\n",
       "      <td>.</td>\n",
       "      <td>0</td>\n",
       "      <td>.</td>\n",
       "      <td>10143</td>\n",
       "      <td>105.8</td>\n",
       "      <td>FINAL</td>\n",
       "      <td>730139</td>\n",
       "      <td>19.1</td>\n",
       "      <td>10143</td>\n",
       "    </tr>\n",
       "    <tr>\n",
       "      <th>1</th>\n",
       "      <td>FINAL</td>\n",
       "      <td>2010</td>\n",
       "      <td>MARCH/APRIL</td>\n",
       "      <td>SHORE</td>\n",
       "      <td>INLAND</td>\n",
       "      <td>CATFISHES</td>\n",
       "      <td>FRESHWATER CATFISHES</td>\n",
       "      <td>35600</td>\n",
       "      <td>63.5</td>\n",
       "      <td>0</td>\n",
       "      <td>.</td>\n",
       "      <td>60656</td>\n",
       "      <td>68.6</td>\n",
       "      <td>FINAL</td>\n",
       "      <td>730139</td>\n",
       "      <td>19.1</td>\n",
       "      <td>96256</td>\n",
       "    </tr>\n",
       "    <tr>\n",
       "      <th>2</th>\n",
       "      <td>FINAL</td>\n",
       "      <td>2010</td>\n",
       "      <td>MARCH/APRIL</td>\n",
       "      <td>SHORE</td>\n",
       "      <td>INLAND</td>\n",
       "      <td>OTHER FISHES</td>\n",
       "      <td>OTHER FISHES</td>\n",
       "      <td>53567</td>\n",
       "      <td>60.7</td>\n",
       "      <td>0</td>\n",
       "      <td>.</td>\n",
       "      <td>284146</td>\n",
       "      <td>58.3</td>\n",
       "      <td>FINAL</td>\n",
       "      <td>730139</td>\n",
       "      <td>19.1</td>\n",
       "      <td>337713</td>\n",
       "    </tr>\n",
       "    <tr>\n",
       "      <th>3</th>\n",
       "      <td>FINAL</td>\n",
       "      <td>2010</td>\n",
       "      <td>MARCH/APRIL</td>\n",
       "      <td>SHORE</td>\n",
       "      <td>INLAND</td>\n",
       "      <td>TEMPERATE BASSES</td>\n",
       "      <td>STRIPED BASS</td>\n",
       "      <td>0</td>\n",
       "      <td>.</td>\n",
       "      <td>0</td>\n",
       "      <td>.</td>\n",
       "      <td>714968</td>\n",
       "      <td>84.8</td>\n",
       "      <td>FINAL</td>\n",
       "      <td>730139</td>\n",
       "      <td>19.1</td>\n",
       "      <td>714968</td>\n",
       "    </tr>\n",
       "    <tr>\n",
       "      <th>4</th>\n",
       "      <td>FINAL</td>\n",
       "      <td>2010</td>\n",
       "      <td>MARCH/APRIL</td>\n",
       "      <td>SHORE</td>\n",
       "      <td>INLAND</td>\n",
       "      <td>TEMPERATE BASSES</td>\n",
       "      <td>WHITE PERCH</td>\n",
       "      <td>1313617</td>\n",
       "      <td>60.8</td>\n",
       "      <td>0</td>\n",
       "      <td>.</td>\n",
       "      <td>1302508</td>\n",
       "      <td>82.8</td>\n",
       "      <td>FINAL</td>\n",
       "      <td>730139</td>\n",
       "      <td>19.1</td>\n",
       "      <td>2616125</td>\n",
       "    </tr>\n",
       "    <tr>\n",
       "      <th>...</th>\n",
       "      <td>...</td>\n",
       "      <td>...</td>\n",
       "      <td>...</td>\n",
       "      <td>...</td>\n",
       "      <td>...</td>\n",
       "      <td>...</td>\n",
       "      <td>...</td>\n",
       "      <td>...</td>\n",
       "      <td>...</td>\n",
       "      <td>...</td>\n",
       "      <td>...</td>\n",
       "      <td>...</td>\n",
       "      <td>...</td>\n",
       "      <td>...</td>\n",
       "      <td>...</td>\n",
       "      <td>...</td>\n",
       "      <td>...</td>\n",
       "    </tr>\n",
       "    <tr>\n",
       "      <th>2843</th>\n",
       "      <td>FINAL</td>\n",
       "      <td>2019</td>\n",
       "      <td>NOVEMBER/DECEMBER</td>\n",
       "      <td>PRIVATE/RENTAL BOAT</td>\n",
       "      <td>INLAND</td>\n",
       "      <td>OTHER FISHES</td>\n",
       "      <td>OTHER FISHES</td>\n",
       "      <td>14682</td>\n",
       "      <td>57.5</td>\n",
       "      <td>0</td>\n",
       "      <td>.</td>\n",
       "      <td>298869</td>\n",
       "      <td>18.8</td>\n",
       "      <td>FINAL</td>\n",
       "      <td>225163</td>\n",
       "      <td>21.8</td>\n",
       "      <td>313551</td>\n",
       "    </tr>\n",
       "    <tr>\n",
       "      <th>2844</th>\n",
       "      <td>FINAL</td>\n",
       "      <td>2019</td>\n",
       "      <td>NOVEMBER/DECEMBER</td>\n",
       "      <td>PRIVATE/RENTAL BOAT</td>\n",
       "      <td>INLAND</td>\n",
       "      <td>TEMPERATE BASSES</td>\n",
       "      <td>STRIPED BASS</td>\n",
       "      <td>87647</td>\n",
       "      <td>35.1</td>\n",
       "      <td>31024</td>\n",
       "      <td>38.9</td>\n",
       "      <td>449166</td>\n",
       "      <td>28.8</td>\n",
       "      <td>FINAL</td>\n",
       "      <td>225163</td>\n",
       "      <td>21.8</td>\n",
       "      <td>567837</td>\n",
       "    </tr>\n",
       "    <tr>\n",
       "      <th>2845</th>\n",
       "      <td>FINAL</td>\n",
       "      <td>2019</td>\n",
       "      <td>NOVEMBER/DECEMBER</td>\n",
       "      <td>PRIVATE/RENTAL BOAT</td>\n",
       "      <td>INLAND</td>\n",
       "      <td>TEMPERATE BASSES</td>\n",
       "      <td>WHITE PERCH</td>\n",
       "      <td>30297</td>\n",
       "      <td>64.3</td>\n",
       "      <td>31248</td>\n",
       "      <td>82.7</td>\n",
       "      <td>95671</td>\n",
       "      <td>45.6</td>\n",
       "      <td>FINAL</td>\n",
       "      <td>225163</td>\n",
       "      <td>21.8</td>\n",
       "      <td>157216</td>\n",
       "    </tr>\n",
       "    <tr>\n",
       "      <th>2846</th>\n",
       "      <td>FINAL</td>\n",
       "      <td>2019</td>\n",
       "      <td>NOVEMBER/DECEMBER</td>\n",
       "      <td>PRIVATE/RENTAL BOAT</td>\n",
       "      <td>INLAND</td>\n",
       "      <td>TOADFISHES</td>\n",
       "      <td>TOADFISHES</td>\n",
       "      <td>0</td>\n",
       "      <td>.</td>\n",
       "      <td>0</td>\n",
       "      <td>.</td>\n",
       "      <td>763</td>\n",
       "      <td>69.7</td>\n",
       "      <td>FINAL</td>\n",
       "      <td>225163</td>\n",
       "      <td>21.8</td>\n",
       "      <td>763</td>\n",
       "    </tr>\n",
       "    <tr>\n",
       "      <th>2847</th>\n",
       "      <td>FINAL</td>\n",
       "      <td>2019</td>\n",
       "      <td>NOVEMBER/DECEMBER</td>\n",
       "      <td>PRIVATE/RENTAL BOAT</td>\n",
       "      <td>INLAND</td>\n",
       "      <td>WRASSES</td>\n",
       "      <td>TAUTOG</td>\n",
       "      <td>736</td>\n",
       "      <td>72.8</td>\n",
       "      <td>0</td>\n",
       "      <td>.</td>\n",
       "      <td>16441</td>\n",
       "      <td>78</td>\n",
       "      <td>FINAL</td>\n",
       "      <td>225163</td>\n",
       "      <td>21.8</td>\n",
       "      <td>17177</td>\n",
       "    </tr>\n",
       "  </tbody>\n",
       "</table>\n",
       "<p>2848 rows × 17 columns</p>\n",
       "</div>"
      ],
      "text/plain": [
       "     Estimate Status_x  Year               Wave         Fishing Mode  \\\n",
       "0                FINAL  2010        MARCH/APRIL                SHORE   \n",
       "1                FINAL  2010        MARCH/APRIL                SHORE   \n",
       "2                FINAL  2010        MARCH/APRIL                SHORE   \n",
       "3                FINAL  2010        MARCH/APRIL                SHORE   \n",
       "4                FINAL  2010        MARCH/APRIL                SHORE   \n",
       "...                ...   ...                ...                  ...   \n",
       "2843             FINAL  2019  NOVEMBER/DECEMBER  PRIVATE/RENTAL BOAT   \n",
       "2844             FINAL  2019  NOVEMBER/DECEMBER  PRIVATE/RENTAL BOAT   \n",
       "2845             FINAL  2019  NOVEMBER/DECEMBER  PRIVATE/RENTAL BOAT   \n",
       "2846             FINAL  2019  NOVEMBER/DECEMBER  PRIVATE/RENTAL BOAT   \n",
       "2847             FINAL  2019  NOVEMBER/DECEMBER  PRIVATE/RENTAL BOAT   \n",
       "\n",
       "     Fishing Area         Species Group             Sub Group        A PSE_x  \\\n",
       "0          INLAND  CARTILAGINOUS FISHES           SKATES/RAYS        0     .   \n",
       "1          INLAND             CATFISHES  FRESHWATER CATFISHES    35600  63.5   \n",
       "2          INLAND          OTHER FISHES          OTHER FISHES    53567  60.7   \n",
       "3          INLAND      TEMPERATE BASSES          STRIPED BASS        0     .   \n",
       "4          INLAND      TEMPERATE BASSES           WHITE PERCH  1313617  60.8   \n",
       "...           ...                   ...                   ...      ...   ...   \n",
       "2843       INLAND          OTHER FISHES          OTHER FISHES    14682  57.5   \n",
       "2844       INLAND      TEMPERATE BASSES          STRIPED BASS    87647  35.1   \n",
       "2845       INLAND      TEMPERATE BASSES           WHITE PERCH    30297  64.3   \n",
       "2846       INLAND            TOADFISHES            TOADFISHES        0     .   \n",
       "2847       INLAND               WRASSES                TAUTOG      736  72.8   \n",
       "\n",
       "         B1 PSE.1       B2  PSE.2 Estimate Status_y  Angler Trips PSE_y  \\\n",
       "0         0     .    10143  105.8             FINAL        730139  19.1   \n",
       "1         0     .    60656   68.6             FINAL        730139  19.1   \n",
       "2         0     .   284146   58.3             FINAL        730139  19.1   \n",
       "3         0     .   714968   84.8             FINAL        730139  19.1   \n",
       "4         0     .  1302508   82.8             FINAL        730139  19.1   \n",
       "...     ...   ...      ...    ...               ...           ...   ...   \n",
       "2843      0     .   298869   18.8             FINAL        225163  21.8   \n",
       "2844  31024  38.9   449166   28.8             FINAL        225163  21.8   \n",
       "2845  31248  82.7    95671   45.6             FINAL        225163  21.8   \n",
       "2846      0     .      763   69.7             FINAL        225163  21.8   \n",
       "2847      0     .    16441     78             FINAL        225163  21.8   \n",
       "\n",
       "        total  \n",
       "0       10143  \n",
       "1       96256  \n",
       "2      337713  \n",
       "3      714968  \n",
       "4     2616125  \n",
       "...       ...  \n",
       "2843   313551  \n",
       "2844   567837  \n",
       "2845   157216  \n",
       "2846      763  \n",
       "2847    17177  \n",
       "\n",
       "[2848 rows x 17 columns]"
      ]
     },
     "execution_count": 8,
     "metadata": {},
     "output_type": "execute_result"
    }
   ],
   "source": [
    "df['total'] = df.A + df.B1 + df.B2\n",
    "#Total - Observed Harvest + Reported Harvest + Released Alive\n",
    "df"
   ]
  },
  {
   "cell_type": "code",
   "execution_count": 9,
   "metadata": {},
   "outputs": [
    {
     "data": {
      "text/html": [
       "<div>\n",
       "<style scoped>\n",
       "    .dataframe tbody tr th:only-of-type {\n",
       "        vertical-align: middle;\n",
       "    }\n",
       "\n",
       "    .dataframe tbody tr th {\n",
       "        vertical-align: top;\n",
       "    }\n",
       "\n",
       "    .dataframe thead th {\n",
       "        text-align: right;\n",
       "    }\n",
       "</style>\n",
       "<table border=\"1\" class=\"dataframe\">\n",
       "  <thead>\n",
       "    <tr style=\"text-align: right;\">\n",
       "      <th></th>\n",
       "      <th>Year</th>\n",
       "      <th>Wave</th>\n",
       "      <th>Fishing Mode</th>\n",
       "      <th>Fishing Area</th>\n",
       "      <th>Species Group</th>\n",
       "      <th>Sub Group</th>\n",
       "      <th>A</th>\n",
       "      <th>PSE_x</th>\n",
       "      <th>B1</th>\n",
       "      <th>PSE.1</th>\n",
       "      <th>B2</th>\n",
       "      <th>PSE.2</th>\n",
       "      <th>Angler Trips</th>\n",
       "      <th>PSE_y</th>\n",
       "      <th>total</th>\n",
       "    </tr>\n",
       "  </thead>\n",
       "  <tbody>\n",
       "    <tr>\n",
       "      <th>0</th>\n",
       "      <td>2010</td>\n",
       "      <td>MARCH/APRIL</td>\n",
       "      <td>SHORE</td>\n",
       "      <td>INLAND</td>\n",
       "      <td>CARTILAGINOUS FISHES</td>\n",
       "      <td>SKATES/RAYS</td>\n",
       "      <td>0</td>\n",
       "      <td>.</td>\n",
       "      <td>0</td>\n",
       "      <td>.</td>\n",
       "      <td>10143</td>\n",
       "      <td>105.8</td>\n",
       "      <td>730139</td>\n",
       "      <td>19.1</td>\n",
       "      <td>10143</td>\n",
       "    </tr>\n",
       "    <tr>\n",
       "      <th>1</th>\n",
       "      <td>2010</td>\n",
       "      <td>MARCH/APRIL</td>\n",
       "      <td>SHORE</td>\n",
       "      <td>INLAND</td>\n",
       "      <td>CATFISHES</td>\n",
       "      <td>FRESHWATER CATFISHES</td>\n",
       "      <td>35600</td>\n",
       "      <td>63.5</td>\n",
       "      <td>0</td>\n",
       "      <td>.</td>\n",
       "      <td>60656</td>\n",
       "      <td>68.6</td>\n",
       "      <td>730139</td>\n",
       "      <td>19.1</td>\n",
       "      <td>96256</td>\n",
       "    </tr>\n",
       "    <tr>\n",
       "      <th>2</th>\n",
       "      <td>2010</td>\n",
       "      <td>MARCH/APRIL</td>\n",
       "      <td>SHORE</td>\n",
       "      <td>INLAND</td>\n",
       "      <td>OTHER FISHES</td>\n",
       "      <td>OTHER FISHES</td>\n",
       "      <td>53567</td>\n",
       "      <td>60.7</td>\n",
       "      <td>0</td>\n",
       "      <td>.</td>\n",
       "      <td>284146</td>\n",
       "      <td>58.3</td>\n",
       "      <td>730139</td>\n",
       "      <td>19.1</td>\n",
       "      <td>337713</td>\n",
       "    </tr>\n",
       "    <tr>\n",
       "      <th>3</th>\n",
       "      <td>2010</td>\n",
       "      <td>MARCH/APRIL</td>\n",
       "      <td>SHORE</td>\n",
       "      <td>INLAND</td>\n",
       "      <td>TEMPERATE BASSES</td>\n",
       "      <td>STRIPED BASS</td>\n",
       "      <td>0</td>\n",
       "      <td>.</td>\n",
       "      <td>0</td>\n",
       "      <td>.</td>\n",
       "      <td>714968</td>\n",
       "      <td>84.8</td>\n",
       "      <td>730139</td>\n",
       "      <td>19.1</td>\n",
       "      <td>714968</td>\n",
       "    </tr>\n",
       "    <tr>\n",
       "      <th>4</th>\n",
       "      <td>2010</td>\n",
       "      <td>MARCH/APRIL</td>\n",
       "      <td>SHORE</td>\n",
       "      <td>INLAND</td>\n",
       "      <td>TEMPERATE BASSES</td>\n",
       "      <td>WHITE PERCH</td>\n",
       "      <td>1313617</td>\n",
       "      <td>60.8</td>\n",
       "      <td>0</td>\n",
       "      <td>.</td>\n",
       "      <td>1302508</td>\n",
       "      <td>82.8</td>\n",
       "      <td>730139</td>\n",
       "      <td>19.1</td>\n",
       "      <td>2616125</td>\n",
       "    </tr>\n",
       "    <tr>\n",
       "      <th>...</th>\n",
       "      <td>...</td>\n",
       "      <td>...</td>\n",
       "      <td>...</td>\n",
       "      <td>...</td>\n",
       "      <td>...</td>\n",
       "      <td>...</td>\n",
       "      <td>...</td>\n",
       "      <td>...</td>\n",
       "      <td>...</td>\n",
       "      <td>...</td>\n",
       "      <td>...</td>\n",
       "      <td>...</td>\n",
       "      <td>...</td>\n",
       "      <td>...</td>\n",
       "      <td>...</td>\n",
       "    </tr>\n",
       "    <tr>\n",
       "      <th>2843</th>\n",
       "      <td>2019</td>\n",
       "      <td>NOVEMBER/DECEMBER</td>\n",
       "      <td>PRIVATE/RENTAL BOAT</td>\n",
       "      <td>INLAND</td>\n",
       "      <td>OTHER FISHES</td>\n",
       "      <td>OTHER FISHES</td>\n",
       "      <td>14682</td>\n",
       "      <td>57.5</td>\n",
       "      <td>0</td>\n",
       "      <td>.</td>\n",
       "      <td>298869</td>\n",
       "      <td>18.8</td>\n",
       "      <td>225163</td>\n",
       "      <td>21.8</td>\n",
       "      <td>313551</td>\n",
       "    </tr>\n",
       "    <tr>\n",
       "      <th>2844</th>\n",
       "      <td>2019</td>\n",
       "      <td>NOVEMBER/DECEMBER</td>\n",
       "      <td>PRIVATE/RENTAL BOAT</td>\n",
       "      <td>INLAND</td>\n",
       "      <td>TEMPERATE BASSES</td>\n",
       "      <td>STRIPED BASS</td>\n",
       "      <td>87647</td>\n",
       "      <td>35.1</td>\n",
       "      <td>31024</td>\n",
       "      <td>38.9</td>\n",
       "      <td>449166</td>\n",
       "      <td>28.8</td>\n",
       "      <td>225163</td>\n",
       "      <td>21.8</td>\n",
       "      <td>567837</td>\n",
       "    </tr>\n",
       "    <tr>\n",
       "      <th>2845</th>\n",
       "      <td>2019</td>\n",
       "      <td>NOVEMBER/DECEMBER</td>\n",
       "      <td>PRIVATE/RENTAL BOAT</td>\n",
       "      <td>INLAND</td>\n",
       "      <td>TEMPERATE BASSES</td>\n",
       "      <td>WHITE PERCH</td>\n",
       "      <td>30297</td>\n",
       "      <td>64.3</td>\n",
       "      <td>31248</td>\n",
       "      <td>82.7</td>\n",
       "      <td>95671</td>\n",
       "      <td>45.6</td>\n",
       "      <td>225163</td>\n",
       "      <td>21.8</td>\n",
       "      <td>157216</td>\n",
       "    </tr>\n",
       "    <tr>\n",
       "      <th>2846</th>\n",
       "      <td>2019</td>\n",
       "      <td>NOVEMBER/DECEMBER</td>\n",
       "      <td>PRIVATE/RENTAL BOAT</td>\n",
       "      <td>INLAND</td>\n",
       "      <td>TOADFISHES</td>\n",
       "      <td>TOADFISHES</td>\n",
       "      <td>0</td>\n",
       "      <td>.</td>\n",
       "      <td>0</td>\n",
       "      <td>.</td>\n",
       "      <td>763</td>\n",
       "      <td>69.7</td>\n",
       "      <td>225163</td>\n",
       "      <td>21.8</td>\n",
       "      <td>763</td>\n",
       "    </tr>\n",
       "    <tr>\n",
       "      <th>2847</th>\n",
       "      <td>2019</td>\n",
       "      <td>NOVEMBER/DECEMBER</td>\n",
       "      <td>PRIVATE/RENTAL BOAT</td>\n",
       "      <td>INLAND</td>\n",
       "      <td>WRASSES</td>\n",
       "      <td>TAUTOG</td>\n",
       "      <td>736</td>\n",
       "      <td>72.8</td>\n",
       "      <td>0</td>\n",
       "      <td>.</td>\n",
       "      <td>16441</td>\n",
       "      <td>78</td>\n",
       "      <td>225163</td>\n",
       "      <td>21.8</td>\n",
       "      <td>17177</td>\n",
       "    </tr>\n",
       "  </tbody>\n",
       "</table>\n",
       "<p>2848 rows × 15 columns</p>\n",
       "</div>"
      ],
      "text/plain": [
       "      Year               Wave         Fishing Mode Fishing Area  \\\n",
       "0     2010        MARCH/APRIL                SHORE       INLAND   \n",
       "1     2010        MARCH/APRIL                SHORE       INLAND   \n",
       "2     2010        MARCH/APRIL                SHORE       INLAND   \n",
       "3     2010        MARCH/APRIL                SHORE       INLAND   \n",
       "4     2010        MARCH/APRIL                SHORE       INLAND   \n",
       "...    ...                ...                  ...          ...   \n",
       "2843  2019  NOVEMBER/DECEMBER  PRIVATE/RENTAL BOAT       INLAND   \n",
       "2844  2019  NOVEMBER/DECEMBER  PRIVATE/RENTAL BOAT       INLAND   \n",
       "2845  2019  NOVEMBER/DECEMBER  PRIVATE/RENTAL BOAT       INLAND   \n",
       "2846  2019  NOVEMBER/DECEMBER  PRIVATE/RENTAL BOAT       INLAND   \n",
       "2847  2019  NOVEMBER/DECEMBER  PRIVATE/RENTAL BOAT       INLAND   \n",
       "\n",
       "             Species Group             Sub Group        A PSE_x     B1 PSE.1  \\\n",
       "0     CARTILAGINOUS FISHES           SKATES/RAYS        0     .      0     .   \n",
       "1                CATFISHES  FRESHWATER CATFISHES    35600  63.5      0     .   \n",
       "2             OTHER FISHES          OTHER FISHES    53567  60.7      0     .   \n",
       "3         TEMPERATE BASSES          STRIPED BASS        0     .      0     .   \n",
       "4         TEMPERATE BASSES           WHITE PERCH  1313617  60.8      0     .   \n",
       "...                    ...                   ...      ...   ...    ...   ...   \n",
       "2843          OTHER FISHES          OTHER FISHES    14682  57.5      0     .   \n",
       "2844      TEMPERATE BASSES          STRIPED BASS    87647  35.1  31024  38.9   \n",
       "2845      TEMPERATE BASSES           WHITE PERCH    30297  64.3  31248  82.7   \n",
       "2846            TOADFISHES            TOADFISHES        0     .      0     .   \n",
       "2847               WRASSES                TAUTOG      736  72.8      0     .   \n",
       "\n",
       "           B2  PSE.2  Angler Trips PSE_y    total  \n",
       "0       10143  105.8        730139  19.1    10143  \n",
       "1       60656   68.6        730139  19.1    96256  \n",
       "2      284146   58.3        730139  19.1   337713  \n",
       "3      714968   84.8        730139  19.1   714968  \n",
       "4     1302508   82.8        730139  19.1  2616125  \n",
       "...       ...    ...           ...   ...      ...  \n",
       "2843   298869   18.8        225163  21.8   313551  \n",
       "2844   449166   28.8        225163  21.8   567837  \n",
       "2845    95671   45.6        225163  21.8   157216  \n",
       "2846      763   69.7        225163  21.8      763  \n",
       "2847    16441     78        225163  21.8    17177  \n",
       "\n",
       "[2848 rows x 15 columns]"
      ]
     },
     "execution_count": 9,
     "metadata": {},
     "output_type": "execute_result"
    }
   ],
   "source": [
    "df.drop(columns=['Estimate Status_x', 'Estimate Status_y'])\n",
    "#dropping columns with no use"
   ]
  },
  {
   "cell_type": "code",
   "execution_count": 10,
   "metadata": {},
   "outputs": [
    {
     "name": "stdout",
     "output_type": "stream",
     "text": [
      "                           total\n",
      "Species Group Year              \n",
      "BLUEFISH      2010  59604.181818\n",
      "              2011  93045.526316\n",
      "              2012  54356.875000\n",
      "              2013  60151.000000\n",
      "              2014  59101.666667\n",
      "...                          ...\n",
      "WRASSES       2015  35006.750000\n",
      "              2016  44502.083333\n",
      "              2017  48778.062500\n",
      "              2018  19446.750000\n",
      "              2019  55602.846154\n",
      "\n",
      "[202 rows x 1 columns]\n"
     ]
    }
   ],
   "source": [
    "#average number of each fish caught\n",
    "print(df.groupby(['Species Group', 'Year'])[['total']].mean())\n"
   ]
  },
  {
   "cell_type": "code",
   "execution_count": 11,
   "metadata": {},
   "outputs": [
    {
     "data": {
      "text/plain": [
       "Fishing Mode  Species Group           \n",
       "CHARTER BOAT  BLUEFISH                     13404.000000\n",
       "              CARTILAGINOUS FISHES          1495.862069\n",
       "              CATFISHES                     1595.111111\n",
       "              CODS AND HAKES                 755.500000\n",
       "              DOLPHINS                      2377.312500\n",
       "                                              ...      \n",
       "SHORE         SEAROBINS                    53920.800000\n",
       "              TEMPERATE BASSES            743163.018349\n",
       "              TOADFISHES                   42617.208333\n",
       "              TRIGGERFISHES/FILEFISHES     18578.000000\n",
       "              WRASSES                     110915.551724\n",
       "Name: total, Length: 81, dtype: float64"
      ]
     },
     "execution_count": 11,
     "metadata": {},
     "output_type": "execute_result"
    }
   ],
   "source": [
    "means = df.groupby(['Fishing Mode', 'Species Group'])['total'].mean()\n",
    "means\n",
    "\n"
   ]
  },
  {
   "cell_type": "code",
   "execution_count": 12,
   "metadata": {},
   "outputs": [],
   "source": [
    "import numpy as np\n",
    "import matplotlib.mlab as mlab\n",
    "import matplotlib.pyplot as plt"
   ]
  },
  {
   "cell_type": "code",
   "execution_count": 13,
   "metadata": {},
   "outputs": [
    {
     "data": {
      "image/png": "[encoded data removed]",
      "text/plain": [
       "<Figure size 432x288 with 1 Axes>"
      ]
     },
     "metadata": {
      "needs_background": "light"
     },
     "output_type": "display_data"
    }
   ],
   "source": [
    "df.total.hist(bins = 10)\n",
    "plt.xlabel('total catch')\n",
    "plt.ylabel('Count')\n",
    "plt.title('Distribution of catch values');"
   ]
  },
  {
   "cell_type": "code",
   "execution_count": 14,
   "metadata": {},
   "outputs": [
    {
     "data": {
      "text/plain": [
       "count    2.848000e+03\n",
       "mean     1.599457e+05\n",
       "std      5.131743e+05\n",
       "min      0.000000e+00\n",
       "25%      5.690000e+02\n",
       "50%      6.299500e+03\n",
       "75%      6.777200e+04\n",
       "max      7.622662e+06\n",
       "Name: total, dtype: float64"
      ]
     },
     "execution_count": 14,
     "metadata": {},
     "output_type": "execute_result"
    }
   ],
   "source": [
    "df.total.describe()"
   ]
  },
  {
   "cell_type": "code",
   "execution_count": 15,
   "metadata": {},
   "outputs": [
    {
     "data": {
      "text/plain": [
       "array(['INLAND', 'OCEAN (> 3 MI)', 'OCEAN (<= 3 MI)'], dtype=object)"
      ]
     },
     "execution_count": 15,
     "metadata": {},
     "output_type": "execute_result"
    }
   ],
   "source": [
    "df['Fishing Area'].unique()"
   ]
  },
  {
   "cell_type": "code",
   "execution_count": 16,
   "metadata": {},
   "outputs": [
    {
     "data": {
      "text/plain": [
       "array(['CARTILAGINOUS FISHES', 'CATFISHES', 'OTHER FISHES',\n",
       "       'TEMPERATE BASSES', 'CODS AND HAKES', 'EELS', 'SEA BASSES',\n",
       "       'WRASSES', 'FLOUNDERS', 'HERRINGS', 'BLUEFISH', 'PUFFERS', 'DRUMS',\n",
       "       'TOADFISHES', 'SEAROBINS', 'DOLPHINS', 'TUNAS AND MACKERELS',\n",
       "       'JACKS', 'PORGIES', 'TRIGGERFISHES/FILEFISHES', 'GRUNTS',\n",
       "       'SCULPINS'], dtype=object)"
      ]
     },
     "execution_count": 16,
     "metadata": {},
     "output_type": "execute_result"
    }
   ],
   "source": [
    "df['Species Group'].unique()"
   ]
  },
  {
   "cell_type": "code",
   "execution_count": 17,
   "metadata": {},
   "outputs": [
    {
     "data": {
      "text/plain": [
       "array(['SKATES/RAYS', 'FRESHWATER CATFISHES', 'OTHER FISHES',\n",
       "       'STRIPED BASS', 'WHITE PERCH', 'ATLANTIC COD', 'EELS',\n",
       "       'BLACK SEA BASS', 'CUNNER', 'TAUTOG', 'SUMMER FLOUNDER',\n",
       "       'HERRINGS', 'BLUEFISH', 'DOGFISH SHARKS', 'OTHER SHARKS',\n",
       "       'PUFFERS', 'ATLANTIC CROAKER', 'SPOT', 'TOADFISHES', 'SEAROBINS',\n",
       "       'DOLPHINS', 'OTHER TUNAS/MACKERELS', 'KINGFISHES', 'WEAKFISH',\n",
       "       'RED HAKE', 'GREATER AMBERJACK', 'SPANISH MACKEREL', 'BLACK DRUM',\n",
       "       'RED DRUM', 'SHEEPSHEAD', 'SCUP', 'TRIGGERFISHES/FILEFISHES',\n",
       "       'LITTLE TUNNY/ATLANTIC BONITO', 'SPOTTED SEATROUT', 'PIGFISH',\n",
       "       'ATLANTIC MACKEREL', 'SILVER PERCH', 'OTHER CODS/HAKES', 'POLLOCK',\n",
       "       'OTHER FLOUNDERS', 'PINFISHES', 'SCULPINS', 'EPINEPHELUS GROUPERS',\n",
       "       'OTHER SEA BASSES', 'OTHER PORGIES', 'MYCTEROPERCA GROUPERS',\n",
       "       'SOUTHERN FLOUNDER', 'OTHER TEMPERATE BASSES', 'OTHER JACKS',\n",
       "       'WINTER FLOUNDER', 'OTHER DRUM', 'KING MACKEREL',\n",
       "       'FLORIDA POMPANO', 'OTHER GRUNTS'], dtype=object)"
      ]
     },
     "execution_count": 17,
     "metadata": {},
     "output_type": "execute_result"
    }
   ],
   "source": [
    "df['Sub Group'].unique()"
   ]
  },
  {
   "cell_type": "code",
   "execution_count": 18,
   "metadata": {},
   "outputs": [
    {
     "data": {
      "image/png": "[encoded data removed]",
      "text/plain": [
       "<Figure size 432x288 with 1 Axes>"
      ]
     },
     "metadata": {
      "needs_background": "light"
     },
     "output_type": "display_data"
    }
   ],
   "source": [
    "df.plot(x='Angler Trips', y='total', kind='scatter');"
   ]
  },
  {
   "cell_type": "code",
   "execution_count": 19,
   "metadata": {},
   "outputs": [
    {
     "data": {
      "text/plain": [
       "<matplotlib.collections.PathCollection at 0x1854063f880>"
      ]
     },
     "execution_count": 19,
     "metadata": {},
     "output_type": "execute_result"
    },
    {
     "data": {
      "image/png": "[encoded data removed]",
      "text/plain": [
       "<Figure size 432x288 with 1 Axes>"
      ]
     },
     "metadata": {
      "needs_background": "light"
     },
     "output_type": "display_data"
    }
   ],
   "source": [
    "plt.scatter(df.Year, df.total)"
   ]
  },
  {
   "cell_type": "code",
   "execution_count": 20,
   "metadata": {
    "scrolled": true
   },
   "outputs": [],
   "source": [
    "df.rename(columns={\"Species Group\": \"SpecGroup\", \"Sub Group\": \"SubGroup\"}, inplace=True)"
   ]
  },
  {
   "cell_type": "code",
   "execution_count": 21,
   "metadata": {},
   "outputs": [
    {
     "data": {
      "text/html": [
       "<div>\n",
       "<style scoped>\n",
       "    .dataframe tbody tr th:only-of-type {\n",
       "        vertical-align: middle;\n",
       "    }\n",
       "\n",
       "    .dataframe tbody tr th {\n",
       "        vertical-align: top;\n",
       "    }\n",
       "\n",
       "    .dataframe thead th {\n",
       "        text-align: right;\n",
       "    }\n",
       "</style>\n",
       "<table border=\"1\" class=\"dataframe\">\n",
       "  <thead>\n",
       "    <tr style=\"text-align: right;\">\n",
       "      <th></th>\n",
       "      <th>count</th>\n",
       "      <th>%</th>\n",
       "    </tr>\n",
       "  </thead>\n",
       "  <tbody>\n",
       "    <tr>\n",
       "      <th>Estimate Status_x</th>\n",
       "      <td>0</td>\n",
       "      <td>0.0</td>\n",
       "    </tr>\n",
       "    <tr>\n",
       "      <th>Angler Trips</th>\n",
       "      <td>0</td>\n",
       "      <td>0.0</td>\n",
       "    </tr>\n",
       "    <tr>\n",
       "      <th>Estimate Status_y</th>\n",
       "      <td>0</td>\n",
       "      <td>0.0</td>\n",
       "    </tr>\n",
       "    <tr>\n",
       "      <th>PSE.2</th>\n",
       "      <td>0</td>\n",
       "      <td>0.0</td>\n",
       "    </tr>\n",
       "    <tr>\n",
       "      <th>B2</th>\n",
       "      <td>0</td>\n",
       "      <td>0.0</td>\n",
       "    </tr>\n",
       "    <tr>\n",
       "      <th>PSE.1</th>\n",
       "      <td>0</td>\n",
       "      <td>0.0</td>\n",
       "    </tr>\n",
       "    <tr>\n",
       "      <th>B1</th>\n",
       "      <td>0</td>\n",
       "      <td>0.0</td>\n",
       "    </tr>\n",
       "    <tr>\n",
       "      <th>PSE_y</th>\n",
       "      <td>0</td>\n",
       "      <td>0.0</td>\n",
       "    </tr>\n",
       "    <tr>\n",
       "      <th>PSE_x</th>\n",
       "      <td>0</td>\n",
       "      <td>0.0</td>\n",
       "    </tr>\n",
       "    <tr>\n",
       "      <th>SubGroup</th>\n",
       "      <td>0</td>\n",
       "      <td>0.0</td>\n",
       "    </tr>\n",
       "    <tr>\n",
       "      <th>SpecGroup</th>\n",
       "      <td>0</td>\n",
       "      <td>0.0</td>\n",
       "    </tr>\n",
       "    <tr>\n",
       "      <th>Fishing Area</th>\n",
       "      <td>0</td>\n",
       "      <td>0.0</td>\n",
       "    </tr>\n",
       "    <tr>\n",
       "      <th>Fishing Mode</th>\n",
       "      <td>0</td>\n",
       "      <td>0.0</td>\n",
       "    </tr>\n",
       "    <tr>\n",
       "      <th>Wave</th>\n",
       "      <td>0</td>\n",
       "      <td>0.0</td>\n",
       "    </tr>\n",
       "    <tr>\n",
       "      <th>Year</th>\n",
       "      <td>0</td>\n",
       "      <td>0.0</td>\n",
       "    </tr>\n",
       "    <tr>\n",
       "      <th>A</th>\n",
       "      <td>0</td>\n",
       "      <td>0.0</td>\n",
       "    </tr>\n",
       "    <tr>\n",
       "      <th>total</th>\n",
       "      <td>0</td>\n",
       "      <td>0.0</td>\n",
       "    </tr>\n",
       "  </tbody>\n",
       "</table>\n",
       "</div>"
      ],
      "text/plain": [
       "                   count    %\n",
       "Estimate Status_x      0  0.0\n",
       "Angler Trips           0  0.0\n",
       "Estimate Status_y      0  0.0\n",
       "PSE.2                  0  0.0\n",
       "B2                     0  0.0\n",
       "PSE.1                  0  0.0\n",
       "B1                     0  0.0\n",
       "PSE_y                  0  0.0\n",
       "PSE_x                  0  0.0\n",
       "SubGroup               0  0.0\n",
       "SpecGroup              0  0.0\n",
       "Fishing Area           0  0.0\n",
       "Fishing Mode           0  0.0\n",
       "Wave                   0  0.0\n",
       "Year                   0  0.0\n",
       "A                      0  0.0\n",
       "total                  0  0.0"
      ]
     },
     "execution_count": 21,
     "metadata": {},
     "output_type": "execute_result"
    }
   ],
   "source": [
    "missing = pd.concat([df.isnull().sum(), 100 * df.isnull().mean()], axis=1)\n",
    "missing.columns=['count', '%']\n",
    "missing.sort_values(by='count')"
   ]
  },
  {
   "cell_type": "code",
   "execution_count": 22,
   "metadata": {},
   "outputs": [
    {
     "data": {
      "text/html": [
       "<div>\n",
       "<style scoped>\n",
       "    .dataframe tbody tr th:only-of-type {\n",
       "        vertical-align: middle;\n",
       "    }\n",
       "\n",
       "    .dataframe tbody tr th {\n",
       "        vertical-align: top;\n",
       "    }\n",
       "\n",
       "    .dataframe thead th {\n",
       "        text-align: right;\n",
       "    }\n",
       "</style>\n",
       "<table border=\"1\" class=\"dataframe\">\n",
       "  <thead>\n",
       "    <tr style=\"text-align: right;\">\n",
       "      <th></th>\n",
       "      <th>Estimate Status_x</th>\n",
       "      <th>Year</th>\n",
       "      <th>Wave</th>\n",
       "      <th>Fishing Mode</th>\n",
       "      <th>Fishing Area</th>\n",
       "      <th>SpecGroup</th>\n",
       "      <th>SubGroup</th>\n",
       "      <th>A</th>\n",
       "      <th>PSE_x</th>\n",
       "      <th>B1</th>\n",
       "      <th>PSE.1</th>\n",
       "      <th>B2</th>\n",
       "      <th>PSE.2</th>\n",
       "      <th>Estimate Status_y</th>\n",
       "      <th>Angler Trips</th>\n",
       "      <th>PSE_y</th>\n",
       "      <th>total</th>\n",
       "    </tr>\n",
       "  </thead>\n",
       "  <tbody>\n",
       "  </tbody>\n",
       "</table>\n",
       "</div>"
      ],
      "text/plain": [
       "Empty DataFrame\n",
       "Columns: [Estimate Status_x, Year, Wave, Fishing Mode, Fishing Area, SpecGroup, SubGroup, A, PSE_x, B1, PSE.1, B2, PSE.2, Estimate Status_y, Angler Trips, PSE_y, total]\n",
       "Index: []"
      ]
     },
     "execution_count": 22,
     "metadata": {},
     "output_type": "execute_result"
    }
   ],
   "source": [
    "df[df['SpecGroup'] == 'Drums']"
   ]
  },
  {
   "cell_type": "code",
   "execution_count": 23,
   "metadata": {},
   "outputs": [
    {
     "data": {
      "text/plain": [
       "DRUMS                       529\n",
       "TEMPERATE BASSES            348\n",
       "CARTILAGINOUS FISHES        272\n",
       "FLOUNDERS                   219\n",
       "SEA BASSES                  190\n",
       "BLUEFISH                    185\n",
       "OTHER FISHES                156\n",
       "WRASSES                     125\n",
       "TUNAS AND MACKERELS         109\n",
       "CATFISHES                   105\n",
       "SEAROBINS                   103\n",
       "TOADFISHES                  100\n",
       "EELS                         67\n",
       "PUFFERS                      66\n",
       "HERRINGS                     65\n",
       "CODS AND HAKES               55\n",
       "PORGIES                      54\n",
       "DOLPHINS                     40\n",
       "TRIGGERFISHES/FILEFISHES     32\n",
       "GRUNTS                       14\n",
       "JACKS                        13\n",
       "SCULPINS                      1\n",
       "Name: SpecGroup, dtype: int64"
      ]
     },
     "execution_count": 23,
     "metadata": {},
     "output_type": "execute_result"
    }
   ],
   "source": [
    "df['SpecGroup'].value_counts()"
   ]
  },
  {
   "cell_type": "code",
   "execution_count": 24,
   "metadata": {},
   "outputs": [
    {
     "data": {
      "image/png": "[encoded data removed]",
      "text/plain": [
       "<Figure size 864x576 with 2 Axes>"
      ]
     },
     "metadata": {
      "needs_background": "light"
     },
     "output_type": "display_data"
    }
   ],
   "source": [
    "fig, ax = plt.subplots(1, 2, figsize=(12, 8))\n",
    "#Specify a horizontal barplot ('barh') as kind of plot (kind=)\n",
    "df.SpecGroup.value_counts().plot(kind='barh', ax=ax[0])\n",
    "#Give the plot a helpful title of 'Region'\n",
    "ax[0].set_title('Species Group')\n",
    "#Label the xaxis 'Count'\n",
    "ax[0].set_xlabel('Count')\n",
    "#Specify a horizontal barplot ('barh') as kind of plot (kind=)\n",
    "df.SubGroup.value_counts().plot(kind='barh', ax=ax[1])\n",
    "#Give the plot a helpful title of 'state'\n",
    "ax[1].set_title('Sub Group')\n",
    "#Label the xaxis 'Count'\n",
    "ax[1].set_xlabel('Count')\n",
    "#Give the subplots a little \"breathing room\" with a wspace of 0.5\n",
    "plt.subplots_adjust(wspace=0.5);\n"
   ]
  },
  {
   "cell_type": "code",
   "execution_count": 25,
   "metadata": {},
   "outputs": [
    {
     "data": {
      "text/plain": [
       "Fishing Mode  SpecGroup               \n",
       "CHARTER BOAT  BLUEFISH                     13404.000000\n",
       "              CARTILAGINOUS FISHES          1495.862069\n",
       "              CATFISHES                     1595.111111\n",
       "              CODS AND HAKES                 755.500000\n",
       "              DOLPHINS                      2377.312500\n",
       "                                              ...      \n",
       "SHORE         SEAROBINS                    53920.800000\n",
       "              TEMPERATE BASSES            743163.018349\n",
       "              TOADFISHES                   42617.208333\n",
       "              TRIGGERFISHES/FILEFISHES     18578.000000\n",
       "              WRASSES                     110915.551724\n",
       "Name: total, Length: 81, dtype: float64"
      ]
     },
     "execution_count": 25,
     "metadata": {},
     "output_type": "execute_result"
    }
   ],
   "source": [
    "means2 = df.groupby(['Fishing Mode', 'SpecGroup'])['total'].mean()\n",
    "means2\n"
   ]
  },
  {
   "cell_type": "code",
   "execution_count": 26,
   "metadata": {},
   "outputs": [],
   "source": [
    "#seaborn. look at examples and sub in your colums. try logistical regression, random forest, then cluster. jump ahead to machine learning section."
   ]
  },
  {
   "cell_type": "code",
   "execution_count": 27,
   "metadata": {},
   "outputs": [],
   "source": [
    "import seaborn as sns\n",
    "from sklearn.preprocessing import LabelEncoder \n",
    "from sklearn.cluster import KMeans"
   ]
  },
  {
   "cell_type": "code",
   "execution_count": 28,
   "metadata": {
    "scrolled": true
   },
   "outputs": [
    {
     "data": {
      "text/html": [
       "<div>\n",
       "<style scoped>\n",
       "    .dataframe tbody tr th:only-of-type {\n",
       "        vertical-align: middle;\n",
       "    }\n",
       "\n",
       "    .dataframe tbody tr th {\n",
       "        vertical-align: top;\n",
       "    }\n",
       "\n",
       "    .dataframe thead th {\n",
       "        text-align: right;\n",
       "    }\n",
       "</style>\n",
       "<table border=\"1\" class=\"dataframe\">\n",
       "  <thead>\n",
       "    <tr style=\"text-align: right;\">\n",
       "      <th></th>\n",
       "      <th>Estimate Status_x</th>\n",
       "      <th>Year</th>\n",
       "      <th>Wave</th>\n",
       "      <th>Fishing Mode</th>\n",
       "      <th>Fishing Area</th>\n",
       "      <th>SpecGroup</th>\n",
       "      <th>SubGroup</th>\n",
       "      <th>A</th>\n",
       "      <th>PSE_x</th>\n",
       "      <th>B1</th>\n",
       "      <th>PSE.1</th>\n",
       "      <th>B2</th>\n",
       "      <th>PSE.2</th>\n",
       "      <th>Estimate Status_y</th>\n",
       "      <th>Angler Trips</th>\n",
       "      <th>PSE_y</th>\n",
       "      <th>total</th>\n",
       "    </tr>\n",
       "  </thead>\n",
       "  <tbody>\n",
       "    <tr>\n",
       "      <th>0</th>\n",
       "      <td>FINAL</td>\n",
       "      <td>2010</td>\n",
       "      <td>MARCH/APRIL</td>\n",
       "      <td>SHORE</td>\n",
       "      <td>INLAND</td>\n",
       "      <td>CARTILAGINOUS FISHES</td>\n",
       "      <td>SKATES/RAYS</td>\n",
       "      <td>0</td>\n",
       "      <td>.</td>\n",
       "      <td>0</td>\n",
       "      <td>.</td>\n",
       "      <td>10143</td>\n",
       "      <td>105.8</td>\n",
       "      <td>FINAL</td>\n",
       "      <td>730139</td>\n",
       "      <td>19.1</td>\n",
       "      <td>10143</td>\n",
       "    </tr>\n",
       "    <tr>\n",
       "      <th>1</th>\n",
       "      <td>FINAL</td>\n",
       "      <td>2010</td>\n",
       "      <td>MARCH/APRIL</td>\n",
       "      <td>SHORE</td>\n",
       "      <td>INLAND</td>\n",
       "      <td>CATFISHES</td>\n",
       "      <td>FRESHWATER CATFISHES</td>\n",
       "      <td>35600</td>\n",
       "      <td>63.5</td>\n",
       "      <td>0</td>\n",
       "      <td>.</td>\n",
       "      <td>60656</td>\n",
       "      <td>68.6</td>\n",
       "      <td>FINAL</td>\n",
       "      <td>730139</td>\n",
       "      <td>19.1</td>\n",
       "      <td>96256</td>\n",
       "    </tr>\n",
       "    <tr>\n",
       "      <th>2</th>\n",
       "      <td>FINAL</td>\n",
       "      <td>2010</td>\n",
       "      <td>MARCH/APRIL</td>\n",
       "      <td>SHORE</td>\n",
       "      <td>INLAND</td>\n",
       "      <td>OTHER FISHES</td>\n",
       "      <td>OTHER FISHES</td>\n",
       "      <td>53567</td>\n",
       "      <td>60.7</td>\n",
       "      <td>0</td>\n",
       "      <td>.</td>\n",
       "      <td>284146</td>\n",
       "      <td>58.3</td>\n",
       "      <td>FINAL</td>\n",
       "      <td>730139</td>\n",
       "      <td>19.1</td>\n",
       "      <td>337713</td>\n",
       "    </tr>\n",
       "    <tr>\n",
       "      <th>3</th>\n",
       "      <td>FINAL</td>\n",
       "      <td>2010</td>\n",
       "      <td>MARCH/APRIL</td>\n",
       "      <td>SHORE</td>\n",
       "      <td>INLAND</td>\n",
       "      <td>TEMPERATE BASSES</td>\n",
       "      <td>STRIPED BASS</td>\n",
       "      <td>0</td>\n",
       "      <td>.</td>\n",
       "      <td>0</td>\n",
       "      <td>.</td>\n",
       "      <td>714968</td>\n",
       "      <td>84.8</td>\n",
       "      <td>FINAL</td>\n",
       "      <td>730139</td>\n",
       "      <td>19.1</td>\n",
       "      <td>714968</td>\n",
       "    </tr>\n",
       "    <tr>\n",
       "      <th>4</th>\n",
       "      <td>FINAL</td>\n",
       "      <td>2010</td>\n",
       "      <td>MARCH/APRIL</td>\n",
       "      <td>SHORE</td>\n",
       "      <td>INLAND</td>\n",
       "      <td>TEMPERATE BASSES</td>\n",
       "      <td>WHITE PERCH</td>\n",
       "      <td>1313617</td>\n",
       "      <td>60.8</td>\n",
       "      <td>0</td>\n",
       "      <td>.</td>\n",
       "      <td>1302508</td>\n",
       "      <td>82.8</td>\n",
       "      <td>FINAL</td>\n",
       "      <td>730139</td>\n",
       "      <td>19.1</td>\n",
       "      <td>2616125</td>\n",
       "    </tr>\n",
       "  </tbody>\n",
       "</table>\n",
       "</div>"
      ],
      "text/plain": [
       "  Estimate Status_x  Year         Wave Fishing Mode Fishing Area  \\\n",
       "0             FINAL  2010  MARCH/APRIL        SHORE       INLAND   \n",
       "1             FINAL  2010  MARCH/APRIL        SHORE       INLAND   \n",
       "2             FINAL  2010  MARCH/APRIL        SHORE       INLAND   \n",
       "3             FINAL  2010  MARCH/APRIL        SHORE       INLAND   \n",
       "4             FINAL  2010  MARCH/APRIL        SHORE       INLAND   \n",
       "\n",
       "              SpecGroup              SubGroup        A PSE_x  B1 PSE.1  \\\n",
       "0  CARTILAGINOUS FISHES           SKATES/RAYS        0     .   0     .   \n",
       "1             CATFISHES  FRESHWATER CATFISHES    35600  63.5   0     .   \n",
       "2          OTHER FISHES          OTHER FISHES    53567  60.7   0     .   \n",
       "3      TEMPERATE BASSES          STRIPED BASS        0     .   0     .   \n",
       "4      TEMPERATE BASSES           WHITE PERCH  1313617  60.8   0     .   \n",
       "\n",
       "        B2  PSE.2 Estimate Status_y  Angler Trips PSE_y    total  \n",
       "0    10143  105.8             FINAL        730139  19.1    10143  \n",
       "1    60656   68.6             FINAL        730139  19.1    96256  \n",
       "2   284146   58.3             FINAL        730139  19.1   337713  \n",
       "3   714968   84.8             FINAL        730139  19.1   714968  \n",
       "4  1302508   82.8             FINAL        730139  19.1  2616125  "
      ]
     },
     "execution_count": 28,
     "metadata": {},
     "output_type": "execute_result"
    }
   ],
   "source": [
    "df.head()"
   ]
  },
  {
   "cell_type": "code",
   "execution_count": 29,
   "metadata": {},
   "outputs": [
    {
     "name": "stdout",
     "output_type": "stream",
     "text": [
      "<class 'pandas.core.frame.DataFrame'>\n",
      "Int64Index: 2848 entries, 0 to 2847\n",
      "Data columns (total 17 columns):\n",
      " #   Column             Non-Null Count  Dtype \n",
      "---  ------             --------------  ----- \n",
      " 0   Estimate Status_x  2848 non-null   object\n",
      " 1   Year               2848 non-null   int64 \n",
      " 2   Wave               2848 non-null   object\n",
      " 3   Fishing Mode       2848 non-null   object\n",
      " 4   Fishing Area       2848 non-null   object\n",
      " 5   SpecGroup          2848 non-null   object\n",
      " 6   SubGroup           2848 non-null   object\n",
      " 7   A                  2848 non-null   int64 \n",
      " 8   PSE_x              2848 non-null   object\n",
      " 9   B1                 2848 non-null   int64 \n",
      " 10  PSE.1              2848 non-null   object\n",
      " 11  B2                 2848 non-null   int64 \n",
      " 12  PSE.2              2848 non-null   object\n",
      " 13  Estimate Status_y  2848 non-null   object\n",
      " 14  Angler Trips       2848 non-null   int64 \n",
      " 15  PSE_y              2848 non-null   object\n",
      " 16  total              2848 non-null   int64 \n",
      "dtypes: int64(6), object(11)\n",
      "memory usage: 400.5+ KB\n",
      "None\n"
     ]
    }
   ],
   "source": [
    "print(df.info())"
   ]
  },
  {
   "cell_type": "code",
   "execution_count": 30,
   "metadata": {},
   "outputs": [
    {
     "name": "stdout",
     "output_type": "stream",
     "text": [
      "<class 'pandas.core.frame.DataFrame'>\n",
      "Int64Index: 2848 entries, 0 to 2847\n",
      "Data columns (total 17 columns):\n",
      " #   Column             Non-Null Count  Dtype \n",
      "---  ------             --------------  ----- \n",
      " 0   Estimate Status_x  2848 non-null   object\n",
      " 1   Year               2848 non-null   int64 \n",
      " 2   Wave               2848 non-null   object\n",
      " 3   Fishing Mode       2848 non-null   int32 \n",
      " 4   Fishing Area       2848 non-null   int32 \n",
      " 5   SpecGroup          2848 non-null   int32 \n",
      " 6   SubGroup           2848 non-null   object\n",
      " 7   A                  2848 non-null   int64 \n",
      " 8   PSE_x              2848 non-null   object\n",
      " 9   B1                 2848 non-null   int64 \n",
      " 10  PSE.1              2848 non-null   object\n",
      " 11  B2                 2848 non-null   int64 \n",
      " 12  PSE.2              2848 non-null   object\n",
      " 13  Estimate Status_y  2848 non-null   object\n",
      " 14  Angler Trips       2848 non-null   int64 \n",
      " 15  PSE_y              2848 non-null   object\n",
      " 16  total              2848 non-null   int64 \n",
      "dtypes: int32(3), int64(6), object(8)\n",
      "memory usage: 367.1+ KB\n",
      "None\n"
     ]
    }
   ],
   "source": [
    "#transform 'Fishing Mode' and 'Fishing Area' colums into numerical values\n",
    "le = LabelEncoder().fit(df['Fishing Mode'])\n",
    "df['Fishing Mode'] = le.transform(df['Fishing Mode'])\n",
    "\n",
    "ld = LabelEncoder().fit(df['Fishing Area'])\n",
    "df['Fishing Area'] = ld.transform(df['Fishing Area'])\n",
    "\n",
    "ls = LabelEncoder().fit(df['SpecGroup'])\n",
    "df['SpecGroup'] = ls.transform(df['SpecGroup'])\n",
    "print(df.info())"
   ]
  },
  {
   "cell_type": "code",
   "execution_count": 31,
   "metadata": {},
   "outputs": [
    {
     "name": "stdout",
     "output_type": "stream",
     "text": [
      "{'BLUEFISH': 0, 'CARTILAGINOUS FISHES': 1, 'CATFISHES': 2, 'CODS AND HAKES': 3, 'DOLPHINS': 4, 'DRUMS': 5, 'EELS': 6, 'FLOUNDERS': 7, 'GRUNTS': 8, 'HERRINGS': 9, 'JACKS': 10, 'OTHER FISHES': 11, 'PORGIES': 12, 'PUFFERS': 13, 'SCULPINS': 14, 'SEA BASSES': 15, 'SEAROBINS': 16, 'TEMPERATE BASSES': 17, 'TOADFISHES': 18, 'TRIGGERFISHES/FILEFISHES': 19, 'TUNAS AND MACKERELS': 20, 'WRASSES': 21}\n"
     ]
    }
   ],
   "source": [
    "#tried to make a dictionary to show the old name of 'Fishing Area : New Key, but it's not working\n",
    "L = list(ls.inverse_transform(df['SpecGroup']))\n",
    "d = dict(zip(ls.classes_, ls.transform(ls.classes_)))\n",
    "print (d)"
   ]
  },
  {
   "cell_type": "code",
   "execution_count": 32,
   "metadata": {},
   "outputs": [
    {
     "name": "stdout",
     "output_type": "stream",
     "text": [
      "{'INLAND': 0, 'OCEAN (<= 3 MI)': 1, 'OCEAN (> 3 MI)': 2}\n"
     ]
    }
   ],
   "source": [
    "#tried to make a dictionary to show the old name of 'Fishing Area : New Key, but it's not working\n",
    "L = list(ld.inverse_transform(df['Fishing Area']))\n",
    "d = dict(zip(ld.classes_, ld.transform(ld.classes_)))\n",
    "print (d)"
   ]
  },
  {
   "cell_type": "code",
   "execution_count": 33,
   "metadata": {},
   "outputs": [
    {
     "name": "stdout",
     "output_type": "stream",
     "text": [
      "{'CHARTER BOAT': 0, 'PARTY BOAT': 1, 'PRIVATE/RENTAL BOAT': 2, 'SHORE': 3}\n"
     ]
    }
   ],
   "source": [
    "L = list(le.inverse_transform(df['Fishing Mode']))\n",
    "d = dict(zip(le.classes_, le.transform(le.classes_)))\n",
    "print (d)"
   ]
  },
  {
   "cell_type": "code",
   "execution_count": 34,
   "metadata": {},
   "outputs": [
    {
     "name": "stderr",
     "output_type": "stream",
     "text": [
      "C:\\Users\\hindm\\Anaconda\\lib\\site-packages\\seaborn\\_decorators.py:36: FutureWarning: Pass the following variables as keyword args: x, y. From version 0.12, the only valid positional argument will be `data`, and passing other arguments without an explicit keyword will result in an error or misinterpretation.\n",
      "  warnings.warn(\n"
     ]
    },
    {
     "data": {
      "text/plain": [
       "<AxesSubplot:xlabel='Year', ylabel='total'>"
      ]
     },
     "execution_count": 34,
     "metadata": {},
     "output_type": "execute_result"
    },
    {
     "data": {
      "image/png": "[encoded data removed]",
      "text/plain": [
       "<Figure size 432x288 with 1 Axes>"
      ]
     },
     "metadata": {
      "needs_background": "light"
     },
     "output_type": "display_data"
    }
   ],
   "source": [
    "#violin plot\n",
    "sns.violinplot('Year','total',data=df,palette='coolwarm')"
   ]
  },
  {
   "cell_type": "code",
   "execution_count": 35,
   "metadata": {},
   "outputs": [
    {
     "data": {
      "text/plain": [
       "<AxesSubplot:xlabel='Year', ylabel='count'>"
      ]
     },
     "execution_count": 35,
     "metadata": {},
     "output_type": "execute_result"
    },
    {
     "data": {
      "image/png": "[encoded data removed]",
      "text/plain": [
       "<Figure size 432x288 with 1 Axes>"
      ]
     },
     "metadata": {
      "needs_background": "light"
     },
     "output_type": "display_data"
    }
   ],
   "source": [
    "#I think this is a useless graph. count plot of fishing mode in each year. but the counts in the dataframe each have their own number of trips recorded?\n",
    "sns.countplot(x='Year',hue='Fishing Mode',data=df)"
   ]
  },
  {
   "cell_type": "code",
   "execution_count": 36,
   "metadata": {},
   "outputs": [
    {
     "data": {
      "text/plain": [
       "<seaborn.axisgrid.FacetGrid at 0x185409bc3d0>"
      ]
     },
     "execution_count": 36,
     "metadata": {},
     "output_type": "execute_result"
    },
    {
     "data": {
      "image/png": "[encoded data removed]",
      "text/plain": [
       "<Figure size 2160x216 with 10 Axes>"
      ]
     },
     "metadata": {
      "needs_background": "light"
     },
     "output_type": "display_data"
    }
   ],
   "source": [
    "g = sns.FacetGrid(col='Year',hue='Fishing Mode',data=df,legend_out=False)\n",
    "g.map(sns.scatterplot,'Fishing Mode','total')"
   ]
  },
  {
   "cell_type": "code",
   "execution_count": 37,
   "metadata": {},
   "outputs": [
    {
     "data": {
      "text/plain": [
       "<seaborn.axisgrid.FacetGrid at 0x18543925d90>"
      ]
     },
     "execution_count": 37,
     "metadata": {},
     "output_type": "execute_result"
    },
    {
     "data": {
      "image/png": "[encoded data removed]",
      "text/plain": [
       "<Figure size 864x216 with 4 Axes>"
      ]
     },
     "metadata": {
      "needs_background": "light"
     },
     "output_type": "display_data"
    }
   ],
   "source": [
    "g = sns.FacetGrid(col='Fishing Mode',data=df,legend_out=False)\n",
    "g.map(sns.scatterplot,'Angler Trips','total')"
   ]
  },
  {
   "cell_type": "code",
   "execution_count": 38,
   "metadata": {},
   "outputs": [
    {
     "data": {
      "text/plain": [
       "<seaborn.axisgrid.FacetGrid at 0x185433cfa00>"
      ]
     },
     "execution_count": 38,
     "metadata": {},
     "output_type": "execute_result"
    },
    {
     "data": {
      "image/png": "[encoded data removed]",
      "text/plain": [
       "<Figure size 648x216 with 3 Axes>"
      ]
     },
     "metadata": {
      "needs_background": "light"
     },
     "output_type": "display_data"
    }
   ],
   "source": [
    "g = sns.FacetGrid(col='Fishing Area',data=df,legend_out=False)\n",
    "g.map(sns.scatterplot,'Angler Trips','total')"
   ]
  },
  {
   "cell_type": "code",
   "execution_count": 39,
   "metadata": {},
   "outputs": [
    {
     "name": "stderr",
     "output_type": "stream",
     "text": [
      "C:\\Users\\hindm\\Anaconda\\lib\\site-packages\\seaborn\\_decorators.py:36: FutureWarning: Pass the following variables as keyword args: x, y. From version 0.12, the only valid positional argument will be `data`, and passing other arguments without an explicit keyword will result in an error or misinterpretation.\n",
      "  warnings.warn(\n"
     ]
    },
    {
     "data": {
      "text/plain": [
       "<AxesSubplot:xlabel='SpecGroup', ylabel='total'>"
      ]
     },
     "execution_count": 39,
     "metadata": {},
     "output_type": "execute_result"
    },
    {
     "data": {
      "image/png": "[encoded data removed]",
      "text/plain": [
       "<Figure size 432x288 with 1 Axes>"
      ]
     },
     "metadata": {
      "needs_background": "light"
     },
     "output_type": "display_data"
    }
   ],
   "source": [
    "sns.boxplot('SpecGroup','total',data=df)"
   ]
  },
  {
   "cell_type": "code",
   "execution_count": 40,
   "metadata": {},
   "outputs": [],
   "source": [
    "#Should I drop fishing area 0? And Fishing modes 0 and 1? How do I figure out for sure which ones those area because my \n",
    "#revers transform dict didnt work.\n",
    "#Also, how can I break out the histograms for each species group? Group 17 aka Temperate Basses overwhelms the other types\n",
    "#of fish caught."
   ]
  },
  {
   "cell_type": "code",
   "execution_count": 41,
   "metadata": {},
   "outputs": [
    {
     "data": {
      "text/plain": [
       "<AxesSubplot:xlabel='total'>"
      ]
     },
     "execution_count": 41,
     "metadata": {},
     "output_type": "execute_result"
    },
    {
     "data": {
      "image/png": "[encoded data removed]",
      "text/plain": [
       "<Figure size 432x288 with 1 Axes>"
      ]
     },
     "metadata": {
      "needs_background": "light"
     },
     "output_type": "display_data"
    }
   ],
   "source": [
    "sns.boxplot(x=df['total'])"
   ]
  },
  {
   "cell_type": "code",
   "execution_count": 42,
   "metadata": {},
   "outputs": [
    {
     "name": "stderr",
     "output_type": "stream",
     "text": [
      "C:\\Users\\hindm\\Anaconda\\lib\\site-packages\\seaborn\\axisgrid.py:645: UserWarning: Using the boxplot function without specifying `order` is likely to produce an incorrect plot.\n",
      "  warnings.warn(warning)\n"
     ]
    },
    {
     "data": {
      "text/plain": [
       "(0.0, 1000000.0)"
      ]
     },
     "execution_count": 42,
     "metadata": {},
     "output_type": "execute_result"
    },
    {
     "data": {
      "image/png": "[encoded data removed]",
      "text/plain": [
       "<Figure size 648x216 with 3 Axes>"
      ]
     },
     "metadata": {
      "needs_background": "light"
     },
     "output_type": "display_data"
    }
   ],
   "source": [
    "g = sns.FacetGrid(col='Fishing Area',data=df,legend_out=False)\n",
    "g.map(sns.boxplot,'total')\n",
    "plt.xlim(0, 1000000)"
   ]
  },
  {
   "cell_type": "code",
   "execution_count": 43,
   "metadata": {},
   "outputs": [
    {
     "name": "stdout",
     "output_type": "stream",
     "text": [
      "[0.29196507 0.12413102 0.34646815 ... 0.00532011 0.31024667 0.27825582]\n"
     ]
    }
   ],
   "source": [
    "#looking for an outlier using z-score\n",
    "from scipy import stats\n",
    "z = np.abs(stats.zscore(df['total']))\n",
    "print(z)"
   ]
  },
  {
   "cell_type": "code",
   "execution_count": 44,
   "metadata": {},
   "outputs": [
    {
     "name": "stdout",
     "output_type": "stream",
     "text": [
      "(array([   4,   68,   90,   94,  149,  152,  160,  182,  260,  459,  543,\n",
      "        598,  644,  654,  662,  712,  722,  723,  733,  734,  781,  791,\n",
      "        792,  841,  866,  867,  875,  886,  888,  894,  941,  944,  952,\n",
      "        953, 1065, 1106, 1123, 1130, 1192, 1194, 1205, 1264, 1296, 1434,\n",
      "       1512, 1513, 1540, 1570, 1623, 1624, 1723, 1724, 1852, 1938, 1954,\n",
      "       2026, 2030, 2042, 2043, 2182, 2364, 2365, 2504, 2698, 2711, 2712,\n",
      "       2727, 2805, 2806], dtype=int64),)\n"
     ]
    }
   ],
   "source": [
    "#set threshold to 3 std deviations\n",
    "threshold = 3\n",
    "print(np.where(z > 3))"
   ]
  },
  {
   "cell_type": "code",
   "execution_count": 45,
   "metadata": {},
   "outputs": [
    {
     "name": "stderr",
     "output_type": "stream",
     "text": [
      "C:\\Users\\hindm\\Anaconda\\lib\\site-packages\\seaborn\\distributions.py:2551: FutureWarning: `distplot` is a deprecated function and will be removed in a future version. Please adapt your code to use either `displot` (a figure-level function with similar flexibility) or `histplot` (an axes-level function for histograms).\n",
      "  warnings.warn(msg, FutureWarning)\n",
      "C:\\Users\\hindm\\Anaconda\\lib\\site-packages\\seaborn\\distributions.py:2551: FutureWarning: `distplot` is a deprecated function and will be removed in a future version. Please adapt your code to use either `displot` (a figure-level function with similar flexibility) or `histplot` (an axes-level function for histograms).\n",
      "  warnings.warn(msg, FutureWarning)\n",
      "C:\\Users\\hindm\\Anaconda\\lib\\site-packages\\seaborn\\distributions.py:2551: FutureWarning: `distplot` is a deprecated function and will be removed in a future version. Please adapt your code to use either `displot` (a figure-level function with similar flexibility) or `histplot` (an axes-level function for histograms).\n",
      "  warnings.warn(msg, FutureWarning)\n"
     ]
    },
    {
     "data": {
      "text/plain": [
       "(0.0, 1000000.0)"
      ]
     },
     "execution_count": 45,
     "metadata": {},
     "output_type": "execute_result"
    },
    {
     "data": {
      "image/png": "[encoded data removed]",
      "text/plain": [
       "<Figure size 648x216 with 3 Axes>"
      ]
     },
     "metadata": {
      "needs_background": "light"
     },
     "output_type": "display_data"
    }
   ],
   "source": [
    "g = sns.FacetGrid(col='Fishing Area',data=df,legend_out=False)\n",
    "g.map(sns.distplot,'total')\n",
    "plt.xlim(0, 1000000)"
   ]
  },
  {
   "cell_type": "code",
   "execution_count": 46,
   "metadata": {},
   "outputs": [
    {
     "data": {
      "text/html": [
       "<div>\n",
       "<style scoped>\n",
       "    .dataframe tbody tr th:only-of-type {\n",
       "        vertical-align: middle;\n",
       "    }\n",
       "\n",
       "    .dataframe tbody tr th {\n",
       "        vertical-align: top;\n",
       "    }\n",
       "\n",
       "    .dataframe thead th {\n",
       "        text-align: right;\n",
       "    }\n",
       "</style>\n",
       "<table border=\"1\" class=\"dataframe\">\n",
       "  <thead>\n",
       "    <tr style=\"text-align: right;\">\n",
       "      <th></th>\n",
       "      <th>Estimate Status_x</th>\n",
       "      <th>Year</th>\n",
       "      <th>Wave</th>\n",
       "      <th>Fishing Mode</th>\n",
       "      <th>Fishing Area</th>\n",
       "      <th>SpecGroup</th>\n",
       "      <th>SubGroup</th>\n",
       "      <th>A</th>\n",
       "      <th>PSE_x</th>\n",
       "      <th>B1</th>\n",
       "      <th>PSE.1</th>\n",
       "      <th>B2</th>\n",
       "      <th>PSE.2</th>\n",
       "      <th>Estimate Status_y</th>\n",
       "      <th>Angler Trips</th>\n",
       "      <th>PSE_y</th>\n",
       "      <th>total</th>\n",
       "      <th>CatchPerTrip</th>\n",
       "    </tr>\n",
       "  </thead>\n",
       "  <tbody>\n",
       "    <tr>\n",
       "      <th>0</th>\n",
       "      <td>FINAL</td>\n",
       "      <td>2010</td>\n",
       "      <td>MARCH/APRIL</td>\n",
       "      <td>3</td>\n",
       "      <td>0</td>\n",
       "      <td>1</td>\n",
       "      <td>SKATES/RAYS</td>\n",
       "      <td>0</td>\n",
       "      <td>.</td>\n",
       "      <td>0</td>\n",
       "      <td>.</td>\n",
       "      <td>10143</td>\n",
       "      <td>105.8</td>\n",
       "      <td>FINAL</td>\n",
       "      <td>730139</td>\n",
       "      <td>19.1</td>\n",
       "      <td>10143</td>\n",
       "      <td>0.013892</td>\n",
       "    </tr>\n",
       "    <tr>\n",
       "      <th>1</th>\n",
       "      <td>FINAL</td>\n",
       "      <td>2010</td>\n",
       "      <td>MARCH/APRIL</td>\n",
       "      <td>3</td>\n",
       "      <td>0</td>\n",
       "      <td>2</td>\n",
       "      <td>FRESHWATER CATFISHES</td>\n",
       "      <td>35600</td>\n",
       "      <td>63.5</td>\n",
       "      <td>0</td>\n",
       "      <td>.</td>\n",
       "      <td>60656</td>\n",
       "      <td>68.6</td>\n",
       "      <td>FINAL</td>\n",
       "      <td>730139</td>\n",
       "      <td>19.1</td>\n",
       "      <td>96256</td>\n",
       "      <td>0.131832</td>\n",
       "    </tr>\n",
       "    <tr>\n",
       "      <th>2</th>\n",
       "      <td>FINAL</td>\n",
       "      <td>2010</td>\n",
       "      <td>MARCH/APRIL</td>\n",
       "      <td>3</td>\n",
       "      <td>0</td>\n",
       "      <td>11</td>\n",
       "      <td>OTHER FISHES</td>\n",
       "      <td>53567</td>\n",
       "      <td>60.7</td>\n",
       "      <td>0</td>\n",
       "      <td>.</td>\n",
       "      <td>284146</td>\n",
       "      <td>58.3</td>\n",
       "      <td>FINAL</td>\n",
       "      <td>730139</td>\n",
       "      <td>19.1</td>\n",
       "      <td>337713</td>\n",
       "      <td>0.462532</td>\n",
       "    </tr>\n",
       "    <tr>\n",
       "      <th>3</th>\n",
       "      <td>FINAL</td>\n",
       "      <td>2010</td>\n",
       "      <td>MARCH/APRIL</td>\n",
       "      <td>3</td>\n",
       "      <td>0</td>\n",
       "      <td>17</td>\n",
       "      <td>STRIPED BASS</td>\n",
       "      <td>0</td>\n",
       "      <td>.</td>\n",
       "      <td>0</td>\n",
       "      <td>.</td>\n",
       "      <td>714968</td>\n",
       "      <td>84.8</td>\n",
       "      <td>FINAL</td>\n",
       "      <td>730139</td>\n",
       "      <td>19.1</td>\n",
       "      <td>714968</td>\n",
       "      <td>0.979222</td>\n",
       "    </tr>\n",
       "    <tr>\n",
       "      <th>4</th>\n",
       "      <td>FINAL</td>\n",
       "      <td>2010</td>\n",
       "      <td>MARCH/APRIL</td>\n",
       "      <td>3</td>\n",
       "      <td>0</td>\n",
       "      <td>17</td>\n",
       "      <td>WHITE PERCH</td>\n",
       "      <td>1313617</td>\n",
       "      <td>60.8</td>\n",
       "      <td>0</td>\n",
       "      <td>.</td>\n",
       "      <td>1302508</td>\n",
       "      <td>82.8</td>\n",
       "      <td>FINAL</td>\n",
       "      <td>730139</td>\n",
       "      <td>19.1</td>\n",
       "      <td>2616125</td>\n",
       "      <td>3.583051</td>\n",
       "    </tr>\n",
       "  </tbody>\n",
       "</table>\n",
       "</div>"
      ],
      "text/plain": [
       "  Estimate Status_x  Year         Wave  Fishing Mode  Fishing Area  SpecGroup  \\\n",
       "0             FINAL  2010  MARCH/APRIL             3             0          1   \n",
       "1             FINAL  2010  MARCH/APRIL             3             0          2   \n",
       "2             FINAL  2010  MARCH/APRIL             3             0         11   \n",
       "3             FINAL  2010  MARCH/APRIL             3             0         17   \n",
       "4             FINAL  2010  MARCH/APRIL             3             0         17   \n",
       "\n",
       "               SubGroup        A PSE_x  B1 PSE.1       B2  PSE.2  \\\n",
       "0           SKATES/RAYS        0     .   0     .    10143  105.8   \n",
       "1  FRESHWATER CATFISHES    35600  63.5   0     .    60656   68.6   \n",
       "2          OTHER FISHES    53567  60.7   0     .   284146   58.3   \n",
       "3          STRIPED BASS        0     .   0     .   714968   84.8   \n",
       "4           WHITE PERCH  1313617  60.8   0     .  1302508   82.8   \n",
       "\n",
       "  Estimate Status_y  Angler Trips PSE_y    total  CatchPerTrip  \n",
       "0             FINAL        730139  19.1    10143      0.013892  \n",
       "1             FINAL        730139  19.1    96256      0.131832  \n",
       "2             FINAL        730139  19.1   337713      0.462532  \n",
       "3             FINAL        730139  19.1   714968      0.979222  \n",
       "4             FINAL        730139  19.1  2616125      3.583051  "
      ]
     },
     "execution_count": 46,
     "metadata": {},
     "output_type": "execute_result"
    }
   ],
   "source": [
    "#Total catch varies such a large amount. I'm going to incorporate a catch per trip column, which divides the total catch\n",
    "#by the number of angler trips recorded.\n",
    "\n",
    "df['CatchPerTrip'] = np.where(df['total'] < 1, df['total'], df['total']/df['Angler Trips'])\n",
    "df.head()"
   ]
  },
  {
   "cell_type": "code",
   "execution_count": 47,
   "metadata": {},
   "outputs": [],
   "source": [
    "floatdf = df.drop(columns=['Estimate Status_x', 'Wave', 'SubGroup','PSE_x', 'PSE.1', 'PSE.2','A','B1','B2','Estimate Status_y', 'PSE_y'])"
   ]
  },
  {
   "cell_type": "code",
   "execution_count": 48,
   "metadata": {},
   "outputs": [
    {
     "data": {
      "text/html": [
       "<div>\n",
       "<style scoped>\n",
       "    .dataframe tbody tr th:only-of-type {\n",
       "        vertical-align: middle;\n",
       "    }\n",
       "\n",
       "    .dataframe tbody tr th {\n",
       "        vertical-align: top;\n",
       "    }\n",
       "\n",
       "    .dataframe thead th {\n",
       "        text-align: right;\n",
       "    }\n",
       "</style>\n",
       "<table border=\"1\" class=\"dataframe\">\n",
       "  <thead>\n",
       "    <tr style=\"text-align: right;\">\n",
       "      <th></th>\n",
       "      <th>Year</th>\n",
       "      <th>Mode</th>\n",
       "      <th>Area</th>\n",
       "      <th>SpecGroup</th>\n",
       "      <th>AnglerTrips</th>\n",
       "      <th>total</th>\n",
       "      <th>CatchPerTrip</th>\n",
       "    </tr>\n",
       "  </thead>\n",
       "  <tbody>\n",
       "    <tr>\n",
       "      <th>0</th>\n",
       "      <td>2010</td>\n",
       "      <td>3</td>\n",
       "      <td>0</td>\n",
       "      <td>1</td>\n",
       "      <td>730139</td>\n",
       "      <td>10143</td>\n",
       "      <td>0.013892</td>\n",
       "    </tr>\n",
       "    <tr>\n",
       "      <th>1</th>\n",
       "      <td>2010</td>\n",
       "      <td>3</td>\n",
       "      <td>0</td>\n",
       "      <td>2</td>\n",
       "      <td>730139</td>\n",
       "      <td>96256</td>\n",
       "      <td>0.131832</td>\n",
       "    </tr>\n",
       "    <tr>\n",
       "      <th>2</th>\n",
       "      <td>2010</td>\n",
       "      <td>3</td>\n",
       "      <td>0</td>\n",
       "      <td>11</td>\n",
       "      <td>730139</td>\n",
       "      <td>337713</td>\n",
       "      <td>0.462532</td>\n",
       "    </tr>\n",
       "    <tr>\n",
       "      <th>3</th>\n",
       "      <td>2010</td>\n",
       "      <td>3</td>\n",
       "      <td>0</td>\n",
       "      <td>17</td>\n",
       "      <td>730139</td>\n",
       "      <td>714968</td>\n",
       "      <td>0.979222</td>\n",
       "    </tr>\n",
       "    <tr>\n",
       "      <th>4</th>\n",
       "      <td>2010</td>\n",
       "      <td>3</td>\n",
       "      <td>0</td>\n",
       "      <td>17</td>\n",
       "      <td>730139</td>\n",
       "      <td>2616125</td>\n",
       "      <td>3.583051</td>\n",
       "    </tr>\n",
       "  </tbody>\n",
       "</table>\n",
       "</div>"
      ],
      "text/plain": [
       "   Year  Mode  Area  SpecGroup  AnglerTrips    total  CatchPerTrip\n",
       "0  2010     3     0          1       730139    10143      0.013892\n",
       "1  2010     3     0          2       730139    96256      0.131832\n",
       "2  2010     3     0         11       730139   337713      0.462532\n",
       "3  2010     3     0         17       730139   714968      0.979222\n",
       "4  2010     3     0         17       730139  2616125      3.583051"
      ]
     },
     "execution_count": 48,
     "metadata": {},
     "output_type": "execute_result"
    }
   ],
   "source": [
    "df = floatdf.rename(columns={\"Fishing Mode\": \"Mode\", \"Fishing Area\": \"Area\", \"Angler Trips\": \"AnglerTrips\"})\n",
    "df.head()"
   ]
  },
  {
   "cell_type": "code",
   "execution_count": 49,
   "metadata": {},
   "outputs": [],
   "source": [
    "from patsy import dmatrices\n",
    "import statsmodels.api as sm"
   ]
  },
  {
   "cell_type": "code",
   "execution_count": 102,
   "metadata": {},
   "outputs": [
    {
     "name": "stdout",
     "output_type": "stream",
     "text": [
      "Training data set length=2301\n",
      "Testing data set length=547\n"
     ]
    }
   ],
   "source": [
    "mask = np.random.rand(len(df)) < 0.8\n",
    "df_train = df[mask]\n",
    "df_test = df[~mask]\n",
    "print('Training data set length='+str(len(df_train)))\n",
    "print('Testing data set length='+str(len(df_test)))"
   ]
  },
  {
   "cell_type": "code",
   "execution_count": 103,
   "metadata": {},
   "outputs": [],
   "source": [
    "expr = \"\"\"CatchPerTrip ~ Mode  + Area \"\"\""
   ]
  },
  {
   "cell_type": "code",
   "execution_count": 104,
   "metadata": {},
   "outputs": [],
   "source": [
    "y_train, X_train = dmatrices(expr, df_train, return_type='dataframe')\n",
    "y_test, X_test = dmatrices(expr, df_test, return_type='dataframe')"
   ]
  },
  {
   "cell_type": "code",
   "execution_count": 105,
   "metadata": {},
   "outputs": [],
   "source": [
    "poisson_training_results = sm.GLM(y_train, X_train, family=sm.families.Poisson()).fit()"
   ]
  },
  {
   "cell_type": "code",
   "execution_count": 106,
   "metadata": {},
   "outputs": [
    {
     "name": "stdout",
     "output_type": "stream",
     "text": [
      "                 Generalized Linear Model Regression Results                  \n",
      "==============================================================================\n",
      "Dep. Variable:           CatchPerTrip   No. Observations:                 2301\n",
      "Model:                            GLM   Df Residuals:                     2298\n",
      "Model Family:                 Poisson   Df Model:                            2\n",
      "Link Function:                    log   Scale:                          1.0000\n",
      "Method:                          IRLS   Log-Likelihood:                -2656.8\n",
      "Date:                Wed, 03 Feb 2021   Deviance:                       4287.2\n",
      "Time:                        13:09:20   Pearson chi2:                 1.20e+04\n",
      "No. Iterations:                     6                                         \n",
      "Covariance Type:            nonrobust                                         \n",
      "==============================================================================\n",
      "                 coef    std err          z      P>|z|      [0.025      0.975]\n",
      "------------------------------------------------------------------------------\n",
      "Intercept     -1.4669      0.044    -33.373      0.000      -1.553      -1.381\n",
      "Mode           0.6280      0.029     21.489      0.000       0.571       0.685\n",
      "Area           1.4442      0.028     50.969      0.000       1.389       1.500\n",
      "==============================================================================\n"
     ]
    }
   ],
   "source": [
    "print(poisson_training_results.summary())"
   ]
  },
  {
   "cell_type": "code",
   "execution_count": 107,
   "metadata": {},
   "outputs": [
    {
     "name": "stdout",
     "output_type": "stream",
     "text": [
      "           mean   mean_se  mean_ci_lower  mean_ci_upper\n",
      "4      1.517440  0.121634       1.296826       1.775584\n",
      "12     3.432464  0.130527       3.185937       3.698067\n",
      "17     0.230647  0.010138       0.211609       0.251398\n",
      "23     0.230647  0.010138       0.211609       0.251398\n",
      "24     0.230647  0.010138       0.211609       0.251398\n",
      "...         ...       ...            ...            ...\n",
      "2832   0.230647  0.010138       0.211609       0.251398\n",
      "2834  14.548614  0.520168      13.564005      15.604695\n",
      "2836  14.548614  0.520168      13.564005      15.604695\n",
      "2837   0.230647  0.010138       0.211609       0.251398\n",
      "2838   0.230647  0.010138       0.211609       0.251398\n",
      "\n",
      "[547 rows x 4 columns]\n"
     ]
    }
   ],
   "source": [
    "poisson_predictions = poisson_training_results.get_prediction(X_test)\n",
    "#.summary_frame() returns a pandas DataFrame\n",
    "predictions_summary_frame = poisson_predictions.summary_frame()\n",
    "print(predictions_summary_frame)"
   ]
  },
  {
   "cell_type": "code",
   "execution_count": 108,
   "metadata": {},
   "outputs": [
    {
     "data": {
      "image/png": "[encoded data removed]",
      "text/plain": [
       "<Figure size 432x288 with 1 Axes>"
      ]
     },
     "metadata": {
      "needs_background": "light"
     },
     "output_type": "display_data"
    }
   ],
   "source": [
    "predicted_counts=predictions_summary_frame['mean']\n",
    "actual_counts = y_test['CatchPerTrip']\n",
    "fig = plt.figure()\n",
    "fig.suptitle('Predicted versus actual catch per trip counts of fish')\n",
    "predicted, = plt.plot(X_test.index, predicted_counts, 'go-', label='Predicted counts', alpha=0.5, linestyle='none') #check\n",
    "actual, = plt.plot(X_test.index, actual_counts, 'ro-', label='Actual counts', alpha=0.5, linestyle='none')\n",
    "plt.legend(handles=[predicted, actual])\n",
    "plt.show()"
   ]
  },
  {
   "cell_type": "code",
   "execution_count": 109,
   "metadata": {},
   "outputs": [
    {
     "name": "stdout",
     "output_type": "stream",
     "text": [
      "Poisson RMSE=69.86937722425375\n"
     ]
    }
   ],
   "source": [
    "print('Poisson RMSE='+str(np.sqrt(np.sum(np.power(np.subtract(predicted_counts,actual_counts),2)))))"
   ]
  },
  {
   "cell_type": "code",
   "execution_count": 110,
   "metadata": {},
   "outputs": [
    {
     "data": {
      "text/plain": [
       "<Figure size 432x288 with 0 Axes>"
      ]
     },
     "metadata": {},
     "output_type": "display_data"
    },
    {
     "data": {
      "image/png": "[encoded data removed]",
      "text/plain": [
       "<Figure size 432x288 with 1 Axes>"
      ]
     },
     "metadata": {
      "needs_background": "light"
     },
     "output_type": "display_data"
    }
   ],
   "source": [
    "plt.clf()\n",
    "fig = plt.figure()\n",
    "fig.suptitle('Scatter plot of Actual versus Predicted counts')\n",
    "plt.scatter(x=predicted_counts, y=actual_counts, marker='.')\n",
    "plt.xlabel('Predicted counts')\n",
    "plt.ylabel('Actual counts')\n",
    "plt.show()"
   ]
  },
  {
   "cell_type": "code",
   "execution_count": 111,
   "metadata": {},
   "outputs": [
    {
     "data": {
      "image/png": "[encoded data removed]",
      "text/plain": [
       "<Figure size 402.375x360 with 1 Axes>"
      ]
     },
     "metadata": {
      "needs_background": "light"
     },
     "output_type": "display_data"
    }
   ],
   "source": [
    "sns.lmplot(x='AnglerTrips', y='total', data=df, hue='Area')\n",
    "plt.show()"
   ]
  },
  {
   "cell_type": "code",
   "execution_count": null,
   "metadata": {},
   "outputs": [],
   "source": [
    "#zero inflated poisson model"
   ]
  },
  {
   "cell_type": "code",
   "execution_count": 112,
   "metadata": {},
   "outputs": [
    {
     "data": {
      "text/html": [
       "<div>\n",
       "<style scoped>\n",
       "    .dataframe tbody tr th:only-of-type {\n",
       "        vertical-align: middle;\n",
       "    }\n",
       "\n",
       "    .dataframe tbody tr th {\n",
       "        vertical-align: top;\n",
       "    }\n",
       "\n",
       "    .dataframe thead th {\n",
       "        text-align: right;\n",
       "    }\n",
       "</style>\n",
       "<table border=\"1\" class=\"dataframe\">\n",
       "  <thead>\n",
       "    <tr style=\"text-align: right;\">\n",
       "      <th></th>\n",
       "      <th>Year</th>\n",
       "      <th>Mode</th>\n",
       "      <th>Area</th>\n",
       "      <th>SpecGroup</th>\n",
       "      <th>AnglerTrips</th>\n",
       "      <th>CatchPerTrip</th>\n",
       "    </tr>\n",
       "    <tr>\n",
       "      <th>total</th>\n",
       "      <th></th>\n",
       "      <th></th>\n",
       "      <th></th>\n",
       "      <th></th>\n",
       "      <th></th>\n",
       "      <th></th>\n",
       "    </tr>\n",
       "  </thead>\n",
       "  <tbody>\n",
       "    <tr>\n",
       "      <th>0</th>\n",
       "      <td>2415</td>\n",
       "      <td>2415</td>\n",
       "      <td>2415</td>\n",
       "      <td>2415</td>\n",
       "      <td>2415</td>\n",
       "      <td>2415</td>\n",
       "    </tr>\n",
       "    <tr>\n",
       "      <th>29</th>\n",
       "      <td>1</td>\n",
       "      <td>1</td>\n",
       "      <td>1</td>\n",
       "      <td>1</td>\n",
       "      <td>1</td>\n",
       "      <td>1</td>\n",
       "    </tr>\n",
       "    <tr>\n",
       "      <th>44</th>\n",
       "      <td>1</td>\n",
       "      <td>1</td>\n",
       "      <td>1</td>\n",
       "      <td>1</td>\n",
       "      <td>1</td>\n",
       "      <td>1</td>\n",
       "    </tr>\n",
       "    <tr>\n",
       "      <th>75</th>\n",
       "      <td>1</td>\n",
       "      <td>1</td>\n",
       "      <td>1</td>\n",
       "      <td>1</td>\n",
       "      <td>1</td>\n",
       "      <td>1</td>\n",
       "    </tr>\n",
       "    <tr>\n",
       "      <th>241</th>\n",
       "      <td>1</td>\n",
       "      <td>1</td>\n",
       "      <td>1</td>\n",
       "      <td>1</td>\n",
       "      <td>1</td>\n",
       "      <td>1</td>\n",
       "    </tr>\n",
       "    <tr>\n",
       "      <th>...</th>\n",
       "      <td>...</td>\n",
       "      <td>...</td>\n",
       "      <td>...</td>\n",
       "      <td>...</td>\n",
       "      <td>...</td>\n",
       "      <td>...</td>\n",
       "    </tr>\n",
       "    <tr>\n",
       "      <th>5044856</th>\n",
       "      <td>1</td>\n",
       "      <td>1</td>\n",
       "      <td>1</td>\n",
       "      <td>1</td>\n",
       "      <td>1</td>\n",
       "      <td>1</td>\n",
       "    </tr>\n",
       "    <tr>\n",
       "      <th>5163187</th>\n",
       "      <td>1</td>\n",
       "      <td>1</td>\n",
       "      <td>1</td>\n",
       "      <td>1</td>\n",
       "      <td>1</td>\n",
       "      <td>1</td>\n",
       "    </tr>\n",
       "    <tr>\n",
       "      <th>5643027</th>\n",
       "      <td>1</td>\n",
       "      <td>1</td>\n",
       "      <td>1</td>\n",
       "      <td>1</td>\n",
       "      <td>1</td>\n",
       "      <td>1</td>\n",
       "    </tr>\n",
       "    <tr>\n",
       "      <th>6927097</th>\n",
       "      <td>1</td>\n",
       "      <td>1</td>\n",
       "      <td>1</td>\n",
       "      <td>1</td>\n",
       "      <td>1</td>\n",
       "      <td>1</td>\n",
       "    </tr>\n",
       "    <tr>\n",
       "      <th>7622662</th>\n",
       "      <td>1</td>\n",
       "      <td>1</td>\n",
       "      <td>1</td>\n",
       "      <td>1</td>\n",
       "      <td>1</td>\n",
       "      <td>1</td>\n",
       "    </tr>\n",
       "  </tbody>\n",
       "</table>\n",
       "<p>432 rows × 6 columns</p>\n",
       "</div>"
      ],
      "text/plain": [
       "         Year  Mode  Area  SpecGroup  AnglerTrips  CatchPerTrip\n",
       "total                                                          \n",
       "0        2415  2415  2415       2415         2415          2415\n",
       "29          1     1     1          1            1             1\n",
       "44          1     1     1          1            1             1\n",
       "75          1     1     1          1            1             1\n",
       "241         1     1     1          1            1             1\n",
       "...       ...   ...   ...        ...          ...           ...\n",
       "5044856     1     1     1          1            1             1\n",
       "5163187     1     1     1          1            1             1\n",
       "5643027     1     1     1          1            1             1\n",
       "6927097     1     1     1          1            1             1\n",
       "7622662     1     1     1          1            1             1\n",
       "\n",
       "[432 rows x 6 columns]"
      ]
     },
     "execution_count": 112,
     "metadata": {},
     "output_type": "execute_result"
    }
   ],
   "source": [
    "df.groupby('total').count()"
   ]
  },
  {
   "cell_type": "code",
   "execution_count": 113,
   "metadata": {},
   "outputs": [
    {
     "name": "stdout",
     "output_type": "stream",
     "text": [
      "2415\n"
     ]
    }
   ],
   "source": [
    "print(len(df[df['CatchPerTrip'] < 1]))"
   ]
  },
  {
   "cell_type": "code",
   "execution_count": 114,
   "metadata": {},
   "outputs": [
    {
     "data": {
      "text/html": [
       "<div>\n",
       "<style scoped>\n",
       "    .dataframe tbody tr th:only-of-type {\n",
       "        vertical-align: middle;\n",
       "    }\n",
       "\n",
       "    .dataframe tbody tr th {\n",
       "        vertical-align: top;\n",
       "    }\n",
       "\n",
       "    .dataframe thead th {\n",
       "        text-align: right;\n",
       "    }\n",
       "</style>\n",
       "<table border=\"1\" class=\"dataframe\">\n",
       "  <thead>\n",
       "    <tr style=\"text-align: right;\">\n",
       "      <th></th>\n",
       "      <th>Year</th>\n",
       "      <th>Mode</th>\n",
       "      <th>Area</th>\n",
       "      <th>SpecGroup</th>\n",
       "      <th>AnglerTrips</th>\n",
       "      <th>total</th>\n",
       "    </tr>\n",
       "    <tr>\n",
       "      <th>CatchPerTrip</th>\n",
       "      <th></th>\n",
       "      <th></th>\n",
       "      <th></th>\n",
       "      <th></th>\n",
       "      <th></th>\n",
       "      <th></th>\n",
       "    </tr>\n",
       "  </thead>\n",
       "  <tbody>\n",
       "    <tr>\n",
       "      <th>0.000000</th>\n",
       "      <td>2415</td>\n",
       "      <td>2415</td>\n",
       "      <td>2415</td>\n",
       "      <td>2415</td>\n",
       "      <td>2415</td>\n",
       "      <td>2415</td>\n",
       "    </tr>\n",
       "    <tr>\n",
       "      <th>1.000000</th>\n",
       "      <td>3</td>\n",
       "      <td>3</td>\n",
       "      <td>3</td>\n",
       "      <td>3</td>\n",
       "      <td>3</td>\n",
       "      <td>3</td>\n",
       "    </tr>\n",
       "    <tr>\n",
       "      <th>1.004530</th>\n",
       "      <td>1</td>\n",
       "      <td>1</td>\n",
       "      <td>1</td>\n",
       "      <td>1</td>\n",
       "      <td>1</td>\n",
       "      <td>1</td>\n",
       "    </tr>\n",
       "    <tr>\n",
       "      <th>1.007584</th>\n",
       "      <td>1</td>\n",
       "      <td>1</td>\n",
       "      <td>1</td>\n",
       "      <td>1</td>\n",
       "      <td>1</td>\n",
       "      <td>1</td>\n",
       "    </tr>\n",
       "    <tr>\n",
       "      <th>1.010653</th>\n",
       "      <td>1</td>\n",
       "      <td>1</td>\n",
       "      <td>1</td>\n",
       "      <td>1</td>\n",
       "      <td>1</td>\n",
       "      <td>1</td>\n",
       "    </tr>\n",
       "    <tr>\n",
       "      <th>...</th>\n",
       "      <td>...</td>\n",
       "      <td>...</td>\n",
       "      <td>...</td>\n",
       "      <td>...</td>\n",
       "      <td>...</td>\n",
       "      <td>...</td>\n",
       "    </tr>\n",
       "    <tr>\n",
       "      <th>38.800000</th>\n",
       "      <td>1</td>\n",
       "      <td>1</td>\n",
       "      <td>1</td>\n",
       "      <td>1</td>\n",
       "      <td>1</td>\n",
       "      <td>1</td>\n",
       "    </tr>\n",
       "    <tr>\n",
       "      <th>45.327911</th>\n",
       "      <td>1</td>\n",
       "      <td>1</td>\n",
       "      <td>1</td>\n",
       "      <td>1</td>\n",
       "      <td>1</td>\n",
       "      <td>1</td>\n",
       "    </tr>\n",
       "    <tr>\n",
       "      <th>46.910665</th>\n",
       "      <td>1</td>\n",
       "      <td>1</td>\n",
       "      <td>1</td>\n",
       "      <td>1</td>\n",
       "      <td>1</td>\n",
       "      <td>1</td>\n",
       "    </tr>\n",
       "    <tr>\n",
       "      <th>60.374319</th>\n",
       "      <td>1</td>\n",
       "      <td>1</td>\n",
       "      <td>1</td>\n",
       "      <td>1</td>\n",
       "      <td>1</td>\n",
       "      <td>1</td>\n",
       "    </tr>\n",
       "    <tr>\n",
       "      <th>98.437743</th>\n",
       "      <td>1</td>\n",
       "      <td>1</td>\n",
       "      <td>1</td>\n",
       "      <td>1</td>\n",
       "      <td>1</td>\n",
       "      <td>1</td>\n",
       "    </tr>\n",
       "  </tbody>\n",
       "</table>\n",
       "<p>430 rows × 6 columns</p>\n",
       "</div>"
      ],
      "text/plain": [
       "              Year  Mode  Area  SpecGroup  AnglerTrips  total\n",
       "CatchPerTrip                                                 \n",
       "0.000000      2415  2415  2415       2415         2415   2415\n",
       "1.000000         3     3     3          3            3      3\n",
       "1.004530         1     1     1          1            1      1\n",
       "1.007584         1     1     1          1            1      1\n",
       "1.010653         1     1     1          1            1      1\n",
       "...            ...   ...   ...        ...          ...    ...\n",
       "38.800000        1     1     1          1            1      1\n",
       "45.327911        1     1     1          1            1      1\n",
       "46.910665        1     1     1          1            1      1\n",
       "60.374319        1     1     1          1            1      1\n",
       "98.437743        1     1     1          1            1      1\n",
       "\n",
       "[430 rows x 6 columns]"
      ]
     },
     "execution_count": 114,
     "metadata": {},
     "output_type": "execute_result"
    }
   ],
   "source": [
    "#realized there are a lot of numbers <1 in CatchPerTrip. Since there is no such thing as half a fish, I'm reducing these numbers to zero.\n",
    "df[df.CatchPerTrip < 1] = 0\n",
    "df.groupby('CatchPerTrip').count()"
   ]
  },
  {
   "cell_type": "code",
   "execution_count": 128,
   "metadata": {},
   "outputs": [
    {
     "name": "stdout",
     "output_type": "stream",
     "text": [
      "Training data set length=2295\n",
      "Testing data set length=553\n"
     ]
    }
   ],
   "source": [
    "mask = np.random.rand(len(df)) < 0.8\n",
    "df_train2 = df[mask]\n",
    "df_test2 = df[~mask]\n",
    "print('Training data set length='+str(len(df_train2)))\n",
    "print('Testing data set length='+str(len(df_test2)))"
   ]
  },
  {
   "cell_type": "code",
   "execution_count": 129,
   "metadata": {},
   "outputs": [],
   "source": [
    "expr2 = 'CatchPerTrip ~ Mode + Area'"
   ]
  },
  {
   "cell_type": "code",
   "execution_count": 130,
   "metadata": {},
   "outputs": [],
   "source": [
    "y_train2, X_train2 = dmatrices(expr2, df_train2, return_type='dataframe')\n",
    "y_test2, X_test2 = dmatrices(expr2, df_test2, return_type='dataframe')"
   ]
  },
  {
   "cell_type": "code",
   "execution_count": 131,
   "metadata": {},
   "outputs": [
    {
     "name": "stdout",
     "output_type": "stream",
     "text": [
      "Warning: Maximum number of iterations has been exceeded.\n",
      "         Current function value: 0.789021\n",
      "         Iterations: 35\n",
      "         Function evaluations: 38\n",
      "         Gradient evaluations: 38\n"
     ]
    },
    {
     "name": "stderr",
     "output_type": "stream",
     "text": [
      "C:\\Users\\hindm\\Anaconda\\lib\\site-packages\\statsmodels\\base\\model.py:566: ConvergenceWarning: Maximum Likelihood optimization failed to converge. Check mle_retvals\n",
      "  warnings.warn(\"Maximum Likelihood optimization failed to \"\n",
      "C:\\Users\\hindm\\Anaconda\\lib\\site-packages\\statsmodels\\base\\model.py:566: ConvergenceWarning: Maximum Likelihood optimization failed to converge. Check mle_retvals\n",
      "  warnings.warn(\"Maximum Likelihood optimization failed to \"\n"
     ]
    }
   ],
   "source": [
    "zip_training_results = sm.ZeroInflatedPoisson(endog=y_train2, exog=X_train2, exog_infl=X_train2, inflation='logit').fit()"
   ]
  },
  {
   "cell_type": "code",
   "execution_count": 132,
   "metadata": {},
   "outputs": [
    {
     "name": "stdout",
     "output_type": "stream",
     "text": [
      "                     ZeroInflatedPoisson Regression Results                    \n",
      "===============================================================================\n",
      "Dep. Variable:            CatchPerTrip   No. Observations:                 2295\n",
      "Model:             ZeroInflatedPoisson   Df Residuals:                     2292\n",
      "Method:                            MLE   Df Model:                            2\n",
      "Date:                 Wed, 03 Feb 2021   Pseudo R-squ.:                  0.3456\n",
      "Time:                         13:14:24   Log-Likelihood:                -1810.8\n",
      "converged:                       False   LL-Null:                       -2767.2\n",
      "Covariance Type:             nonrobust   LLR p-value:                     0.000\n",
      "=====================================================================================\n",
      "                        coef    std err          z      P>|z|      [0.025      0.975]\n",
      "-------------------------------------------------------------------------------------\n",
      "inflate_Intercept     3.2626      0.120     27.153      0.000       3.027       3.498\n",
      "inflate_Mode        -20.4337    880.135     -0.023      0.981   -1745.467    1704.600\n",
      "inflate_Area        -13.0221     75.978     -0.171      0.864    -161.936     135.892\n",
      "Intercept             1.2580      0.053     23.763      0.000       1.154       1.362\n",
      "Mode                 -0.1872      0.029     -6.507      0.000      -0.244      -0.131\n",
      "Area                  0.5629      0.026     21.514      0.000       0.512       0.614\n",
      "=====================================================================================\n"
     ]
    }
   ],
   "source": [
    "print(zip_training_results.summary())"
   ]
  },
  {
   "cell_type": "code",
   "execution_count": 134,
   "metadata": {},
   "outputs": [
    {
     "name": "stdout",
     "output_type": "stream",
     "text": [
      "ZIP RMSE=39.710726510762996\n"
     ]
    }
   ],
   "source": [
    "zip_predictions = zip_training_results.predict(X_test2,exog_infl=X_test2)\n",
    "predicted_counts2=np.round(zip_predictions)\n",
    "actual_counts2 = y_test2['CatchPerTrip']\n",
    "\n",
    "print('ZIP RMSE='+str(np.sqrt(np.sum(np.power(np.subtract(predicted_counts2,actual_counts2),2)))))"
   ]
  },
  {
   "cell_type": "code",
   "execution_count": 135,
   "metadata": {},
   "outputs": [
    {
     "data": {
      "image/png": "[encoded data removed]",
      "text/plain": [
       "<Figure size 432x288 with 1 Axes>"
      ]
     },
     "metadata": {
      "needs_background": "light"
     },
     "output_type": "display_data"
    }
   ],
   "source": [
    "fig = plt.figure()\n",
    "fig.suptitle('Predicted versus actual catch per trip counts of fish')\n",
    "predicted, = plt.plot(X_test2.index, predicted_counts2, 'go-', label='Predicted counts', alpha=0.5, linestyle='none') #check\n",
    "actual, = plt.plot(X_test2.index, actual_counts2, 'ro-', label='Actual counts', alpha=0.5, linestyle='none')\n",
    "plt.legend(handles=[predicted, actual])\n",
    "plt.show()"
   ]
  },
  {
   "cell_type": "code",
   "execution_count": 136,
   "metadata": {},
   "outputs": [
    {
     "data": {
      "text/plain": [
       "<Figure size 432x288 with 0 Axes>"
      ]
     },
     "metadata": {},
     "output_type": "display_data"
    },
    {
     "data": {
      "image/png": "[encoded data removed]",
      "text/plain": [
       "<Figure size 432x288 with 1 Axes>"
      ]
     },
     "metadata": {
      "needs_background": "light"
     },
     "output_type": "display_data"
    }
   ],
   "source": [
    "plt.clf()\n",
    "fig = plt.figure()\n",
    "fig.suptitle('Scatter plot of Actual versus Predicted counts - ZIP')\n",
    "plt.scatter(x=predicted_counts2, y=actual_counts2, marker='.')\n",
    "plt.xlabel('Predicted counts')\n",
    "plt.ylabel('Actual counts')\n",
    "plt.show()"
   ]
  }
 ],
 "metadata": {
  "kernelspec": {
   "display_name": "Python 3",
   "language": "python",
   "name": "python3"
  },
  "language_info": {
   "codemirror_mode": {
    "name": "ipython",
    "version": 3
   },
   "file_extension": ".py",
   "mimetype": "text/x-python",
   "name": "python",
   "nbconvert_exporter": "python",
   "pygments_lexer": "ipython3",
   "version": "3.8.5"
  }
 },
 "nbformat": 4,
 "nbformat_minor": 4
}

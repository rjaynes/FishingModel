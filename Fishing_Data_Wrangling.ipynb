{
 "cells": [
  {
   "cell_type": "code",
   "execution_count": 109,
   "metadata": {},
   "outputs": [],
   "source": [
    "##Importing data"
   ]
  },
  {
   "cell_type": "code",
   "execution_count": 110,
   "metadata": {},
   "outputs": [
    {
     "name": "stdout",
     "output_type": "stream",
     "text": [
      "  Estimate Status  Year         Wave Fishing Mode Fishing Area  \\\n",
      "0           FINAL  2010  MARCH/APRIL        SHORE       INLAND   \n",
      "1           FINAL  2010  MARCH/APRIL        SHORE       INLAND   \n",
      "2           FINAL  2010  MARCH/APRIL        SHORE       INLAND   \n",
      "3           FINAL  2010  MARCH/APRIL        SHORE       INLAND   \n",
      "4           FINAL  2010  MARCH/APRIL        SHORE       INLAND   \n",
      "\n",
      "          Species Group             Sub Group  Observed Harvest (A)   PSE  \\\n",
      "0  CARTILAGINOUS FISHES           SKATES/RAYS                     0     .   \n",
      "1             CATFISHES  FRESHWATER CATFISHES                 35600  63.5   \n",
      "2          OTHER FISHES          OTHER FISHES                 53567  60.7   \n",
      "3      TEMPERATE BASSES          STRIPED BASS                     0     .   \n",
      "4      TEMPERATE BASSES           WHITE PERCH               1313617  60.8   \n",
      "\n",
      "   Reported Harvest (B1) PSE.1  Released Alive (B2)  PSE.2  \n",
      "0                      0     .                10143  105.8  \n",
      "1                      0     .                60656   68.6  \n",
      "2                      0     .               284146   58.3  \n",
      "3                      0     .               714968   84.8  \n",
      "4                      0     .              1302508   82.8  \n"
     ]
    }
   ],
   "source": [
    "import pandas as pd\n",
    "\n",
    "data = pd.read_csv('mrip_catch_snapshot.csv', header=0)\n",
    "print(data.head())"
   ]
  },
  {
   "cell_type": "code",
   "execution_count": 111,
   "metadata": {},
   "outputs": [
    {
     "name": "stdout",
     "output_type": "stream",
     "text": [
      "  Estimate Status  Year         Wave  Fishing Mode     Fishing Area  \\\n",
      "0           FINAL  2010  MARCH/APRIL         SHORE  OCEAN (<= 3 MI)   \n",
      "1           FINAL  2010  MARCH/APRIL         SHORE           INLAND   \n",
      "2           FINAL  2010  MARCH/APRIL    PARTY BOAT   OCEAN (> 3 MI)   \n",
      "3           FINAL  2010  MARCH/APRIL    PARTY BOAT           INLAND   \n",
      "4           FINAL  2010  MARCH/APRIL  CHARTER BOAT   OCEAN (> 3 MI)   \n",
      "\n",
      "   Angler Trips    PSE  \n",
      "0          4436  109.6  \n",
      "1        730139   19.1  \n",
      "2           788    8.6  \n",
      "3             2    8.6  \n",
      "4             7   17.3  \n"
     ]
    }
   ],
   "source": [
    "catch_effort = pd.read_csv('mrip_effort_series.csv', header=0)\n",
    "print(catch_effort.head())"
   ]
  },
  {
   "cell_type": "code",
   "execution_count": 112,
   "metadata": {},
   "outputs": [
    {
     "data": {
      "text/html": [
       "<div>\n",
       "<style scoped>\n",
       "    .dataframe tbody tr th:only-of-type {\n",
       "        vertical-align: middle;\n",
       "    }\n",
       "\n",
       "    .dataframe tbody tr th {\n",
       "        vertical-align: top;\n",
       "    }\n",
       "\n",
       "    .dataframe thead th {\n",
       "        text-align: right;\n",
       "    }\n",
       "</style>\n",
       "<table border=\"1\" class=\"dataframe\">\n",
       "  <thead>\n",
       "    <tr style=\"text-align: right;\">\n",
       "      <th></th>\n",
       "      <th>Estimate Status_x</th>\n",
       "      <th>Year</th>\n",
       "      <th>Wave</th>\n",
       "      <th>Fishing Mode</th>\n",
       "      <th>Fishing Area</th>\n",
       "      <th>Species Group</th>\n",
       "      <th>Sub Group</th>\n",
       "      <th>Observed Harvest (A)</th>\n",
       "      <th>PSE_x</th>\n",
       "      <th>Reported Harvest (B1)</th>\n",
       "      <th>PSE.1</th>\n",
       "      <th>Released Alive (B2)</th>\n",
       "      <th>PSE.2</th>\n",
       "      <th>Estimate Status_y</th>\n",
       "      <th>Angler Trips</th>\n",
       "      <th>PSE_y</th>\n",
       "    </tr>\n",
       "  </thead>\n",
       "  <tbody>\n",
       "    <tr>\n",
       "      <th>0</th>\n",
       "      <td>FINAL</td>\n",
       "      <td>2010</td>\n",
       "      <td>MARCH/APRIL</td>\n",
       "      <td>SHORE</td>\n",
       "      <td>INLAND</td>\n",
       "      <td>CARTILAGINOUS FISHES</td>\n",
       "      <td>SKATES/RAYS</td>\n",
       "      <td>0</td>\n",
       "      <td>.</td>\n",
       "      <td>0</td>\n",
       "      <td>.</td>\n",
       "      <td>10143</td>\n",
       "      <td>105.8</td>\n",
       "      <td>FINAL</td>\n",
       "      <td>730139</td>\n",
       "      <td>19.1</td>\n",
       "    </tr>\n",
       "    <tr>\n",
       "      <th>1</th>\n",
       "      <td>FINAL</td>\n",
       "      <td>2010</td>\n",
       "      <td>MARCH/APRIL</td>\n",
       "      <td>SHORE</td>\n",
       "      <td>INLAND</td>\n",
       "      <td>CATFISHES</td>\n",
       "      <td>FRESHWATER CATFISHES</td>\n",
       "      <td>35600</td>\n",
       "      <td>63.5</td>\n",
       "      <td>0</td>\n",
       "      <td>.</td>\n",
       "      <td>60656</td>\n",
       "      <td>68.6</td>\n",
       "      <td>FINAL</td>\n",
       "      <td>730139</td>\n",
       "      <td>19.1</td>\n",
       "    </tr>\n",
       "    <tr>\n",
       "      <th>2</th>\n",
       "      <td>FINAL</td>\n",
       "      <td>2010</td>\n",
       "      <td>MARCH/APRIL</td>\n",
       "      <td>SHORE</td>\n",
       "      <td>INLAND</td>\n",
       "      <td>OTHER FISHES</td>\n",
       "      <td>OTHER FISHES</td>\n",
       "      <td>53567</td>\n",
       "      <td>60.7</td>\n",
       "      <td>0</td>\n",
       "      <td>.</td>\n",
       "      <td>284146</td>\n",
       "      <td>58.3</td>\n",
       "      <td>FINAL</td>\n",
       "      <td>730139</td>\n",
       "      <td>19.1</td>\n",
       "    </tr>\n",
       "    <tr>\n",
       "      <th>3</th>\n",
       "      <td>FINAL</td>\n",
       "      <td>2010</td>\n",
       "      <td>MARCH/APRIL</td>\n",
       "      <td>SHORE</td>\n",
       "      <td>INLAND</td>\n",
       "      <td>TEMPERATE BASSES</td>\n",
       "      <td>STRIPED BASS</td>\n",
       "      <td>0</td>\n",
       "      <td>.</td>\n",
       "      <td>0</td>\n",
       "      <td>.</td>\n",
       "      <td>714968</td>\n",
       "      <td>84.8</td>\n",
       "      <td>FINAL</td>\n",
       "      <td>730139</td>\n",
       "      <td>19.1</td>\n",
       "    </tr>\n",
       "    <tr>\n",
       "      <th>4</th>\n",
       "      <td>FINAL</td>\n",
       "      <td>2010</td>\n",
       "      <td>MARCH/APRIL</td>\n",
       "      <td>SHORE</td>\n",
       "      <td>INLAND</td>\n",
       "      <td>TEMPERATE BASSES</td>\n",
       "      <td>WHITE PERCH</td>\n",
       "      <td>1313617</td>\n",
       "      <td>60.8</td>\n",
       "      <td>0</td>\n",
       "      <td>.</td>\n",
       "      <td>1302508</td>\n",
       "      <td>82.8</td>\n",
       "      <td>FINAL</td>\n",
       "      <td>730139</td>\n",
       "      <td>19.1</td>\n",
       "    </tr>\n",
       "    <tr>\n",
       "      <th>...</th>\n",
       "      <td>...</td>\n",
       "      <td>...</td>\n",
       "      <td>...</td>\n",
       "      <td>...</td>\n",
       "      <td>...</td>\n",
       "      <td>...</td>\n",
       "      <td>...</td>\n",
       "      <td>...</td>\n",
       "      <td>...</td>\n",
       "      <td>...</td>\n",
       "      <td>...</td>\n",
       "      <td>...</td>\n",
       "      <td>...</td>\n",
       "      <td>...</td>\n",
       "      <td>...</td>\n",
       "      <td>...</td>\n",
       "    </tr>\n",
       "    <tr>\n",
       "      <th>2843</th>\n",
       "      <td>FINAL</td>\n",
       "      <td>2019</td>\n",
       "      <td>NOVEMBER/DECEMBER</td>\n",
       "      <td>PRIVATE/RENTAL BOAT</td>\n",
       "      <td>INLAND</td>\n",
       "      <td>OTHER FISHES</td>\n",
       "      <td>OTHER FISHES</td>\n",
       "      <td>14682</td>\n",
       "      <td>57.5</td>\n",
       "      <td>0</td>\n",
       "      <td>.</td>\n",
       "      <td>298869</td>\n",
       "      <td>18.8</td>\n",
       "      <td>FINAL</td>\n",
       "      <td>225163</td>\n",
       "      <td>21.8</td>\n",
       "    </tr>\n",
       "    <tr>\n",
       "      <th>2844</th>\n",
       "      <td>FINAL</td>\n",
       "      <td>2019</td>\n",
       "      <td>NOVEMBER/DECEMBER</td>\n",
       "      <td>PRIVATE/RENTAL BOAT</td>\n",
       "      <td>INLAND</td>\n",
       "      <td>TEMPERATE BASSES</td>\n",
       "      <td>STRIPED BASS</td>\n",
       "      <td>87647</td>\n",
       "      <td>35.1</td>\n",
       "      <td>31024</td>\n",
       "      <td>38.9</td>\n",
       "      <td>449166</td>\n",
       "      <td>28.8</td>\n",
       "      <td>FINAL</td>\n",
       "      <td>225163</td>\n",
       "      <td>21.8</td>\n",
       "    </tr>\n",
       "    <tr>\n",
       "      <th>2845</th>\n",
       "      <td>FINAL</td>\n",
       "      <td>2019</td>\n",
       "      <td>NOVEMBER/DECEMBER</td>\n",
       "      <td>PRIVATE/RENTAL BOAT</td>\n",
       "      <td>INLAND</td>\n",
       "      <td>TEMPERATE BASSES</td>\n",
       "      <td>WHITE PERCH</td>\n",
       "      <td>30297</td>\n",
       "      <td>64.3</td>\n",
       "      <td>31248</td>\n",
       "      <td>82.7</td>\n",
       "      <td>95671</td>\n",
       "      <td>45.6</td>\n",
       "      <td>FINAL</td>\n",
       "      <td>225163</td>\n",
       "      <td>21.8</td>\n",
       "    </tr>\n",
       "    <tr>\n",
       "      <th>2846</th>\n",
       "      <td>FINAL</td>\n",
       "      <td>2019</td>\n",
       "      <td>NOVEMBER/DECEMBER</td>\n",
       "      <td>PRIVATE/RENTAL BOAT</td>\n",
       "      <td>INLAND</td>\n",
       "      <td>TOADFISHES</td>\n",
       "      <td>TOADFISHES</td>\n",
       "      <td>0</td>\n",
       "      <td>.</td>\n",
       "      <td>0</td>\n",
       "      <td>.</td>\n",
       "      <td>763</td>\n",
       "      <td>69.7</td>\n",
       "      <td>FINAL</td>\n",
       "      <td>225163</td>\n",
       "      <td>21.8</td>\n",
       "    </tr>\n",
       "    <tr>\n",
       "      <th>2847</th>\n",
       "      <td>FINAL</td>\n",
       "      <td>2019</td>\n",
       "      <td>NOVEMBER/DECEMBER</td>\n",
       "      <td>PRIVATE/RENTAL BOAT</td>\n",
       "      <td>INLAND</td>\n",
       "      <td>WRASSES</td>\n",
       "      <td>TAUTOG</td>\n",
       "      <td>736</td>\n",
       "      <td>72.8</td>\n",
       "      <td>0</td>\n",
       "      <td>.</td>\n",
       "      <td>16441</td>\n",
       "      <td>78</td>\n",
       "      <td>FINAL</td>\n",
       "      <td>225163</td>\n",
       "      <td>21.8</td>\n",
       "    </tr>\n",
       "  </tbody>\n",
       "</table>\n",
       "<p>2848 rows × 16 columns</p>\n",
       "</div>"
      ],
      "text/plain": [
       "     Estimate Status_x  Year               Wave         Fishing Mode  \\\n",
       "0                FINAL  2010        MARCH/APRIL                SHORE   \n",
       "1                FINAL  2010        MARCH/APRIL                SHORE   \n",
       "2                FINAL  2010        MARCH/APRIL                SHORE   \n",
       "3                FINAL  2010        MARCH/APRIL                SHORE   \n",
       "4                FINAL  2010        MARCH/APRIL                SHORE   \n",
       "...                ...   ...                ...                  ...   \n",
       "2843             FINAL  2019  NOVEMBER/DECEMBER  PRIVATE/RENTAL BOAT   \n",
       "2844             FINAL  2019  NOVEMBER/DECEMBER  PRIVATE/RENTAL BOAT   \n",
       "2845             FINAL  2019  NOVEMBER/DECEMBER  PRIVATE/RENTAL BOAT   \n",
       "2846             FINAL  2019  NOVEMBER/DECEMBER  PRIVATE/RENTAL BOAT   \n",
       "2847             FINAL  2019  NOVEMBER/DECEMBER  PRIVATE/RENTAL BOAT   \n",
       "\n",
       "     Fishing Area         Species Group             Sub Group  \\\n",
       "0          INLAND  CARTILAGINOUS FISHES           SKATES/RAYS   \n",
       "1          INLAND             CATFISHES  FRESHWATER CATFISHES   \n",
       "2          INLAND          OTHER FISHES          OTHER FISHES   \n",
       "3          INLAND      TEMPERATE BASSES          STRIPED BASS   \n",
       "4          INLAND      TEMPERATE BASSES           WHITE PERCH   \n",
       "...           ...                   ...                   ...   \n",
       "2843       INLAND          OTHER FISHES          OTHER FISHES   \n",
       "2844       INLAND      TEMPERATE BASSES          STRIPED BASS   \n",
       "2845       INLAND      TEMPERATE BASSES           WHITE PERCH   \n",
       "2846       INLAND            TOADFISHES            TOADFISHES   \n",
       "2847       INLAND               WRASSES                TAUTOG   \n",
       "\n",
       "      Observed Harvest (A) PSE_x  Reported Harvest (B1) PSE.1  \\\n",
       "0                        0     .                      0     .   \n",
       "1                    35600  63.5                      0     .   \n",
       "2                    53567  60.7                      0     .   \n",
       "3                        0     .                      0     .   \n",
       "4                  1313617  60.8                      0     .   \n",
       "...                    ...   ...                    ...   ...   \n",
       "2843                 14682  57.5                      0     .   \n",
       "2844                 87647  35.1                  31024  38.9   \n",
       "2845                 30297  64.3                  31248  82.7   \n",
       "2846                     0     .                      0     .   \n",
       "2847                   736  72.8                      0     .   \n",
       "\n",
       "      Released Alive (B2)  PSE.2 Estimate Status_y  Angler Trips PSE_y  \n",
       "0                   10143  105.8             FINAL        730139  19.1  \n",
       "1                   60656   68.6             FINAL        730139  19.1  \n",
       "2                  284146   58.3             FINAL        730139  19.1  \n",
       "3                  714968   84.8             FINAL        730139  19.1  \n",
       "4                 1302508   82.8             FINAL        730139  19.1  \n",
       "...                   ...    ...               ...           ...   ...  \n",
       "2843               298869   18.8             FINAL        225163  21.8  \n",
       "2844               449166   28.8             FINAL        225163  21.8  \n",
       "2845                95671   45.6             FINAL        225163  21.8  \n",
       "2846                  763   69.7             FINAL        225163  21.8  \n",
       "2847                16441     78             FINAL        225163  21.8  \n",
       "\n",
       "[2848 rows x 16 columns]"
      ]
     },
     "execution_count": 112,
     "metadata": {},
     "output_type": "execute_result"
    }
   ],
   "source": [
    "df = pd.merge(data, catch_effort, how='left', on=['Year', 'Wave', 'Fishing Mode', 'Fishing Area'])\n",
    "df"
   ]
  },
  {
   "cell_type": "code",
   "execution_count": 113,
   "metadata": {},
   "outputs": [],
   "source": [
    "df.rename(columns = {'Observed Harvest (A)':'A', 'Reported Harvest (B1)':'B1', 'Released Alive (B2)':'B2'}, inplace = True) "
   ]
  },
  {
   "cell_type": "code",
   "execution_count": 114,
   "metadata": {
    "scrolled": true
   },
   "outputs": [
    {
     "name": "stdout",
     "output_type": "stream",
     "text": [
      "<class 'pandas.core.frame.DataFrame'>\n",
      "Int64Index: 2848 entries, 0 to 2847\n",
      "Data columns (total 16 columns):\n",
      " #   Column             Non-Null Count  Dtype \n",
      "---  ------             --------------  ----- \n",
      " 0   Estimate Status_x  2848 non-null   object\n",
      " 1   Year               2848 non-null   int64 \n",
      " 2   Wave               2848 non-null   object\n",
      " 3   Fishing Mode       2848 non-null   object\n",
      " 4   Fishing Area       2848 non-null   object\n",
      " 5   Species Group      2848 non-null   object\n",
      " 6   Sub Group          2848 non-null   object\n",
      " 7   A                  2848 non-null   int64 \n",
      " 8   PSE_x              2848 non-null   object\n",
      " 9   B1                 2848 non-null   int64 \n",
      " 10  PSE.1              2848 non-null   object\n",
      " 11  B2                 2848 non-null   int64 \n",
      " 12  PSE.2              2848 non-null   object\n",
      " 13  Estimate Status_y  2848 non-null   object\n",
      " 14  Angler Trips       2848 non-null   int64 \n",
      " 15  PSE_y              2848 non-null   object\n",
      "dtypes: int64(5), object(11)\n",
      "memory usage: 378.2+ KB\n",
      "None\n"
     ]
    }
   ],
   "source": [
    "print(df.info())"
   ]
  },
  {
   "cell_type": "code",
   "execution_count": 115,
   "metadata": {},
   "outputs": [],
   "source": [
    "## Eploring data...\n",
    "\n",
    "#Columns: Year - Year\n",
    "#    Wave - 2 month period \n",
    "#   Fishing Mode - where fishing took place (from shore or type of boat)\n",
    "#   Fishing Area - inland (but not freshwater), near-shore (within 3 miles of shore), and off-shore (over 3 miles from shore)\n",
    "#   Species Group - Type of fish\n",
    "#   Subgroup - More specific description of fish\n",
    "#   A - Observed Harvest - NOAA official observed\n",
    "#   PSE - Percent standard error. Error over 50 indicates a pretty unreliable number\n",
    "#   B1 - Reported Harvest - Fisher reported but was not observed by NOAA\n",
    "#   B2 - Released Alive - fish were caught and released\n",
    "#   Angler Trips - number of trips reported to NOAA \n",
    "#   PSE_y - Percent standard error in angler trip number"
   ]
  },
  {
   "cell_type": "code",
   "execution_count": 116,
   "metadata": {
    "scrolled": true
   },
   "outputs": [
    {
     "data": {
      "text/html": [
       "<div>\n",
       "<style scoped>\n",
       "    .dataframe tbody tr th:only-of-type {\n",
       "        vertical-align: middle;\n",
       "    }\n",
       "\n",
       "    .dataframe tbody tr th {\n",
       "        vertical-align: top;\n",
       "    }\n",
       "\n",
       "    .dataframe thead th {\n",
       "        text-align: right;\n",
       "    }\n",
       "</style>\n",
       "<table border=\"1\" class=\"dataframe\">\n",
       "  <thead>\n",
       "    <tr style=\"text-align: right;\">\n",
       "      <th></th>\n",
       "      <th>Estimate Status_x</th>\n",
       "      <th>Year</th>\n",
       "      <th>Wave</th>\n",
       "      <th>Fishing Mode</th>\n",
       "      <th>Fishing Area</th>\n",
       "      <th>Species Group</th>\n",
       "      <th>Sub Group</th>\n",
       "      <th>A</th>\n",
       "      <th>PSE_x</th>\n",
       "      <th>B1</th>\n",
       "      <th>PSE.1</th>\n",
       "      <th>B2</th>\n",
       "      <th>PSE.2</th>\n",
       "      <th>Estimate Status_y</th>\n",
       "      <th>Angler Trips</th>\n",
       "      <th>PSE_y</th>\n",
       "      <th>total</th>\n",
       "    </tr>\n",
       "  </thead>\n",
       "  <tbody>\n",
       "    <tr>\n",
       "      <th>0</th>\n",
       "      <td>FINAL</td>\n",
       "      <td>2010</td>\n",
       "      <td>MARCH/APRIL</td>\n",
       "      <td>SHORE</td>\n",
       "      <td>INLAND</td>\n",
       "      <td>CARTILAGINOUS FISHES</td>\n",
       "      <td>SKATES/RAYS</td>\n",
       "      <td>0</td>\n",
       "      <td>.</td>\n",
       "      <td>0</td>\n",
       "      <td>.</td>\n",
       "      <td>10143</td>\n",
       "      <td>105.8</td>\n",
       "      <td>FINAL</td>\n",
       "      <td>730139</td>\n",
       "      <td>19.1</td>\n",
       "      <td>10143</td>\n",
       "    </tr>\n",
       "    <tr>\n",
       "      <th>1</th>\n",
       "      <td>FINAL</td>\n",
       "      <td>2010</td>\n",
       "      <td>MARCH/APRIL</td>\n",
       "      <td>SHORE</td>\n",
       "      <td>INLAND</td>\n",
       "      <td>CATFISHES</td>\n",
       "      <td>FRESHWATER CATFISHES</td>\n",
       "      <td>35600</td>\n",
       "      <td>63.5</td>\n",
       "      <td>0</td>\n",
       "      <td>.</td>\n",
       "      <td>60656</td>\n",
       "      <td>68.6</td>\n",
       "      <td>FINAL</td>\n",
       "      <td>730139</td>\n",
       "      <td>19.1</td>\n",
       "      <td>96256</td>\n",
       "    </tr>\n",
       "    <tr>\n",
       "      <th>2</th>\n",
       "      <td>FINAL</td>\n",
       "      <td>2010</td>\n",
       "      <td>MARCH/APRIL</td>\n",
       "      <td>SHORE</td>\n",
       "      <td>INLAND</td>\n",
       "      <td>OTHER FISHES</td>\n",
       "      <td>OTHER FISHES</td>\n",
       "      <td>53567</td>\n",
       "      <td>60.7</td>\n",
       "      <td>0</td>\n",
       "      <td>.</td>\n",
       "      <td>284146</td>\n",
       "      <td>58.3</td>\n",
       "      <td>FINAL</td>\n",
       "      <td>730139</td>\n",
       "      <td>19.1</td>\n",
       "      <td>337713</td>\n",
       "    </tr>\n",
       "    <tr>\n",
       "      <th>3</th>\n",
       "      <td>FINAL</td>\n",
       "      <td>2010</td>\n",
       "      <td>MARCH/APRIL</td>\n",
       "      <td>SHORE</td>\n",
       "      <td>INLAND</td>\n",
       "      <td>TEMPERATE BASSES</td>\n",
       "      <td>STRIPED BASS</td>\n",
       "      <td>0</td>\n",
       "      <td>.</td>\n",
       "      <td>0</td>\n",
       "      <td>.</td>\n",
       "      <td>714968</td>\n",
       "      <td>84.8</td>\n",
       "      <td>FINAL</td>\n",
       "      <td>730139</td>\n",
       "      <td>19.1</td>\n",
       "      <td>714968</td>\n",
       "    </tr>\n",
       "    <tr>\n",
       "      <th>4</th>\n",
       "      <td>FINAL</td>\n",
       "      <td>2010</td>\n",
       "      <td>MARCH/APRIL</td>\n",
       "      <td>SHORE</td>\n",
       "      <td>INLAND</td>\n",
       "      <td>TEMPERATE BASSES</td>\n",
       "      <td>WHITE PERCH</td>\n",
       "      <td>1313617</td>\n",
       "      <td>60.8</td>\n",
       "      <td>0</td>\n",
       "      <td>.</td>\n",
       "      <td>1302508</td>\n",
       "      <td>82.8</td>\n",
       "      <td>FINAL</td>\n",
       "      <td>730139</td>\n",
       "      <td>19.1</td>\n",
       "      <td>2616125</td>\n",
       "    </tr>\n",
       "    <tr>\n",
       "      <th>...</th>\n",
       "      <td>...</td>\n",
       "      <td>...</td>\n",
       "      <td>...</td>\n",
       "      <td>...</td>\n",
       "      <td>...</td>\n",
       "      <td>...</td>\n",
       "      <td>...</td>\n",
       "      <td>...</td>\n",
       "      <td>...</td>\n",
       "      <td>...</td>\n",
       "      <td>...</td>\n",
       "      <td>...</td>\n",
       "      <td>...</td>\n",
       "      <td>...</td>\n",
       "      <td>...</td>\n",
       "      <td>...</td>\n",
       "      <td>...</td>\n",
       "    </tr>\n",
       "    <tr>\n",
       "      <th>2843</th>\n",
       "      <td>FINAL</td>\n",
       "      <td>2019</td>\n",
       "      <td>NOVEMBER/DECEMBER</td>\n",
       "      <td>PRIVATE/RENTAL BOAT</td>\n",
       "      <td>INLAND</td>\n",
       "      <td>OTHER FISHES</td>\n",
       "      <td>OTHER FISHES</td>\n",
       "      <td>14682</td>\n",
       "      <td>57.5</td>\n",
       "      <td>0</td>\n",
       "      <td>.</td>\n",
       "      <td>298869</td>\n",
       "      <td>18.8</td>\n",
       "      <td>FINAL</td>\n",
       "      <td>225163</td>\n",
       "      <td>21.8</td>\n",
       "      <td>313551</td>\n",
       "    </tr>\n",
       "    <tr>\n",
       "      <th>2844</th>\n",
       "      <td>FINAL</td>\n",
       "      <td>2019</td>\n",
       "      <td>NOVEMBER/DECEMBER</td>\n",
       "      <td>PRIVATE/RENTAL BOAT</td>\n",
       "      <td>INLAND</td>\n",
       "      <td>TEMPERATE BASSES</td>\n",
       "      <td>STRIPED BASS</td>\n",
       "      <td>87647</td>\n",
       "      <td>35.1</td>\n",
       "      <td>31024</td>\n",
       "      <td>38.9</td>\n",
       "      <td>449166</td>\n",
       "      <td>28.8</td>\n",
       "      <td>FINAL</td>\n",
       "      <td>225163</td>\n",
       "      <td>21.8</td>\n",
       "      <td>567837</td>\n",
       "    </tr>\n",
       "    <tr>\n",
       "      <th>2845</th>\n",
       "      <td>FINAL</td>\n",
       "      <td>2019</td>\n",
       "      <td>NOVEMBER/DECEMBER</td>\n",
       "      <td>PRIVATE/RENTAL BOAT</td>\n",
       "      <td>INLAND</td>\n",
       "      <td>TEMPERATE BASSES</td>\n",
       "      <td>WHITE PERCH</td>\n",
       "      <td>30297</td>\n",
       "      <td>64.3</td>\n",
       "      <td>31248</td>\n",
       "      <td>82.7</td>\n",
       "      <td>95671</td>\n",
       "      <td>45.6</td>\n",
       "      <td>FINAL</td>\n",
       "      <td>225163</td>\n",
       "      <td>21.8</td>\n",
       "      <td>157216</td>\n",
       "    </tr>\n",
       "    <tr>\n",
       "      <th>2846</th>\n",
       "      <td>FINAL</td>\n",
       "      <td>2019</td>\n",
       "      <td>NOVEMBER/DECEMBER</td>\n",
       "      <td>PRIVATE/RENTAL BOAT</td>\n",
       "      <td>INLAND</td>\n",
       "      <td>TOADFISHES</td>\n",
       "      <td>TOADFISHES</td>\n",
       "      <td>0</td>\n",
       "      <td>.</td>\n",
       "      <td>0</td>\n",
       "      <td>.</td>\n",
       "      <td>763</td>\n",
       "      <td>69.7</td>\n",
       "      <td>FINAL</td>\n",
       "      <td>225163</td>\n",
       "      <td>21.8</td>\n",
       "      <td>763</td>\n",
       "    </tr>\n",
       "    <tr>\n",
       "      <th>2847</th>\n",
       "      <td>FINAL</td>\n",
       "      <td>2019</td>\n",
       "      <td>NOVEMBER/DECEMBER</td>\n",
       "      <td>PRIVATE/RENTAL BOAT</td>\n",
       "      <td>INLAND</td>\n",
       "      <td>WRASSES</td>\n",
       "      <td>TAUTOG</td>\n",
       "      <td>736</td>\n",
       "      <td>72.8</td>\n",
       "      <td>0</td>\n",
       "      <td>.</td>\n",
       "      <td>16441</td>\n",
       "      <td>78</td>\n",
       "      <td>FINAL</td>\n",
       "      <td>225163</td>\n",
       "      <td>21.8</td>\n",
       "      <td>17177</td>\n",
       "    </tr>\n",
       "  </tbody>\n",
       "</table>\n",
       "<p>2848 rows × 17 columns</p>\n",
       "</div>"
      ],
      "text/plain": [
       "     Estimate Status_x  Year               Wave         Fishing Mode  \\\n",
       "0                FINAL  2010        MARCH/APRIL                SHORE   \n",
       "1                FINAL  2010        MARCH/APRIL                SHORE   \n",
       "2                FINAL  2010        MARCH/APRIL                SHORE   \n",
       "3                FINAL  2010        MARCH/APRIL                SHORE   \n",
       "4                FINAL  2010        MARCH/APRIL                SHORE   \n",
       "...                ...   ...                ...                  ...   \n",
       "2843             FINAL  2019  NOVEMBER/DECEMBER  PRIVATE/RENTAL BOAT   \n",
       "2844             FINAL  2019  NOVEMBER/DECEMBER  PRIVATE/RENTAL BOAT   \n",
       "2845             FINAL  2019  NOVEMBER/DECEMBER  PRIVATE/RENTAL BOAT   \n",
       "2846             FINAL  2019  NOVEMBER/DECEMBER  PRIVATE/RENTAL BOAT   \n",
       "2847             FINAL  2019  NOVEMBER/DECEMBER  PRIVATE/RENTAL BOAT   \n",
       "\n",
       "     Fishing Area         Species Group             Sub Group        A PSE_x  \\\n",
       "0          INLAND  CARTILAGINOUS FISHES           SKATES/RAYS        0     .   \n",
       "1          INLAND             CATFISHES  FRESHWATER CATFISHES    35600  63.5   \n",
       "2          INLAND          OTHER FISHES          OTHER FISHES    53567  60.7   \n",
       "3          INLAND      TEMPERATE BASSES          STRIPED BASS        0     .   \n",
       "4          INLAND      TEMPERATE BASSES           WHITE PERCH  1313617  60.8   \n",
       "...           ...                   ...                   ...      ...   ...   \n",
       "2843       INLAND          OTHER FISHES          OTHER FISHES    14682  57.5   \n",
       "2844       INLAND      TEMPERATE BASSES          STRIPED BASS    87647  35.1   \n",
       "2845       INLAND      TEMPERATE BASSES           WHITE PERCH    30297  64.3   \n",
       "2846       INLAND            TOADFISHES            TOADFISHES        0     .   \n",
       "2847       INLAND               WRASSES                TAUTOG      736  72.8   \n",
       "\n",
       "         B1 PSE.1       B2  PSE.2 Estimate Status_y  Angler Trips PSE_y  \\\n",
       "0         0     .    10143  105.8             FINAL        730139  19.1   \n",
       "1         0     .    60656   68.6             FINAL        730139  19.1   \n",
       "2         0     .   284146   58.3             FINAL        730139  19.1   \n",
       "3         0     .   714968   84.8             FINAL        730139  19.1   \n",
       "4         0     .  1302508   82.8             FINAL        730139  19.1   \n",
       "...     ...   ...      ...    ...               ...           ...   ...   \n",
       "2843      0     .   298869   18.8             FINAL        225163  21.8   \n",
       "2844  31024  38.9   449166   28.8             FINAL        225163  21.8   \n",
       "2845  31248  82.7    95671   45.6             FINAL        225163  21.8   \n",
       "2846      0     .      763   69.7             FINAL        225163  21.8   \n",
       "2847      0     .    16441     78             FINAL        225163  21.8   \n",
       "\n",
       "        total  \n",
       "0       10143  \n",
       "1       96256  \n",
       "2      337713  \n",
       "3      714968  \n",
       "4     2616125  \n",
       "...       ...  \n",
       "2843   313551  \n",
       "2844   567837  \n",
       "2845   157216  \n",
       "2846      763  \n",
       "2847    17177  \n",
       "\n",
       "[2848 rows x 17 columns]"
      ]
     },
     "execution_count": 116,
     "metadata": {},
     "output_type": "execute_result"
    }
   ],
   "source": [
    "df['total'] = df.A + df.B1 + df.B2\n",
    "#Total - Observed Harvest + Reported Harvest + Released Alive\n",
    "df"
   ]
  },
  {
   "cell_type": "code",
   "execution_count": 117,
   "metadata": {},
   "outputs": [
    {
     "data": {
      "text/html": [
       "<div>\n",
       "<style scoped>\n",
       "    .dataframe tbody tr th:only-of-type {\n",
       "        vertical-align: middle;\n",
       "    }\n",
       "\n",
       "    .dataframe tbody tr th {\n",
       "        vertical-align: top;\n",
       "    }\n",
       "\n",
       "    .dataframe thead th {\n",
       "        text-align: right;\n",
       "    }\n",
       "</style>\n",
       "<table border=\"1\" class=\"dataframe\">\n",
       "  <thead>\n",
       "    <tr style=\"text-align: right;\">\n",
       "      <th></th>\n",
       "      <th>Year</th>\n",
       "      <th>Wave</th>\n",
       "      <th>Fishing Mode</th>\n",
       "      <th>Fishing Area</th>\n",
       "      <th>Species Group</th>\n",
       "      <th>Sub Group</th>\n",
       "      <th>A</th>\n",
       "      <th>PSE_x</th>\n",
       "      <th>B1</th>\n",
       "      <th>PSE.1</th>\n",
       "      <th>B2</th>\n",
       "      <th>PSE.2</th>\n",
       "      <th>Angler Trips</th>\n",
       "      <th>PSE_y</th>\n",
       "      <th>total</th>\n",
       "    </tr>\n",
       "  </thead>\n",
       "  <tbody>\n",
       "    <tr>\n",
       "      <th>0</th>\n",
       "      <td>2010</td>\n",
       "      <td>MARCH/APRIL</td>\n",
       "      <td>SHORE</td>\n",
       "      <td>INLAND</td>\n",
       "      <td>CARTILAGINOUS FISHES</td>\n",
       "      <td>SKATES/RAYS</td>\n",
       "      <td>0</td>\n",
       "      <td>.</td>\n",
       "      <td>0</td>\n",
       "      <td>.</td>\n",
       "      <td>10143</td>\n",
       "      <td>105.8</td>\n",
       "      <td>730139</td>\n",
       "      <td>19.1</td>\n",
       "      <td>10143</td>\n",
       "    </tr>\n",
       "    <tr>\n",
       "      <th>1</th>\n",
       "      <td>2010</td>\n",
       "      <td>MARCH/APRIL</td>\n",
       "      <td>SHORE</td>\n",
       "      <td>INLAND</td>\n",
       "      <td>CATFISHES</td>\n",
       "      <td>FRESHWATER CATFISHES</td>\n",
       "      <td>35600</td>\n",
       "      <td>63.5</td>\n",
       "      <td>0</td>\n",
       "      <td>.</td>\n",
       "      <td>60656</td>\n",
       "      <td>68.6</td>\n",
       "      <td>730139</td>\n",
       "      <td>19.1</td>\n",
       "      <td>96256</td>\n",
       "    </tr>\n",
       "    <tr>\n",
       "      <th>2</th>\n",
       "      <td>2010</td>\n",
       "      <td>MARCH/APRIL</td>\n",
       "      <td>SHORE</td>\n",
       "      <td>INLAND</td>\n",
       "      <td>OTHER FISHES</td>\n",
       "      <td>OTHER FISHES</td>\n",
       "      <td>53567</td>\n",
       "      <td>60.7</td>\n",
       "      <td>0</td>\n",
       "      <td>.</td>\n",
       "      <td>284146</td>\n",
       "      <td>58.3</td>\n",
       "      <td>730139</td>\n",
       "      <td>19.1</td>\n",
       "      <td>337713</td>\n",
       "    </tr>\n",
       "    <tr>\n",
       "      <th>3</th>\n",
       "      <td>2010</td>\n",
       "      <td>MARCH/APRIL</td>\n",
       "      <td>SHORE</td>\n",
       "      <td>INLAND</td>\n",
       "      <td>TEMPERATE BASSES</td>\n",
       "      <td>STRIPED BASS</td>\n",
       "      <td>0</td>\n",
       "      <td>.</td>\n",
       "      <td>0</td>\n",
       "      <td>.</td>\n",
       "      <td>714968</td>\n",
       "      <td>84.8</td>\n",
       "      <td>730139</td>\n",
       "      <td>19.1</td>\n",
       "      <td>714968</td>\n",
       "    </tr>\n",
       "    <tr>\n",
       "      <th>4</th>\n",
       "      <td>2010</td>\n",
       "      <td>MARCH/APRIL</td>\n",
       "      <td>SHORE</td>\n",
       "      <td>INLAND</td>\n",
       "      <td>TEMPERATE BASSES</td>\n",
       "      <td>WHITE PERCH</td>\n",
       "      <td>1313617</td>\n",
       "      <td>60.8</td>\n",
       "      <td>0</td>\n",
       "      <td>.</td>\n",
       "      <td>1302508</td>\n",
       "      <td>82.8</td>\n",
       "      <td>730139</td>\n",
       "      <td>19.1</td>\n",
       "      <td>2616125</td>\n",
       "    </tr>\n",
       "    <tr>\n",
       "      <th>...</th>\n",
       "      <td>...</td>\n",
       "      <td>...</td>\n",
       "      <td>...</td>\n",
       "      <td>...</td>\n",
       "      <td>...</td>\n",
       "      <td>...</td>\n",
       "      <td>...</td>\n",
       "      <td>...</td>\n",
       "      <td>...</td>\n",
       "      <td>...</td>\n",
       "      <td>...</td>\n",
       "      <td>...</td>\n",
       "      <td>...</td>\n",
       "      <td>...</td>\n",
       "      <td>...</td>\n",
       "    </tr>\n",
       "    <tr>\n",
       "      <th>2843</th>\n",
       "      <td>2019</td>\n",
       "      <td>NOVEMBER/DECEMBER</td>\n",
       "      <td>PRIVATE/RENTAL BOAT</td>\n",
       "      <td>INLAND</td>\n",
       "      <td>OTHER FISHES</td>\n",
       "      <td>OTHER FISHES</td>\n",
       "      <td>14682</td>\n",
       "      <td>57.5</td>\n",
       "      <td>0</td>\n",
       "      <td>.</td>\n",
       "      <td>298869</td>\n",
       "      <td>18.8</td>\n",
       "      <td>225163</td>\n",
       "      <td>21.8</td>\n",
       "      <td>313551</td>\n",
       "    </tr>\n",
       "    <tr>\n",
       "      <th>2844</th>\n",
       "      <td>2019</td>\n",
       "      <td>NOVEMBER/DECEMBER</td>\n",
       "      <td>PRIVATE/RENTAL BOAT</td>\n",
       "      <td>INLAND</td>\n",
       "      <td>TEMPERATE BASSES</td>\n",
       "      <td>STRIPED BASS</td>\n",
       "      <td>87647</td>\n",
       "      <td>35.1</td>\n",
       "      <td>31024</td>\n",
       "      <td>38.9</td>\n",
       "      <td>449166</td>\n",
       "      <td>28.8</td>\n",
       "      <td>225163</td>\n",
       "      <td>21.8</td>\n",
       "      <td>567837</td>\n",
       "    </tr>\n",
       "    <tr>\n",
       "      <th>2845</th>\n",
       "      <td>2019</td>\n",
       "      <td>NOVEMBER/DECEMBER</td>\n",
       "      <td>PRIVATE/RENTAL BOAT</td>\n",
       "      <td>INLAND</td>\n",
       "      <td>TEMPERATE BASSES</td>\n",
       "      <td>WHITE PERCH</td>\n",
       "      <td>30297</td>\n",
       "      <td>64.3</td>\n",
       "      <td>31248</td>\n",
       "      <td>82.7</td>\n",
       "      <td>95671</td>\n",
       "      <td>45.6</td>\n",
       "      <td>225163</td>\n",
       "      <td>21.8</td>\n",
       "      <td>157216</td>\n",
       "    </tr>\n",
       "    <tr>\n",
       "      <th>2846</th>\n",
       "      <td>2019</td>\n",
       "      <td>NOVEMBER/DECEMBER</td>\n",
       "      <td>PRIVATE/RENTAL BOAT</td>\n",
       "      <td>INLAND</td>\n",
       "      <td>TOADFISHES</td>\n",
       "      <td>TOADFISHES</td>\n",
       "      <td>0</td>\n",
       "      <td>.</td>\n",
       "      <td>0</td>\n",
       "      <td>.</td>\n",
       "      <td>763</td>\n",
       "      <td>69.7</td>\n",
       "      <td>225163</td>\n",
       "      <td>21.8</td>\n",
       "      <td>763</td>\n",
       "    </tr>\n",
       "    <tr>\n",
       "      <th>2847</th>\n",
       "      <td>2019</td>\n",
       "      <td>NOVEMBER/DECEMBER</td>\n",
       "      <td>PRIVATE/RENTAL BOAT</td>\n",
       "      <td>INLAND</td>\n",
       "      <td>WRASSES</td>\n",
       "      <td>TAUTOG</td>\n",
       "      <td>736</td>\n",
       "      <td>72.8</td>\n",
       "      <td>0</td>\n",
       "      <td>.</td>\n",
       "      <td>16441</td>\n",
       "      <td>78</td>\n",
       "      <td>225163</td>\n",
       "      <td>21.8</td>\n",
       "      <td>17177</td>\n",
       "    </tr>\n",
       "  </tbody>\n",
       "</table>\n",
       "<p>2848 rows × 15 columns</p>\n",
       "</div>"
      ],
      "text/plain": [
       "      Year               Wave         Fishing Mode Fishing Area  \\\n",
       "0     2010        MARCH/APRIL                SHORE       INLAND   \n",
       "1     2010        MARCH/APRIL                SHORE       INLAND   \n",
       "2     2010        MARCH/APRIL                SHORE       INLAND   \n",
       "3     2010        MARCH/APRIL                SHORE       INLAND   \n",
       "4     2010        MARCH/APRIL                SHORE       INLAND   \n",
       "...    ...                ...                  ...          ...   \n",
       "2843  2019  NOVEMBER/DECEMBER  PRIVATE/RENTAL BOAT       INLAND   \n",
       "2844  2019  NOVEMBER/DECEMBER  PRIVATE/RENTAL BOAT       INLAND   \n",
       "2845  2019  NOVEMBER/DECEMBER  PRIVATE/RENTAL BOAT       INLAND   \n",
       "2846  2019  NOVEMBER/DECEMBER  PRIVATE/RENTAL BOAT       INLAND   \n",
       "2847  2019  NOVEMBER/DECEMBER  PRIVATE/RENTAL BOAT       INLAND   \n",
       "\n",
       "             Species Group             Sub Group        A PSE_x     B1 PSE.1  \\\n",
       "0     CARTILAGINOUS FISHES           SKATES/RAYS        0     .      0     .   \n",
       "1                CATFISHES  FRESHWATER CATFISHES    35600  63.5      0     .   \n",
       "2             OTHER FISHES          OTHER FISHES    53567  60.7      0     .   \n",
       "3         TEMPERATE BASSES          STRIPED BASS        0     .      0     .   \n",
       "4         TEMPERATE BASSES           WHITE PERCH  1313617  60.8      0     .   \n",
       "...                    ...                   ...      ...   ...    ...   ...   \n",
       "2843          OTHER FISHES          OTHER FISHES    14682  57.5      0     .   \n",
       "2844      TEMPERATE BASSES          STRIPED BASS    87647  35.1  31024  38.9   \n",
       "2845      TEMPERATE BASSES           WHITE PERCH    30297  64.3  31248  82.7   \n",
       "2846            TOADFISHES            TOADFISHES        0     .      0     .   \n",
       "2847               WRASSES                TAUTOG      736  72.8      0     .   \n",
       "\n",
       "           B2  PSE.2  Angler Trips PSE_y    total  \n",
       "0       10143  105.8        730139  19.1    10143  \n",
       "1       60656   68.6        730139  19.1    96256  \n",
       "2      284146   58.3        730139  19.1   337713  \n",
       "3      714968   84.8        730139  19.1   714968  \n",
       "4     1302508   82.8        730139  19.1  2616125  \n",
       "...       ...    ...           ...   ...      ...  \n",
       "2843   298869   18.8        225163  21.8   313551  \n",
       "2844   449166   28.8        225163  21.8   567837  \n",
       "2845    95671   45.6        225163  21.8   157216  \n",
       "2846      763   69.7        225163  21.8      763  \n",
       "2847    16441     78        225163  21.8    17177  \n",
       "\n",
       "[2848 rows x 15 columns]"
      ]
     },
     "execution_count": 117,
     "metadata": {},
     "output_type": "execute_result"
    }
   ],
   "source": [
    "df.drop(columns=['Estimate Status_x', 'Estimate Status_y'])\n",
    "#dropping columns with no use"
   ]
  },
  {
   "cell_type": "code",
   "execution_count": 118,
   "metadata": {},
   "outputs": [
    {
     "name": "stdout",
     "output_type": "stream",
     "text": [
      "                           total\n",
      "Species Group Year              \n",
      "BLUEFISH      2010  59604.181818\n",
      "              2011  93045.526316\n",
      "              2012  54356.875000\n",
      "              2013  60151.000000\n",
      "              2014  59101.666667\n",
      "...                          ...\n",
      "WRASSES       2015  35006.750000\n",
      "              2016  44502.083333\n",
      "              2017  48778.062500\n",
      "              2018  19446.750000\n",
      "              2019  55602.846154\n",
      "\n",
      "[202 rows x 1 columns]\n"
     ]
    }
   ],
   "source": [
    "#average number of each fish caught\n",
    "print(df.groupby(['Species Group', 'Year'])[['total']].mean())\n"
   ]
  },
  {
   "cell_type": "code",
   "execution_count": 119,
   "metadata": {},
   "outputs": [
    {
     "data": {
      "text/plain": [
       "Fishing Mode  Species Group           \n",
       "CHARTER BOAT  BLUEFISH                     13404.000000\n",
       "              CARTILAGINOUS FISHES          1495.862069\n",
       "              CATFISHES                     1595.111111\n",
       "              CODS AND HAKES                 755.500000\n",
       "              DOLPHINS                      2377.312500\n",
       "                                              ...      \n",
       "SHORE         SEAROBINS                    53920.800000\n",
       "              TEMPERATE BASSES            743163.018349\n",
       "              TOADFISHES                   42617.208333\n",
       "              TRIGGERFISHES/FILEFISHES     18578.000000\n",
       "              WRASSES                     110915.551724\n",
       "Name: total, Length: 81, dtype: float64"
      ]
     },
     "execution_count": 119,
     "metadata": {},
     "output_type": "execute_result"
    }
   ],
   "source": [
    "means = df.groupby(['Fishing Mode', 'Species Group'])['total'].mean()\n",
    "means\n",
    "\n"
   ]
  },
  {
   "cell_type": "code",
   "execution_count": 120,
   "metadata": {},
   "outputs": [],
   "source": [
    "import numpy as np\n",
    "import matplotlib.mlab as mlab\n",
    "import matplotlib.pyplot as plt"
   ]
  },
  {
   "cell_type": "code",
   "execution_count": 121,
   "metadata": {},
   "outputs": [
    {
     "data": {
      "image/png": "[encoded data removed]",
      "text/plain": [
       "<Figure size 432x288 with 1 Axes>"
      ]
     },
     "metadata": {
      "needs_background": "light"
     },
     "output_type": "display_data"
    }
   ],
   "source": [
    "df.total.hist(bins = 10)\n",
    "plt.xlabel('total catch')\n",
    "plt.ylabel('Count')\n",
    "plt.title('Distribution of catch values');"
   ]
  },
  {
   "cell_type": "code",
   "execution_count": 122,
   "metadata": {},
   "outputs": [
    {
     "data": {
      "text/plain": [
       "count    2.848000e+03\n",
       "mean     1.599457e+05\n",
       "std      5.131743e+05\n",
       "min      0.000000e+00\n",
       "25%      5.690000e+02\n",
       "50%      6.299500e+03\n",
       "75%      6.777200e+04\n",
       "max      7.622662e+06\n",
       "Name: total, dtype: float64"
      ]
     },
     "execution_count": 122,
     "metadata": {},
     "output_type": "execute_result"
    }
   ],
   "source": [
    "df.total.describe()"
   ]
  },
  {
   "cell_type": "code",
   "execution_count": 123,
   "metadata": {},
   "outputs": [
    {
     "data": {
      "text/plain": [
       "array(['INLAND', 'OCEAN (> 3 MI)', 'OCEAN (<= 3 MI)'], dtype=object)"
      ]
     },
     "execution_count": 123,
     "metadata": {},
     "output_type": "execute_result"
    }
   ],
   "source": [
    "df['Fishing Area'].unique()"
   ]
  },
  {
   "cell_type": "code",
   "execution_count": 124,
   "metadata": {},
   "outputs": [
    {
     "data": {
      "text/plain": [
       "array(['CARTILAGINOUS FISHES', 'CATFISHES', 'OTHER FISHES',\n",
       "       'TEMPERATE BASSES', 'CODS AND HAKES', 'EELS', 'SEA BASSES',\n",
       "       'WRASSES', 'FLOUNDERS', 'HERRINGS', 'BLUEFISH', 'PUFFERS', 'DRUMS',\n",
       "       'TOADFISHES', 'SEAROBINS', 'DOLPHINS', 'TUNAS AND MACKERELS',\n",
       "       'JACKS', 'PORGIES', 'TRIGGERFISHES/FILEFISHES', 'GRUNTS',\n",
       "       'SCULPINS'], dtype=object)"
      ]
     },
     "execution_count": 124,
     "metadata": {},
     "output_type": "execute_result"
    }
   ],
   "source": [
    "df['Species Group'].unique()"
   ]
  },
  {
   "cell_type": "code",
   "execution_count": 125,
   "metadata": {},
   "outputs": [
    {
     "data": {
      "text/plain": [
       "array(['SKATES/RAYS', 'FRESHWATER CATFISHES', 'OTHER FISHES',\n",
       "       'STRIPED BASS', 'WHITE PERCH', 'ATLANTIC COD', 'EELS',\n",
       "       'BLACK SEA BASS', 'CUNNER', 'TAUTOG', 'SUMMER FLOUNDER',\n",
       "       'HERRINGS', 'BLUEFISH', 'DOGFISH SHARKS', 'OTHER SHARKS',\n",
       "       'PUFFERS', 'ATLANTIC CROAKER', 'SPOT', 'TOADFISHES', 'SEAROBINS',\n",
       "       'DOLPHINS', 'OTHER TUNAS/MACKERELS', 'KINGFISHES', 'WEAKFISH',\n",
       "       'RED HAKE', 'GREATER AMBERJACK', 'SPANISH MACKEREL', 'BLACK DRUM',\n",
       "       'RED DRUM', 'SHEEPSHEAD', 'SCUP', 'TRIGGERFISHES/FILEFISHES',\n",
       "       'LITTLE TUNNY/ATLANTIC BONITO', 'SPOTTED SEATROUT', 'PIGFISH',\n",
       "       'ATLANTIC MACKEREL', 'SILVER PERCH', 'OTHER CODS/HAKES', 'POLLOCK',\n",
       "       'OTHER FLOUNDERS', 'PINFISHES', 'SCULPINS', 'EPINEPHELUS GROUPERS',\n",
       "       'OTHER SEA BASSES', 'OTHER PORGIES', 'MYCTEROPERCA GROUPERS',\n",
       "       'SOUTHERN FLOUNDER', 'OTHER TEMPERATE BASSES', 'OTHER JACKS',\n",
       "       'WINTER FLOUNDER', 'OTHER DRUM', 'KING MACKEREL',\n",
       "       'FLORIDA POMPANO', 'OTHER GRUNTS'], dtype=object)"
      ]
     },
     "execution_count": 125,
     "metadata": {},
     "output_type": "execute_result"
    }
   ],
   "source": [
    "df['Sub Group'].unique()"
   ]
  },
  {
   "cell_type": "code",
   "execution_count": 126,
   "metadata": {},
   "outputs": [
    {
     "data": {
      "image/png": "[encoded data removed]",
      "text/plain": [
       "<Figure size 432x288 with 1 Axes>"
      ]
     },
     "metadata": {
      "needs_background": "light"
     },
     "output_type": "display_data"
    }
   ],
   "source": [
    "df.plot(x='Angler Trips', y='total', kind='scatter');"
   ]
  },
  {
   "cell_type": "code",
   "execution_count": 127,
   "metadata": {},
   "outputs": [
    {
     "data": {
      "text/plain": [
       "<matplotlib.collections.PathCollection at 0x24d70cf1940>"
      ]
     },
     "execution_count": 127,
     "metadata": {},
     "output_type": "execute_result"
    },
    {
     "data": {
      "image/png": "[encoded data removed]",
      "text/plain": [
       "<Figure size 432x288 with 1 Axes>"
      ]
     },
     "metadata": {
      "needs_background": "light"
     },
     "output_type": "display_data"
    }
   ],
   "source": [
    "plt.scatter(df.Year, df.total)"
   ]
  },
  {
   "cell_type": "code",
   "execution_count": 128,
   "metadata": {
    "scrolled": true
   },
   "outputs": [],
   "source": [
    "df.rename(columns={\"Species Group\": \"SpecGroup\", \"Sub Group\": \"SubGroup\"}, inplace=True)"
   ]
  },
  {
   "cell_type": "code",
   "execution_count": 129,
   "metadata": {},
   "outputs": [
    {
     "data": {
      "text/html": [
       "<div>\n",
       "<style scoped>\n",
       "    .dataframe tbody tr th:only-of-type {\n",
       "        vertical-align: middle;\n",
       "    }\n",
       "\n",
       "    .dataframe tbody tr th {\n",
       "        vertical-align: top;\n",
       "    }\n",
       "\n",
       "    .dataframe thead th {\n",
       "        text-align: right;\n",
       "    }\n",
       "</style>\n",
       "<table border=\"1\" class=\"dataframe\">\n",
       "  <thead>\n",
       "    <tr style=\"text-align: right;\">\n",
       "      <th></th>\n",
       "      <th>count</th>\n",
       "      <th>%</th>\n",
       "    </tr>\n",
       "  </thead>\n",
       "  <tbody>\n",
       "    <tr>\n",
       "      <th>Estimate Status_x</th>\n",
       "      <td>0</td>\n",
       "      <td>0.0</td>\n",
       "    </tr>\n",
       "    <tr>\n",
       "      <th>Angler Trips</th>\n",
       "      <td>0</td>\n",
       "      <td>0.0</td>\n",
       "    </tr>\n",
       "    <tr>\n",
       "      <th>Estimate Status_y</th>\n",
       "      <td>0</td>\n",
       "      <td>0.0</td>\n",
       "    </tr>\n",
       "    <tr>\n",
       "      <th>PSE.2</th>\n",
       "      <td>0</td>\n",
       "      <td>0.0</td>\n",
       "    </tr>\n",
       "    <tr>\n",
       "      <th>B2</th>\n",
       "      <td>0</td>\n",
       "      <td>0.0</td>\n",
       "    </tr>\n",
       "    <tr>\n",
       "      <th>PSE.1</th>\n",
       "      <td>0</td>\n",
       "      <td>0.0</td>\n",
       "    </tr>\n",
       "    <tr>\n",
       "      <th>B1</th>\n",
       "      <td>0</td>\n",
       "      <td>0.0</td>\n",
       "    </tr>\n",
       "    <tr>\n",
       "      <th>PSE_y</th>\n",
       "      <td>0</td>\n",
       "      <td>0.0</td>\n",
       "    </tr>\n",
       "    <tr>\n",
       "      <th>PSE_x</th>\n",
       "      <td>0</td>\n",
       "      <td>0.0</td>\n",
       "    </tr>\n",
       "    <tr>\n",
       "      <th>SubGroup</th>\n",
       "      <td>0</td>\n",
       "      <td>0.0</td>\n",
       "    </tr>\n",
       "    <tr>\n",
       "      <th>SpecGroup</th>\n",
       "      <td>0</td>\n",
       "      <td>0.0</td>\n",
       "    </tr>\n",
       "    <tr>\n",
       "      <th>Fishing Area</th>\n",
       "      <td>0</td>\n",
       "      <td>0.0</td>\n",
       "    </tr>\n",
       "    <tr>\n",
       "      <th>Fishing Mode</th>\n",
       "      <td>0</td>\n",
       "      <td>0.0</td>\n",
       "    </tr>\n",
       "    <tr>\n",
       "      <th>Wave</th>\n",
       "      <td>0</td>\n",
       "      <td>0.0</td>\n",
       "    </tr>\n",
       "    <tr>\n",
       "      <th>Year</th>\n",
       "      <td>0</td>\n",
       "      <td>0.0</td>\n",
       "    </tr>\n",
       "    <tr>\n",
       "      <th>A</th>\n",
       "      <td>0</td>\n",
       "      <td>0.0</td>\n",
       "    </tr>\n",
       "    <tr>\n",
       "      <th>total</th>\n",
       "      <td>0</td>\n",
       "      <td>0.0</td>\n",
       "    </tr>\n",
       "  </tbody>\n",
       "</table>\n",
       "</div>"
      ],
      "text/plain": [
       "                   count    %\n",
       "Estimate Status_x      0  0.0\n",
       "Angler Trips           0  0.0\n",
       "Estimate Status_y      0  0.0\n",
       "PSE.2                  0  0.0\n",
       "B2                     0  0.0\n",
       "PSE.1                  0  0.0\n",
       "B1                     0  0.0\n",
       "PSE_y                  0  0.0\n",
       "PSE_x                  0  0.0\n",
       "SubGroup               0  0.0\n",
       "SpecGroup              0  0.0\n",
       "Fishing Area           0  0.0\n",
       "Fishing Mode           0  0.0\n",
       "Wave                   0  0.0\n",
       "Year                   0  0.0\n",
       "A                      0  0.0\n",
       "total                  0  0.0"
      ]
     },
     "execution_count": 129,
     "metadata": {},
     "output_type": "execute_result"
    }
   ],
   "source": [
    "missing = pd.concat([df.isnull().sum(), 100 * df.isnull().mean()], axis=1)\n",
    "missing.columns=['count', '%']\n",
    "missing.sort_values(by='count')"
   ]
  },
  {
   "cell_type": "code",
   "execution_count": 130,
   "metadata": {},
   "outputs": [
    {
     "data": {
      "text/html": [
       "<div>\n",
       "<style scoped>\n",
       "    .dataframe tbody tr th:only-of-type {\n",
       "        vertical-align: middle;\n",
       "    }\n",
       "\n",
       "    .dataframe tbody tr th {\n",
       "        vertical-align: top;\n",
       "    }\n",
       "\n",
       "    .dataframe thead th {\n",
       "        text-align: right;\n",
       "    }\n",
       "</style>\n",
       "<table border=\"1\" class=\"dataframe\">\n",
       "  <thead>\n",
       "    <tr style=\"text-align: right;\">\n",
       "      <th></th>\n",
       "      <th>Estimate Status_x</th>\n",
       "      <th>Year</th>\n",
       "      <th>Wave</th>\n",
       "      <th>Fishing Mode</th>\n",
       "      <th>Fishing Area</th>\n",
       "      <th>SpecGroup</th>\n",
       "      <th>SubGroup</th>\n",
       "      <th>A</th>\n",
       "      <th>PSE_x</th>\n",
       "      <th>B1</th>\n",
       "      <th>PSE.1</th>\n",
       "      <th>B2</th>\n",
       "      <th>PSE.2</th>\n",
       "      <th>Estimate Status_y</th>\n",
       "      <th>Angler Trips</th>\n",
       "      <th>PSE_y</th>\n",
       "      <th>total</th>\n",
       "    </tr>\n",
       "  </thead>\n",
       "  <tbody>\n",
       "  </tbody>\n",
       "</table>\n",
       "</div>"
      ],
      "text/plain": [
       "Empty DataFrame\n",
       "Columns: [Estimate Status_x, Year, Wave, Fishing Mode, Fishing Area, SpecGroup, SubGroup, A, PSE_x, B1, PSE.1, B2, PSE.2, Estimate Status_y, Angler Trips, PSE_y, total]\n",
       "Index: []"
      ]
     },
     "execution_count": 130,
     "metadata": {},
     "output_type": "execute_result"
    }
   ],
   "source": [
    "df[df['SpecGroup'] == 'Drums']"
   ]
  },
  {
   "cell_type": "code",
   "execution_count": 131,
   "metadata": {},
   "outputs": [
    {
     "data": {
      "text/plain": [
       "DRUMS                       529\n",
       "TEMPERATE BASSES            348\n",
       "CARTILAGINOUS FISHES        272\n",
       "FLOUNDERS                   219\n",
       "SEA BASSES                  190\n",
       "BLUEFISH                    185\n",
       "OTHER FISHES                156\n",
       "WRASSES                     125\n",
       "TUNAS AND MACKERELS         109\n",
       "CATFISHES                   105\n",
       "SEAROBINS                   103\n",
       "TOADFISHES                  100\n",
       "EELS                         67\n",
       "PUFFERS                      66\n",
       "HERRINGS                     65\n",
       "CODS AND HAKES               55\n",
       "PORGIES                      54\n",
       "DOLPHINS                     40\n",
       "TRIGGERFISHES/FILEFISHES     32\n",
       "GRUNTS                       14\n",
       "JACKS                        13\n",
       "SCULPINS                      1\n",
       "Name: SpecGroup, dtype: int64"
      ]
     },
     "execution_count": 131,
     "metadata": {},
     "output_type": "execute_result"
    }
   ],
   "source": [
    "df['SpecGroup'].value_counts()"
   ]
  },
  {
   "cell_type": "code",
   "execution_count": 132,
   "metadata": {},
   "outputs": [
    {
     "data": {
      "image/png": "[encoded data removed]",
      "text/plain": [
       "<Figure size 864x576 with 2 Axes>"
      ]
     },
     "metadata": {
      "needs_background": "light"
     },
     "output_type": "display_data"
    }
   ],
   "source": [
    "fig, ax = plt.subplots(1, 2, figsize=(12, 8))\n",
    "#Specify a horizontal barplot ('barh') as kind of plot (kind=)\n",
    "df.SpecGroup.value_counts().plot(kind='barh', ax=ax[0])\n",
    "#Give the plot a helpful title of 'Region'\n",
    "ax[0].set_title('Species Group')\n",
    "#Label the xaxis 'Count'\n",
    "ax[0].set_xlabel('Count')\n",
    "#Specify a horizontal barplot ('barh') as kind of plot (kind=)\n",
    "df.SubGroup.value_counts().plot(kind='barh', ax=ax[1])\n",
    "#Give the plot a helpful title of 'state'\n",
    "ax[1].set_title('Sub Group')\n",
    "#Label the xaxis 'Count'\n",
    "ax[1].set_xlabel('Count')\n",
    "#Give the subplots a little \"breathing room\" with a wspace of 0.5\n",
    "plt.subplots_adjust(wspace=0.5);\n"
   ]
  },
  {
   "cell_type": "code",
   "execution_count": 133,
   "metadata": {},
   "outputs": [
    {
     "data": {
      "text/plain": [
       "Fishing Mode  SpecGroup               \n",
       "CHARTER BOAT  BLUEFISH                     13404.000000\n",
       "              CARTILAGINOUS FISHES          1495.862069\n",
       "              CATFISHES                     1595.111111\n",
       "              CODS AND HAKES                 755.500000\n",
       "              DOLPHINS                      2377.312500\n",
       "                                              ...      \n",
       "SHORE         SEAROBINS                    53920.800000\n",
       "              TEMPERATE BASSES            743163.018349\n",
       "              TOADFISHES                   42617.208333\n",
       "              TRIGGERFISHES/FILEFISHES     18578.000000\n",
       "              WRASSES                     110915.551724\n",
       "Name: total, Length: 81, dtype: float64"
      ]
     },
     "execution_count": 133,
     "metadata": {},
     "output_type": "execute_result"
    }
   ],
   "source": [
    "means2 = df.groupby(['Fishing Mode', 'SpecGroup'])['total'].mean()\n",
    "means2\n"
   ]
  },
  {
   "cell_type": "code",
   "execution_count": 134,
   "metadata": {},
   "outputs": [],
   "source": [
    "#seaborn. look at examples and sub in your colums. try logistical regression, random forest, then cluster. jump ahead to machine learning section."
   ]
  },
  {
   "cell_type": "code",
   "execution_count": 135,
   "metadata": {},
   "outputs": [],
   "source": [
    "import seaborn as sns\n",
    "from sklearn.preprocessing import LabelEncoder \n",
    "from sklearn.cluster import KMeans"
   ]
  },
  {
   "cell_type": "code",
   "execution_count": 136,
   "metadata": {
    "scrolled": true
   },
   "outputs": [
    {
     "data": {
      "text/html": [
       "<div>\n",
       "<style scoped>\n",
       "    .dataframe tbody tr th:only-of-type {\n",
       "        vertical-align: middle;\n",
       "    }\n",
       "\n",
       "    .dataframe tbody tr th {\n",
       "        vertical-align: top;\n",
       "    }\n",
       "\n",
       "    .dataframe thead th {\n",
       "        text-align: right;\n",
       "    }\n",
       "</style>\n",
       "<table border=\"1\" class=\"dataframe\">\n",
       "  <thead>\n",
       "    <tr style=\"text-align: right;\">\n",
       "      <th></th>\n",
       "      <th>Estimate Status_x</th>\n",
       "      <th>Year</th>\n",
       "      <th>Wave</th>\n",
       "      <th>Fishing Mode</th>\n",
       "      <th>Fishing Area</th>\n",
       "      <th>SpecGroup</th>\n",
       "      <th>SubGroup</th>\n",
       "      <th>A</th>\n",
       "      <th>PSE_x</th>\n",
       "      <th>B1</th>\n",
       "      <th>PSE.1</th>\n",
       "      <th>B2</th>\n",
       "      <th>PSE.2</th>\n",
       "      <th>Estimate Status_y</th>\n",
       "      <th>Angler Trips</th>\n",
       "      <th>PSE_y</th>\n",
       "      <th>total</th>\n",
       "    </tr>\n",
       "  </thead>\n",
       "  <tbody>\n",
       "    <tr>\n",
       "      <th>0</th>\n",
       "      <td>FINAL</td>\n",
       "      <td>2010</td>\n",
       "      <td>MARCH/APRIL</td>\n",
       "      <td>SHORE</td>\n",
       "      <td>INLAND</td>\n",
       "      <td>CARTILAGINOUS FISHES</td>\n",
       "      <td>SKATES/RAYS</td>\n",
       "      <td>0</td>\n",
       "      <td>.</td>\n",
       "      <td>0</td>\n",
       "      <td>.</td>\n",
       "      <td>10143</td>\n",
       "      <td>105.8</td>\n",
       "      <td>FINAL</td>\n",
       "      <td>730139</td>\n",
       "      <td>19.1</td>\n",
       "      <td>10143</td>\n",
       "    </tr>\n",
       "    <tr>\n",
       "      <th>1</th>\n",
       "      <td>FINAL</td>\n",
       "      <td>2010</td>\n",
       "      <td>MARCH/APRIL</td>\n",
       "      <td>SHORE</td>\n",
       "      <td>INLAND</td>\n",
       "      <td>CATFISHES</td>\n",
       "      <td>FRESHWATER CATFISHES</td>\n",
       "      <td>35600</td>\n",
       "      <td>63.5</td>\n",
       "      <td>0</td>\n",
       "      <td>.</td>\n",
       "      <td>60656</td>\n",
       "      <td>68.6</td>\n",
       "      <td>FINAL</td>\n",
       "      <td>730139</td>\n",
       "      <td>19.1</td>\n",
       "      <td>96256</td>\n",
       "    </tr>\n",
       "    <tr>\n",
       "      <th>2</th>\n",
       "      <td>FINAL</td>\n",
       "      <td>2010</td>\n",
       "      <td>MARCH/APRIL</td>\n",
       "      <td>SHORE</td>\n",
       "      <td>INLAND</td>\n",
       "      <td>OTHER FISHES</td>\n",
       "      <td>OTHER FISHES</td>\n",
       "      <td>53567</td>\n",
       "      <td>60.7</td>\n",
       "      <td>0</td>\n",
       "      <td>.</td>\n",
       "      <td>284146</td>\n",
       "      <td>58.3</td>\n",
       "      <td>FINAL</td>\n",
       "      <td>730139</td>\n",
       "      <td>19.1</td>\n",
       "      <td>337713</td>\n",
       "    </tr>\n",
       "    <tr>\n",
       "      <th>3</th>\n",
       "      <td>FINAL</td>\n",
       "      <td>2010</td>\n",
       "      <td>MARCH/APRIL</td>\n",
       "      <td>SHORE</td>\n",
       "      <td>INLAND</td>\n",
       "      <td>TEMPERATE BASSES</td>\n",
       "      <td>STRIPED BASS</td>\n",
       "      <td>0</td>\n",
       "      <td>.</td>\n",
       "      <td>0</td>\n",
       "      <td>.</td>\n",
       "      <td>714968</td>\n",
       "      <td>84.8</td>\n",
       "      <td>FINAL</td>\n",
       "      <td>730139</td>\n",
       "      <td>19.1</td>\n",
       "      <td>714968</td>\n",
       "    </tr>\n",
       "    <tr>\n",
       "      <th>4</th>\n",
       "      <td>FINAL</td>\n",
       "      <td>2010</td>\n",
       "      <td>MARCH/APRIL</td>\n",
       "      <td>SHORE</td>\n",
       "      <td>INLAND</td>\n",
       "      <td>TEMPERATE BASSES</td>\n",
       "      <td>WHITE PERCH</td>\n",
       "      <td>1313617</td>\n",
       "      <td>60.8</td>\n",
       "      <td>0</td>\n",
       "      <td>.</td>\n",
       "      <td>1302508</td>\n",
       "      <td>82.8</td>\n",
       "      <td>FINAL</td>\n",
       "      <td>730139</td>\n",
       "      <td>19.1</td>\n",
       "      <td>2616125</td>\n",
       "    </tr>\n",
       "  </tbody>\n",
       "</table>\n",
       "</div>"
      ],
      "text/plain": [
       "  Estimate Status_x  Year         Wave Fishing Mode Fishing Area  \\\n",
       "0             FINAL  2010  MARCH/APRIL        SHORE       INLAND   \n",
       "1             FINAL  2010  MARCH/APRIL        SHORE       INLAND   \n",
       "2             FINAL  2010  MARCH/APRIL        SHORE       INLAND   \n",
       "3             FINAL  2010  MARCH/APRIL        SHORE       INLAND   \n",
       "4             FINAL  2010  MARCH/APRIL        SHORE       INLAND   \n",
       "\n",
       "              SpecGroup              SubGroup        A PSE_x  B1 PSE.1  \\\n",
       "0  CARTILAGINOUS FISHES           SKATES/RAYS        0     .   0     .   \n",
       "1             CATFISHES  FRESHWATER CATFISHES    35600  63.5   0     .   \n",
       "2          OTHER FISHES          OTHER FISHES    53567  60.7   0     .   \n",
       "3      TEMPERATE BASSES          STRIPED BASS        0     .   0     .   \n",
       "4      TEMPERATE BASSES           WHITE PERCH  1313617  60.8   0     .   \n",
       "\n",
       "        B2  PSE.2 Estimate Status_y  Angler Trips PSE_y    total  \n",
       "0    10143  105.8             FINAL        730139  19.1    10143  \n",
       "1    60656   68.6             FINAL        730139  19.1    96256  \n",
       "2   284146   58.3             FINAL        730139  19.1   337713  \n",
       "3   714968   84.8             FINAL        730139  19.1   714968  \n",
       "4  1302508   82.8             FINAL        730139  19.1  2616125  "
      ]
     },
     "execution_count": 136,
     "metadata": {},
     "output_type": "execute_result"
    }
   ],
   "source": [
    "df.head()"
   ]
  },
  {
   "cell_type": "code",
   "execution_count": null,
   "metadata": {},
   "outputs": [],
   "source": []
  },
  {
   "cell_type": "code",
   "execution_count": 137,
   "metadata": {},
   "outputs": [
    {
     "name": "stdout",
     "output_type": "stream",
     "text": [
      "<class 'pandas.core.frame.DataFrame'>\n",
      "Int64Index: 2848 entries, 0 to 2847\n",
      "Data columns (total 17 columns):\n",
      " #   Column             Non-Null Count  Dtype \n",
      "---  ------             --------------  ----- \n",
      " 0   Estimate Status_x  2848 non-null   object\n",
      " 1   Year               2848 non-null   int64 \n",
      " 2   Wave               2848 non-null   object\n",
      " 3   Fishing Mode       2848 non-null   object\n",
      " 4   Fishing Area       2848 non-null   object\n",
      " 5   SpecGroup          2848 non-null   object\n",
      " 6   SubGroup           2848 non-null   object\n",
      " 7   A                  2848 non-null   int64 \n",
      " 8   PSE_x              2848 non-null   object\n",
      " 9   B1                 2848 non-null   int64 \n",
      " 10  PSE.1              2848 non-null   object\n",
      " 11  B2                 2848 non-null   int64 \n",
      " 12  PSE.2              2848 non-null   object\n",
      " 13  Estimate Status_y  2848 non-null   object\n",
      " 14  Angler Trips       2848 non-null   int64 \n",
      " 15  PSE_y              2848 non-null   object\n",
      " 16  total              2848 non-null   int64 \n",
      "dtypes: int64(6), object(11)\n",
      "memory usage: 400.5+ KB\n",
      "None\n"
     ]
    }
   ],
   "source": [
    "print(df.info())"
   ]
  },
  {
   "cell_type": "code",
   "execution_count": 138,
   "metadata": {},
   "outputs": [
    {
     "name": "stdout",
     "output_type": "stream",
     "text": [
      "<class 'pandas.core.frame.DataFrame'>\n",
      "Int64Index: 2848 entries, 0 to 2847\n",
      "Data columns (total 17 columns):\n",
      " #   Column             Non-Null Count  Dtype \n",
      "---  ------             --------------  ----- \n",
      " 0   Estimate Status_x  2848 non-null   object\n",
      " 1   Year               2848 non-null   int64 \n",
      " 2   Wave               2848 non-null   object\n",
      " 3   Fishing Mode       2848 non-null   int32 \n",
      " 4   Fishing Area       2848 non-null   int32 \n",
      " 5   SpecGroup          2848 non-null   int32 \n",
      " 6   SubGroup           2848 non-null   object\n",
      " 7   A                  2848 non-null   int64 \n",
      " 8   PSE_x              2848 non-null   object\n",
      " 9   B1                 2848 non-null   int64 \n",
      " 10  PSE.1              2848 non-null   object\n",
      " 11  B2                 2848 non-null   int64 \n",
      " 12  PSE.2              2848 non-null   object\n",
      " 13  Estimate Status_y  2848 non-null   object\n",
      " 14  Angler Trips       2848 non-null   int64 \n",
      " 15  PSE_y              2848 non-null   object\n",
      " 16  total              2848 non-null   int64 \n",
      "dtypes: int32(3), int64(6), object(8)\n",
      "memory usage: 367.1+ KB\n",
      "None\n"
     ]
    }
   ],
   "source": [
    "#transform 'Fishing Mode' and 'Fishing Area' colums into numerical values\n",
    "le = LabelEncoder().fit(df['Fishing Mode'])\n",
    "df['Fishing Mode'] = le.transform(df['Fishing Mode'])\n",
    "\n",
    "ld = LabelEncoder().fit(df['Fishing Area'])\n",
    "df['Fishing Area'] = ld.transform(df['Fishing Area'])\n",
    "\n",
    "ls = LabelEncoder().fit(df['SpecGroup'])\n",
    "df['SpecGroup'] = ls.transform(df['SpecGroup'])\n",
    "print(df.info())"
   ]
  },
  {
   "cell_type": "code",
   "execution_count": 139,
   "metadata": {},
   "outputs": [
    {
     "name": "stdout",
     "output_type": "stream",
     "text": [
      "{'BLUEFISH': 0, 'CARTILAGINOUS FISHES': 1, 'CATFISHES': 2, 'CODS AND HAKES': 3, 'DOLPHINS': 4, 'DRUMS': 5, 'EELS': 6, 'FLOUNDERS': 7, 'GRUNTS': 8, 'HERRINGS': 9, 'JACKS': 10, 'OTHER FISHES': 11, 'PORGIES': 12, 'PUFFERS': 13, 'SCULPINS': 14, 'SEA BASSES': 15, 'SEAROBINS': 16, 'TEMPERATE BASSES': 17, 'TOADFISHES': 18, 'TRIGGERFISHES/FILEFISHES': 19, 'TUNAS AND MACKERELS': 20, 'WRASSES': 21}\n"
     ]
    }
   ],
   "source": [
    "#tried to make a dictionary to show the old name of 'Fishing Area : New Key, but it's not working\n",
    "L = list(ls.inverse_transform(df['SpecGroup']))\n",
    "d = dict(zip(ls.classes_, ls.transform(ls.classes_)))\n",
    "print (d)"
   ]
  },
  {
   "cell_type": "code",
   "execution_count": 140,
   "metadata": {},
   "outputs": [
    {
     "name": "stdout",
     "output_type": "stream",
     "text": [
      "{'INLAND': 0, 'OCEAN (<= 3 MI)': 1, 'OCEAN (> 3 MI)': 2}\n"
     ]
    }
   ],
   "source": [
    "#tried to make a dictionary to show the old name of 'Fishing Area : New Key, but it's not working\n",
    "L = list(ld.inverse_transform(df['Fishing Area']))\n",
    "d = dict(zip(ld.classes_, ld.transform(ld.classes_)))\n",
    "print (d)"
   ]
  },
  {
   "cell_type": "code",
   "execution_count": 141,
   "metadata": {},
   "outputs": [
    {
     "name": "stdout",
     "output_type": "stream",
     "text": [
      "{'CHARTER BOAT': 0, 'PARTY BOAT': 1, 'PRIVATE/RENTAL BOAT': 2, 'SHORE': 3}\n"
     ]
    }
   ],
   "source": [
    "L = list(le.inverse_transform(df['Fishing Mode']))\n",
    "d = dict(zip(le.classes_, le.transform(le.classes_)))\n",
    "print (d)"
   ]
  },
  {
   "cell_type": "code",
   "execution_count": 142,
   "metadata": {},
   "outputs": [
    {
     "name": "stderr",
     "output_type": "stream",
     "text": [
      "C:\\Users\\hindm\\Anaconda\\lib\\site-packages\\seaborn\\_decorators.py:36: FutureWarning: Pass the following variables as keyword args: x, y. From version 0.12, the only valid positional argument will be `data`, and passing other arguments without an explicit keyword will result in an error or misinterpretation.\n",
      "  warnings.warn(\n"
     ]
    },
    {
     "data": {
      "text/plain": [
       "<AxesSubplot:xlabel='Year', ylabel='total'>"
      ]
     },
     "execution_count": 142,
     "metadata": {},
     "output_type": "execute_result"
    },
    {
     "data": {
      "image/png": "[encoded data removed]",
      "text/plain": [
       "<Figure size 432x288 with 1 Axes>"
      ]
     },
     "metadata": {
      "needs_background": "light"
     },
     "output_type": "display_data"
    }
   ],
   "source": [
    "#violin plot\n",
    "sns.violinplot('Year','total',data=df,palette='coolwarm')"
   ]
  },
  {
   "cell_type": "code",
   "execution_count": 143,
   "metadata": {},
   "outputs": [
    {
     "data": {
      "text/plain": [
       "<AxesSubplot:xlabel='Year', ylabel='count'>"
      ]
     },
     "execution_count": 143,
     "metadata": {},
     "output_type": "execute_result"
    },
    {
     "data": {
      "image/png": "[encoded data removed]",
      "text/plain": [
       "<Figure size 432x288 with 1 Axes>"
      ]
     },
     "metadata": {
      "needs_background": "light"
     },
     "output_type": "display_data"
    }
   ],
   "source": [
    "#I think this is a useless graph. count plot of fishing mode in each year. but the counts in the dataframe each have their own number of trips recorded?\n",
    "sns.countplot(x='Year',hue='Fishing Mode',data=df)"
   ]
  },
  {
   "cell_type": "code",
   "execution_count": 144,
   "metadata": {},
   "outputs": [
    {
     "data": {
      "text/plain": [
       "<seaborn.axisgrid.FacetGrid at 0x24d70c99b80>"
      ]
     },
     "execution_count": 144,
     "metadata": {},
     "output_type": "execute_result"
    },
    {
     "data": {
      "image/png": "[encoded data removed]",
      "text/plain": [
       "<Figure size 2160x216 with 10 Axes>"
      ]
     },
     "metadata": {
      "needs_background": "light"
     },
     "output_type": "display_data"
    }
   ],
   "source": [
    "g = sns.FacetGrid(col='Year',hue='Fishing Mode',data=df,legend_out=False)\n",
    "g.map(sns.scatterplot,'Fishing Mode','total')"
   ]
  },
  {
   "cell_type": "code",
   "execution_count": 145,
   "metadata": {},
   "outputs": [
    {
     "data": {
      "text/plain": [
       "<seaborn.axisgrid.FacetGrid at 0x24d6d352df0>"
      ]
     },
     "execution_count": 145,
     "metadata": {},
     "output_type": "execute_result"
    },
    {
     "data": {
      "image/png": "[encoded data removed]",
      "text/plain": [
       "<Figure size 864x216 with 4 Axes>"
      ]
     },
     "metadata": {
      "needs_background": "light"
     },
     "output_type": "display_data"
    }
   ],
   "source": [
    "g = sns.FacetGrid(col='Fishing Mode',data=df,legend_out=False)\n",
    "g.map(sns.scatterplot,'Angler Trips','total')"
   ]
  },
  {
   "cell_type": "code",
   "execution_count": 146,
   "metadata": {},
   "outputs": [
    {
     "data": {
      "text/plain": [
       "<seaborn.axisgrid.FacetGrid at 0x24d70fdf8e0>"
      ]
     },
     "execution_count": 146,
     "metadata": {},
     "output_type": "execute_result"
    },
    {
     "data": {
      "image/png": "[encoded data removed]",
      "text/plain": [
       "<Figure size 648x216 with 3 Axes>"
      ]
     },
     "metadata": {
      "needs_background": "light"
     },
     "output_type": "display_data"
    }
   ],
   "source": [
    "g = sns.FacetGrid(col='Fishing Area',data=df,legend_out=False)\n",
    "g.map(sns.scatterplot,'Angler Trips','total')"
   ]
  },
  {
   "cell_type": "code",
   "execution_count": 147,
   "metadata": {},
   "outputs": [
    {
     "name": "stderr",
     "output_type": "stream",
     "text": [
      "C:\\Users\\hindm\\Anaconda\\lib\\site-packages\\seaborn\\_decorators.py:36: FutureWarning: Pass the following variables as keyword args: x, y. From version 0.12, the only valid positional argument will be `data`, and passing other arguments without an explicit keyword will result in an error or misinterpretation.\n",
      "  warnings.warn(\n"
     ]
    },
    {
     "data": {
      "text/plain": [
       "<AxesSubplot:xlabel='SpecGroup', ylabel='total'>"
      ]
     },
     "execution_count": 147,
     "metadata": {},
     "output_type": "execute_result"
    },
    {
     "data": {
      "image/png": "[encoded data removed]",
      "text/plain": [
       "<Figure size 432x288 with 1 Axes>"
      ]
     },
     "metadata": {
      "needs_background": "light"
     },
     "output_type": "display_data"
    }
   ],
   "source": [
    "sns.boxplot('SpecGroup','total',data=df)"
   ]
  },
  {
   "cell_type": "code",
   "execution_count": null,
   "metadata": {},
   "outputs": [],
   "source": [
    "#Should I drop fishing area 0? And Fishing modes 0 and 1? How do I figure out for sure which ones those area because my \n",
    "#revers transform dict didnt work.\n",
    "#Also, how can I break out the histograms for each species group? Group 17 aka Temperate Basses overwhelms the other types\n",
    "#of fish caught."
   ]
  },
  {
   "cell_type": "code",
   "execution_count": 149,
   "metadata": {},
   "outputs": [
    {
     "data": {
      "text/plain": [
       "<AxesSubplot:xlabel='total'>"
      ]
     },
     "execution_count": 149,
     "metadata": {},
     "output_type": "execute_result"
    },
    {
     "data": {
      "image/png": "[encoded data removed]",
      "text/plain": [
       "<Figure size 432x288 with 1 Axes>"
      ]
     },
     "metadata": {
      "needs_background": "light"
     },
     "output_type": "display_data"
    }
   ],
   "source": [
    "sns.boxplot(x=df['total'])"
   ]
  },
  {
   "cell_type": "code",
   "execution_count": 155,
   "metadata": {},
   "outputs": [
    {
     "name": "stderr",
     "output_type": "stream",
     "text": [
      "C:\\Users\\hindm\\Anaconda\\lib\\site-packages\\seaborn\\axisgrid.py:645: UserWarning: Using the boxplot function without specifying `order` is likely to produce an incorrect plot.\n",
      "  warnings.warn(warning)\n"
     ]
    },
    {
     "data": {
      "text/plain": [
       "(0.0, 1000000.0)"
      ]
     },
     "execution_count": 155,
     "metadata": {},
     "output_type": "execute_result"
    },
    {
     "data": {
      "image/png": "[encoded data removed]",
      "text/plain": [
       "<Figure size 648x216 with 3 Axes>"
      ]
     },
     "metadata": {
      "needs_background": "light"
     },
     "output_type": "display_data"
    }
   ],
   "source": [
    "g = sns.FacetGrid(col='Fishing Area',data=df,legend_out=False)\n",
    "g.map(sns.boxplot,'total')\n",
    "plt.xlim(0, 1000000)"
   ]
  },
  {
   "cell_type": "code",
   "execution_count": 157,
   "metadata": {},
   "outputs": [
    {
     "name": "stdout",
     "output_type": "stream",
     "text": [
      "[0.29196507 0.12413102 0.34646815 ... 0.00532011 0.31024667 0.27825582]\n"
     ]
    }
   ],
   "source": [
    "#looking for an outlier using z-score\n",
    "from scipy import stats\n",
    "z = np.abs(stats.zscore(df['total']))\n",
    "print(z)"
   ]
  },
  {
   "cell_type": "code",
   "execution_count": 158,
   "metadata": {},
   "outputs": [
    {
     "name": "stdout",
     "output_type": "stream",
     "text": [
      "(array([   4,   68,   90,   94,  149,  152,  160,  182,  260,  459,  543,\n",
      "        598,  644,  654,  662,  712,  722,  723,  733,  734,  781,  791,\n",
      "        792,  841,  866,  867,  875,  886,  888,  894,  941,  944,  952,\n",
      "        953, 1065, 1106, 1123, 1130, 1192, 1194, 1205, 1264, 1296, 1434,\n",
      "       1512, 1513, 1540, 1570, 1623, 1624, 1723, 1724, 1852, 1938, 1954,\n",
      "       2026, 2030, 2042, 2043, 2182, 2364, 2365, 2504, 2698, 2711, 2712,\n",
      "       2727, 2805, 2806], dtype=int64),)\n"
     ]
    }
   ],
   "source": [
    "#set threshold to 3 std deviations\n",
    "threshold = 3\n",
    "print(np.where(z > 3))"
   ]
  },
  {
   "cell_type": "code",
   "execution_count": 159,
   "metadata": {},
   "outputs": [
    {
     "name": "stderr",
     "output_type": "stream",
     "text": [
      "C:\\Users\\hindm\\Anaconda\\lib\\site-packages\\seaborn\\distributions.py:2551: FutureWarning: `distplot` is a deprecated function and will be removed in a future version. Please adapt your code to use either `displot` (a figure-level function with similar flexibility) or `histplot` (an axes-level function for histograms).\n",
      "  warnings.warn(msg, FutureWarning)\n",
      "C:\\Users\\hindm\\Anaconda\\lib\\site-packages\\seaborn\\distributions.py:2551: FutureWarning: `distplot` is a deprecated function and will be removed in a future version. Please adapt your code to use either `displot` (a figure-level function with similar flexibility) or `histplot` (an axes-level function for histograms).\n",
      "  warnings.warn(msg, FutureWarning)\n",
      "C:\\Users\\hindm\\Anaconda\\lib\\site-packages\\seaborn\\distributions.py:2551: FutureWarning: `distplot` is a deprecated function and will be removed in a future version. Please adapt your code to use either `displot` (a figure-level function with similar flexibility) or `histplot` (an axes-level function for histograms).\n",
      "  warnings.warn(msg, FutureWarning)\n"
     ]
    },
    {
     "data": {
      "text/plain": [
       "(0.0, 1000000.0)"
      ]
     },
     "execution_count": 159,
     "metadata": {},
     "output_type": "execute_result"
    },
    {
     "data": {
      "image/png": "[encoded data removed]",
      "text/plain": [
       "<Figure size 648x216 with 3 Axes>"
      ]
     },
     "metadata": {
      "needs_background": "light"
     },
     "output_type": "display_data"
    }
   ],
   "source": [
    "g = sns.FacetGrid(col='Fishing Area',data=df,legend_out=False)\n",
    "g.map(sns.distplot,'total')\n",
    "plt.xlim(0, 1000000)"
   ]
  },
  {
   "cell_type": "code",
   "execution_count": 162,
   "metadata": {},
   "outputs": [
    {
     "data": {
      "text/html": [
       "<div>\n",
       "<style scoped>\n",
       "    .dataframe tbody tr th:only-of-type {\n",
       "        vertical-align: middle;\n",
       "    }\n",
       "\n",
       "    .dataframe tbody tr th {\n",
       "        vertical-align: top;\n",
       "    }\n",
       "\n",
       "    .dataframe thead th {\n",
       "        text-align: right;\n",
       "    }\n",
       "</style>\n",
       "<table border=\"1\" class=\"dataframe\">\n",
       "  <thead>\n",
       "    <tr style=\"text-align: right;\">\n",
       "      <th></th>\n",
       "      <th>Estimate Status_x</th>\n",
       "      <th>Year</th>\n",
       "      <th>Wave</th>\n",
       "      <th>Fishing Mode</th>\n",
       "      <th>Fishing Area</th>\n",
       "      <th>SpecGroup</th>\n",
       "      <th>SubGroup</th>\n",
       "      <th>A</th>\n",
       "      <th>PSE_x</th>\n",
       "      <th>B1</th>\n",
       "      <th>PSE.1</th>\n",
       "      <th>B2</th>\n",
       "      <th>PSE.2</th>\n",
       "      <th>Estimate Status_y</th>\n",
       "      <th>Angler Trips</th>\n",
       "      <th>PSE_y</th>\n",
       "      <th>total</th>\n",
       "      <th>CatchPerTrip</th>\n",
       "    </tr>\n",
       "  </thead>\n",
       "  <tbody>\n",
       "    <tr>\n",
       "      <th>0</th>\n",
       "      <td>FINAL</td>\n",
       "      <td>2010</td>\n",
       "      <td>MARCH/APRIL</td>\n",
       "      <td>3</td>\n",
       "      <td>0</td>\n",
       "      <td>1</td>\n",
       "      <td>SKATES/RAYS</td>\n",
       "      <td>0</td>\n",
       "      <td>.</td>\n",
       "      <td>0</td>\n",
       "      <td>.</td>\n",
       "      <td>10143</td>\n",
       "      <td>105.8</td>\n",
       "      <td>FINAL</td>\n",
       "      <td>730139</td>\n",
       "      <td>19.1</td>\n",
       "      <td>10143</td>\n",
       "      <td>0.013892</td>\n",
       "    </tr>\n",
       "    <tr>\n",
       "      <th>1</th>\n",
       "      <td>FINAL</td>\n",
       "      <td>2010</td>\n",
       "      <td>MARCH/APRIL</td>\n",
       "      <td>3</td>\n",
       "      <td>0</td>\n",
       "      <td>2</td>\n",
       "      <td>FRESHWATER CATFISHES</td>\n",
       "      <td>35600</td>\n",
       "      <td>63.5</td>\n",
       "      <td>0</td>\n",
       "      <td>.</td>\n",
       "      <td>60656</td>\n",
       "      <td>68.6</td>\n",
       "      <td>FINAL</td>\n",
       "      <td>730139</td>\n",
       "      <td>19.1</td>\n",
       "      <td>96256</td>\n",
       "      <td>0.131832</td>\n",
       "    </tr>\n",
       "    <tr>\n",
       "      <th>2</th>\n",
       "      <td>FINAL</td>\n",
       "      <td>2010</td>\n",
       "      <td>MARCH/APRIL</td>\n",
       "      <td>3</td>\n",
       "      <td>0</td>\n",
       "      <td>11</td>\n",
       "      <td>OTHER FISHES</td>\n",
       "      <td>53567</td>\n",
       "      <td>60.7</td>\n",
       "      <td>0</td>\n",
       "      <td>.</td>\n",
       "      <td>284146</td>\n",
       "      <td>58.3</td>\n",
       "      <td>FINAL</td>\n",
       "      <td>730139</td>\n",
       "      <td>19.1</td>\n",
       "      <td>337713</td>\n",
       "      <td>0.462532</td>\n",
       "    </tr>\n",
       "    <tr>\n",
       "      <th>3</th>\n",
       "      <td>FINAL</td>\n",
       "      <td>2010</td>\n",
       "      <td>MARCH/APRIL</td>\n",
       "      <td>3</td>\n",
       "      <td>0</td>\n",
       "      <td>17</td>\n",
       "      <td>STRIPED BASS</td>\n",
       "      <td>0</td>\n",
       "      <td>.</td>\n",
       "      <td>0</td>\n",
       "      <td>.</td>\n",
       "      <td>714968</td>\n",
       "      <td>84.8</td>\n",
       "      <td>FINAL</td>\n",
       "      <td>730139</td>\n",
       "      <td>19.1</td>\n",
       "      <td>714968</td>\n",
       "      <td>0.979222</td>\n",
       "    </tr>\n",
       "    <tr>\n",
       "      <th>4</th>\n",
       "      <td>FINAL</td>\n",
       "      <td>2010</td>\n",
       "      <td>MARCH/APRIL</td>\n",
       "      <td>3</td>\n",
       "      <td>0</td>\n",
       "      <td>17</td>\n",
       "      <td>WHITE PERCH</td>\n",
       "      <td>1313617</td>\n",
       "      <td>60.8</td>\n",
       "      <td>0</td>\n",
       "      <td>.</td>\n",
       "      <td>1302508</td>\n",
       "      <td>82.8</td>\n",
       "      <td>FINAL</td>\n",
       "      <td>730139</td>\n",
       "      <td>19.1</td>\n",
       "      <td>2616125</td>\n",
       "      <td>3.583051</td>\n",
       "    </tr>\n",
       "  </tbody>\n",
       "</table>\n",
       "</div>"
      ],
      "text/plain": [
       "  Estimate Status_x  Year         Wave  Fishing Mode  Fishing Area  SpecGroup  \\\n",
       "0             FINAL  2010  MARCH/APRIL             3             0          1   \n",
       "1             FINAL  2010  MARCH/APRIL             3             0          2   \n",
       "2             FINAL  2010  MARCH/APRIL             3             0         11   \n",
       "3             FINAL  2010  MARCH/APRIL             3             0         17   \n",
       "4             FINAL  2010  MARCH/APRIL             3             0         17   \n",
       "\n",
       "               SubGroup        A PSE_x  B1 PSE.1       B2  PSE.2  \\\n",
       "0           SKATES/RAYS        0     .   0     .    10143  105.8   \n",
       "1  FRESHWATER CATFISHES    35600  63.5   0     .    60656   68.6   \n",
       "2          OTHER FISHES    53567  60.7   0     .   284146   58.3   \n",
       "3          STRIPED BASS        0     .   0     .   714968   84.8   \n",
       "4           WHITE PERCH  1313617  60.8   0     .  1302508   82.8   \n",
       "\n",
       "  Estimate Status_y  Angler Trips PSE_y    total  CatchPerTrip  \n",
       "0             FINAL        730139  19.1    10143      0.013892  \n",
       "1             FINAL        730139  19.1    96256      0.131832  \n",
       "2             FINAL        730139  19.1   337713      0.462532  \n",
       "3             FINAL        730139  19.1   714968      0.979222  \n",
       "4             FINAL        730139  19.1  2616125      3.583051  "
      ]
     },
     "execution_count": 162,
     "metadata": {},
     "output_type": "execute_result"
    }
   ],
   "source": [
    "#Total catch varies such a large amount. I'm going to incorporate a catch per trip column, which divides the total catch\n",
    "#by the number of angler trips recorded.\n",
    "\n",
    "df['CatchPerTrip'] = np.where(df['total'] < 1, df['total'], df['total']/df['Angler Trips'])\n",
    "df.head()"
   ]
  },
  {
   "cell_type": "code",
   "execution_count": 163,
   "metadata": {},
   "outputs": [
    {
     "name": "stderr",
     "output_type": "stream",
     "text": [
      "C:\\Users\\hindm\\Anaconda\\lib\\site-packages\\seaborn\\axisgrid.py:645: UserWarning: Using the boxplot function without specifying `order` is likely to produce an incorrect plot.\n",
      "  warnings.warn(warning)\n"
     ]
    },
    {
     "data": {
      "text/plain": [
       "<seaborn.axisgrid.FacetGrid at 0x24d72b3d970>"
      ]
     },
     "execution_count": 163,
     "metadata": {},
     "output_type": "execute_result"
    },
    {
     "data": {
      "image/png": "[encoded data removed]",
      "text/plain": [
       "<Figure size 648x216 with 3 Axes>"
      ]
     },
     "metadata": {
      "needs_background": "light"
     },
     "output_type": "display_data"
    }
   ],
   "source": [
    "g = sns.FacetGrid(col='Fishing Area',data=df,legend_out=False)\n",
    "g.map(sns.boxplot,'CatchPerTrip')"
   ]
  },
  {
   "cell_type": "code",
   "execution_count": 164,
   "metadata": {},
   "outputs": [
    {
     "data": {
      "text/plain": [
       "<seaborn.axisgrid.FacetGrid at 0x24d73098fd0>"
      ]
     },
     "execution_count": 164,
     "metadata": {},
     "output_type": "execute_result"
    },
    {
     "data": {
      "image/png": "[encoded data removed]",
      "text/plain": [
       "<Figure size 864x216 with 4 Axes>"
      ]
     },
     "metadata": {
      "needs_background": "light"
     },
     "output_type": "display_data"
    }
   ],
   "source": [
    "g = sns.FacetGrid(col='Fishing Mode',data=df,legend_out=False)\n",
    "g.map(sns.scatterplot,'Angler Trips','CatchPerTrip')"
   ]
  },
  {
   "cell_type": "code",
   "execution_count": 165,
   "metadata": {},
   "outputs": [],
   "source": [
    "floatdf = df.drop(columns=['Estimate Status_x', 'Wave', 'SubGroup','PSE_x', 'PSE.1', 'PSE.2','A','B1','B2','Estimate Status_y', 'PSE_y'])"
   ]
  },
  {
   "cell_type": "code",
   "execution_count": 166,
   "metadata": {},
   "outputs": [
    {
     "data": {
      "image/png": "[encoded data removed]",
      "text/plain": [
       "<Figure size 432x288 with 1 Axes>"
      ]
     },
     "metadata": {
      "needs_background": "light"
     },
     "output_type": "display_data"
    }
   ],
   "source": [
    "# get right number of cluster for K-means so we neeed to loop from 1 to 20 number of cluster and check score.\n",
    "#Elbow method is used to represnt that. Looks like ~3 clusters would be best\n",
    "Nc = range(1, 20)\n",
    "kmeans = [KMeans(n_clusters=i) for i in Nc]\n",
    "score = [kmeans[i].fit(floatdf).score(floatdf) for i in range(len(kmeans))]\n",
    "plt.plot(Nc,score)\n",
    "plt.xlabel('Number of Clusters')\n",
    "plt.ylabel('Score')\n",
    "plt.title('Elbow Curve')\n",
    "plt.show()"
   ]
  },
  {
   "cell_type": "code",
   "execution_count": 167,
   "metadata": {},
   "outputs": [],
   "source": [
    "#fitting data in Kmeans theorem.\n",
    "kmeans = KMeans(n_clusters=5, random_state=0).fit(floatdf)"
   ]
  },
  {
   "cell_type": "code",
   "execution_count": 168,
   "metadata": {},
   "outputs": [
    {
     "data": {
      "text/plain": [
       "Year            524\n",
       "Fishing Mode    524\n",
       "Fishing Area    524\n",
       "SpecGroup       524\n",
       "Angler Trips    524\n",
       "total           524\n",
       "CatchPerTrip    524\n",
       "cluster         524\n",
       "dtype: int64"
      ]
     },
     "execution_count": 168,
     "metadata": {},
     "output_type": "execute_result"
    }
   ],
   "source": [
    "# this creates a new column called cluster which has cluster number for each row respectively.\n",
    "floatdf['cluster'] = kmeans.labels_\n",
    "floatdf.loc[floatdf.cluster == 0].count()"
   ]
  },
  {
   "cell_type": "code",
   "execution_count": 171,
   "metadata": {},
   "outputs": [
    {
     "name": "stderr",
     "output_type": "stream",
     "text": [
      "C:\\Users\\hindm\\Anaconda\\lib\\site-packages\\seaborn\\_decorators.py:36: FutureWarning: Pass the following variables as keyword args: x, y. From version 0.12, the only valid positional argument will be `data`, and passing other arguments without an explicit keyword will result in an error or misinterpretation.\n",
      "  warnings.warn(\n",
      "C:\\Users\\hindm\\Anaconda\\lib\\site-packages\\seaborn\\categorical.py:1296: UserWarning: 95.8% of the points cannot be placed; you may want to decrease the size of the markers or use stripplot.\n",
      "  warnings.warn(msg, UserWarning)\n",
      "C:\\Users\\hindm\\Anaconda\\lib\\site-packages\\seaborn\\categorical.py:1296: UserWarning: 10.0% of the points cannot be placed; you may want to decrease the size of the markers or use stripplot.\n",
      "  warnings.warn(msg, UserWarning)\n",
      "C:\\Users\\hindm\\Anaconda\\lib\\site-packages\\seaborn\\categorical.py:1296: UserWarning: 76.8% of the points cannot be placed; you may want to decrease the size of the markers or use stripplot.\n",
      "  warnings.warn(msg, UserWarning)\n",
      "C:\\Users\\hindm\\Anaconda\\lib\\site-packages\\seaborn\\categorical.py:1296: UserWarning: 97.3% of the points cannot be placed; you may want to decrease the size of the markers or use stripplot.\n",
      "  warnings.warn(msg, UserWarning)\n",
      "C:\\Users\\hindm\\Anaconda\\lib\\site-packages\\seaborn\\categorical.py:1296: UserWarning: 96.0% of the points cannot be placed; you may want to decrease the size of the markers or use stripplot.\n",
      "  warnings.warn(msg, UserWarning)\n"
     ]
    },
    {
     "data": {
      "text/plain": [
       "<AxesSubplot:xlabel='cluster', ylabel='Fishing Mode'>"
      ]
     },
     "execution_count": 171,
     "metadata": {},
     "output_type": "execute_result"
    },
    {
     "data": {
      "image/png": "[encoded data removed]",
      "text/plain": [
       "<Figure size 432x288 with 1 Axes>"
      ]
     },
     "metadata": {
      "needs_background": "light"
     },
     "output_type": "display_data"
    }
   ],
   "source": [
    "sns.swarmplot(floatdf.cluster,floatdf['Fishing Mode'])\n",
    "#what are the clusters? what are they clustered around??"
   ]
  },
  {
   "cell_type": "code",
   "execution_count": 173,
   "metadata": {},
   "outputs": [
    {
     "name": "stderr",
     "output_type": "stream",
     "text": [
      "C:\\Users\\hindm\\Anaconda\\lib\\site-packages\\seaborn\\_decorators.py:36: FutureWarning: Pass the following variables as keyword args: x, y. From version 0.12, the only valid positional argument will be `data`, and passing other arguments without an explicit keyword will result in an error or misinterpretation.\n",
      "  warnings.warn(\n"
     ]
    },
    {
     "data": {
      "text/plain": [
       "<AxesSubplot:xlabel='cluster', ylabel='CatchPerTrip'>"
      ]
     },
     "execution_count": 173,
     "metadata": {},
     "output_type": "execute_result"
    },
    {
     "data": {
      "image/png": "[encoded data removed]",
      "text/plain": [
       "<Figure size 432x288 with 1 Axes>"
      ]
     },
     "metadata": {
      "needs_background": "light"
     },
     "output_type": "display_data"
    }
   ],
   "source": [
    "sns.boxplot(floatdf.cluster,floatdf['CatchPerTrip'])"
   ]
  }
 ],
 "metadata": {
  "kernelspec": {
   "display_name": "Python 3",
   "language": "python",
   "name": "python3"
  },
  "language_info": {
   "codemirror_mode": {
    "name": "ipython",
    "version": 3
   },
   "file_extension": ".py",
   "mimetype": "text/x-python",
   "name": "python",
   "nbconvert_exporter": "python",
   "pygments_lexer": "ipython3",
   "version": "3.8.5"
  }
 },
 "nbformat": 4,
 "nbformat_minor": 4
}

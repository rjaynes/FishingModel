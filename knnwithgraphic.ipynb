{
 "cells": [
  {
   "cell_type": "code",
   "execution_count": 142,
   "metadata": {},
   "outputs": [],
   "source": [
    "##Importing data"
   ]
  },
  {
   "cell_type": "code",
   "execution_count": 2,
   "metadata": {},
   "outputs": [
    {
     "name": "stdout",
     "output_type": "stream",
     "text": [
      "  Estimate Status  Year         Wave Fishing Mode Fishing Area  \\\n",
      "0           FINAL  2010  MARCH/APRIL        SHORE       INLAND   \n",
      "1           FINAL  2010  MARCH/APRIL        SHORE       INLAND   \n",
      "2           FINAL  2010  MARCH/APRIL        SHORE       INLAND   \n",
      "3           FINAL  2010  MARCH/APRIL        SHORE       INLAND   \n",
      "4           FINAL  2010  MARCH/APRIL        SHORE       INLAND   \n",
      "\n",
      "          Species Group             Sub Group  Observed Harvest (A)   PSE  \\\n",
      "0  CARTILAGINOUS FISHES           SKATES/RAYS                     0     .   \n",
      "1             CATFISHES  FRESHWATER CATFISHES                 35600  63.5   \n",
      "2          OTHER FISHES          OTHER FISHES                 53567  60.7   \n",
      "3      TEMPERATE BASSES          STRIPED BASS                     0     .   \n",
      "4      TEMPERATE BASSES           WHITE PERCH               1313617  60.8   \n",
      "\n",
      "   Reported Harvest (B1) PSE.1  Released Alive (B2)  PSE.2  \n",
      "0                      0     .                10143  105.8  \n",
      "1                      0     .                60656   68.6  \n",
      "2                      0     .               284146   58.3  \n",
      "3                      0     .               714968   84.8  \n",
      "4                      0     .              1302508   82.8  \n"
     ]
    }
   ],
   "source": [
    "import pandas as pd\n",
    "\n",
    "data = pd.read_csv('mrip_catch_snapshot.csv', header=0)\n",
    "print(data.head())"
   ]
  },
  {
   "cell_type": "code",
   "execution_count": 3,
   "metadata": {},
   "outputs": [
    {
     "name": "stdout",
     "output_type": "stream",
     "text": [
      "  Estimate Status  Year         Wave  Fishing Mode     Fishing Area  \\\n",
      "0           FINAL  2010  MARCH/APRIL         SHORE  OCEAN (<= 3 MI)   \n",
      "1           FINAL  2010  MARCH/APRIL         SHORE           INLAND   \n",
      "2           FINAL  2010  MARCH/APRIL    PARTY BOAT   OCEAN (> 3 MI)   \n",
      "3           FINAL  2010  MARCH/APRIL    PARTY BOAT           INLAND   \n",
      "4           FINAL  2010  MARCH/APRIL  CHARTER BOAT   OCEAN (> 3 MI)   \n",
      "\n",
      "   Angler Trips    PSE  \n",
      "0          4436  109.6  \n",
      "1        730139   19.1  \n",
      "2           788    8.6  \n",
      "3             2    8.6  \n",
      "4             7   17.3  \n"
     ]
    }
   ],
   "source": [
    "catch_effort = pd.read_csv('mrip_effort_series.csv', header=0)\n",
    "print(catch_effort.head())"
   ]
  },
  {
   "cell_type": "code",
   "execution_count": 4,
   "metadata": {},
   "outputs": [],
   "source": [
    "df = pd.merge(data, catch_effort, how='left', on=['Year', 'Wave', 'Fishing Mode', 'Fishing Area'])\n"
   ]
  },
  {
   "cell_type": "code",
   "execution_count": 5,
   "metadata": {},
   "outputs": [],
   "source": [
    "df.rename(columns = {'Observed Harvest (A)':'A', 'Reported Harvest (B1)':'B1', 'Released Alive (B2)':'B2'}, inplace = True) "
   ]
  },
  {
   "cell_type": "code",
   "execution_count": 6,
   "metadata": {
    "scrolled": true
   },
   "outputs": [
    {
     "name": "stdout",
     "output_type": "stream",
     "text": [
      "<class 'pandas.core.frame.DataFrame'>\n",
      "Int64Index: 2848 entries, 0 to 2847\n",
      "Data columns (total 16 columns):\n",
      " #   Column             Non-Null Count  Dtype \n",
      "---  ------             --------------  ----- \n",
      " 0   Estimate Status_x  2848 non-null   object\n",
      " 1   Year               2848 non-null   int64 \n",
      " 2   Wave               2848 non-null   object\n",
      " 3   Fishing Mode       2848 non-null   object\n",
      " 4   Fishing Area       2848 non-null   object\n",
      " 5   Species Group      2848 non-null   object\n",
      " 6   Sub Group          2848 non-null   object\n",
      " 7   A                  2848 non-null   int64 \n",
      " 8   PSE_x              2848 non-null   object\n",
      " 9   B1                 2848 non-null   int64 \n",
      " 10  PSE.1              2848 non-null   object\n",
      " 11  B2                 2848 non-null   int64 \n",
      " 12  PSE.2              2848 non-null   object\n",
      " 13  Estimate Status_y  2848 non-null   object\n",
      " 14  Angler Trips       2848 non-null   int64 \n",
      " 15  PSE_y              2848 non-null   object\n",
      "dtypes: int64(5), object(11)\n",
      "memory usage: 378.2+ KB\n",
      "None\n"
     ]
    }
   ],
   "source": [
    "print(df.info())"
   ]
  },
  {
   "cell_type": "code",
   "execution_count": 7,
   "metadata": {},
   "outputs": [],
   "source": [
    "## Eploring data...\n",
    "\n",
    "#Columns: Year - Year\n",
    "#    Wave - 2 month period \n",
    "#   Fishing Mode - where fishing took place (from shore or type of boat)\n",
    "#   Fishing Area - inland (but not freshwater), near-shore (within 3 miles of shore), and off-shore (over 3 miles from shore)\n",
    "#   Species Group - Type of fish\n",
    "#   Subgroup - More specific description of fish\n",
    "#   A - Observed Harvest - NOAA official observed\n",
    "#   PSE - Percent standard error. Error over 50 indicates a pretty unreliable number\n",
    "#   B1 - Reported Harvest - Fisher reported but was not observed by NOAA\n",
    "#   B2 - Released Alive - fish were caught and released\n",
    "#   Angler Trips - number of trips reported to NOAA \n",
    "#   PSE_y - Percent standard error in angler trip number"
   ]
  },
  {
   "cell_type": "code",
   "execution_count": 8,
   "metadata": {
    "scrolled": true
   },
   "outputs": [],
   "source": [
    "df['total'] = df.A + df.B1 + df.B2\n",
    "#Total - Observed Harvest + Reported Harvest + Released Alive\n"
   ]
  },
  {
   "cell_type": "code",
   "execution_count": 9,
   "metadata": {},
   "outputs": [],
   "source": [
    "df1 = df.drop(columns=['Estimate Status_x', 'Estimate Status_y', 'A', 'PSE_x', 'PSE.1', 'B1', 'B2', 'PSE.2', 'PSE_y'])\n",
    "#dropping columns with no use"
   ]
  },
  {
   "cell_type": "code",
   "execution_count": 10,
   "metadata": {},
   "outputs": [],
   "source": [
    "import numpy as np\n",
    "import matplotlib.mlab as mlab\n",
    "import matplotlib.pyplot as plt"
   ]
  },
  {
   "cell_type": "code",
   "execution_count": 11,
   "metadata": {
    "scrolled": true
   },
   "outputs": [],
   "source": [
    "df1.rename(columns={\"Species Group\": \"SpecGroup\", \"Sub Group\": \"SubGroup\"}, inplace=True)"
   ]
  },
  {
   "cell_type": "code",
   "execution_count": 12,
   "metadata": {},
   "outputs": [],
   "source": [
    "import seaborn as sns\n",
    "from sklearn.preprocessing import LabelEncoder \n",
    "from sklearn.cluster import KMeans"
   ]
  },
  {
   "cell_type": "code",
   "execution_count": 13,
   "metadata": {
    "scrolled": true
   },
   "outputs": [
    {
     "data": {
      "text/html": [
       "<div>\n",
       "<style scoped>\n",
       "    .dataframe tbody tr th:only-of-type {\n",
       "        vertical-align: middle;\n",
       "    }\n",
       "\n",
       "    .dataframe tbody tr th {\n",
       "        vertical-align: top;\n",
       "    }\n",
       "\n",
       "    .dataframe thead th {\n",
       "        text-align: right;\n",
       "    }\n",
       "</style>\n",
       "<table border=\"1\" class=\"dataframe\">\n",
       "  <thead>\n",
       "    <tr style=\"text-align: right;\">\n",
       "      <th></th>\n",
       "      <th>Year</th>\n",
       "      <th>Wave</th>\n",
       "      <th>Fishing Mode</th>\n",
       "      <th>Fishing Area</th>\n",
       "      <th>SpecGroup</th>\n",
       "      <th>SubGroup</th>\n",
       "      <th>Angler Trips</th>\n",
       "      <th>total</th>\n",
       "    </tr>\n",
       "  </thead>\n",
       "  <tbody>\n",
       "    <tr>\n",
       "      <th>0</th>\n",
       "      <td>2010</td>\n",
       "      <td>MARCH/APRIL</td>\n",
       "      <td>SHORE</td>\n",
       "      <td>INLAND</td>\n",
       "      <td>CARTILAGINOUS FISHES</td>\n",
       "      <td>SKATES/RAYS</td>\n",
       "      <td>730139</td>\n",
       "      <td>10143</td>\n",
       "    </tr>\n",
       "    <tr>\n",
       "      <th>1</th>\n",
       "      <td>2010</td>\n",
       "      <td>MARCH/APRIL</td>\n",
       "      <td>SHORE</td>\n",
       "      <td>INLAND</td>\n",
       "      <td>CATFISHES</td>\n",
       "      <td>FRESHWATER CATFISHES</td>\n",
       "      <td>730139</td>\n",
       "      <td>96256</td>\n",
       "    </tr>\n",
       "    <tr>\n",
       "      <th>2</th>\n",
       "      <td>2010</td>\n",
       "      <td>MARCH/APRIL</td>\n",
       "      <td>SHORE</td>\n",
       "      <td>INLAND</td>\n",
       "      <td>OTHER FISHES</td>\n",
       "      <td>OTHER FISHES</td>\n",
       "      <td>730139</td>\n",
       "      <td>337713</td>\n",
       "    </tr>\n",
       "    <tr>\n",
       "      <th>3</th>\n",
       "      <td>2010</td>\n",
       "      <td>MARCH/APRIL</td>\n",
       "      <td>SHORE</td>\n",
       "      <td>INLAND</td>\n",
       "      <td>TEMPERATE BASSES</td>\n",
       "      <td>STRIPED BASS</td>\n",
       "      <td>730139</td>\n",
       "      <td>714968</td>\n",
       "    </tr>\n",
       "    <tr>\n",
       "      <th>4</th>\n",
       "      <td>2010</td>\n",
       "      <td>MARCH/APRIL</td>\n",
       "      <td>SHORE</td>\n",
       "      <td>INLAND</td>\n",
       "      <td>TEMPERATE BASSES</td>\n",
       "      <td>WHITE PERCH</td>\n",
       "      <td>730139</td>\n",
       "      <td>2616125</td>\n",
       "    </tr>\n",
       "  </tbody>\n",
       "</table>\n",
       "</div>"
      ],
      "text/plain": [
       "   Year         Wave Fishing Mode Fishing Area             SpecGroup  \\\n",
       "0  2010  MARCH/APRIL        SHORE       INLAND  CARTILAGINOUS FISHES   \n",
       "1  2010  MARCH/APRIL        SHORE       INLAND             CATFISHES   \n",
       "2  2010  MARCH/APRIL        SHORE       INLAND          OTHER FISHES   \n",
       "3  2010  MARCH/APRIL        SHORE       INLAND      TEMPERATE BASSES   \n",
       "4  2010  MARCH/APRIL        SHORE       INLAND      TEMPERATE BASSES   \n",
       "\n",
       "               SubGroup  Angler Trips    total  \n",
       "0           SKATES/RAYS        730139    10143  \n",
       "1  FRESHWATER CATFISHES        730139    96256  \n",
       "2          OTHER FISHES        730139   337713  \n",
       "3          STRIPED BASS        730139   714968  \n",
       "4           WHITE PERCH        730139  2616125  "
      ]
     },
     "execution_count": 13,
     "metadata": {},
     "output_type": "execute_result"
    }
   ],
   "source": [
    "df1.head()"
   ]
  },
  {
   "cell_type": "code",
   "execution_count": 14,
   "metadata": {},
   "outputs": [
    {
     "name": "stdout",
     "output_type": "stream",
     "text": [
      "<class 'pandas.core.frame.DataFrame'>\n",
      "Int64Index: 2848 entries, 0 to 2847\n",
      "Data columns (total 8 columns):\n",
      " #   Column        Non-Null Count  Dtype \n",
      "---  ------        --------------  ----- \n",
      " 0   Year          2848 non-null   int64 \n",
      " 1   Wave          2848 non-null   object\n",
      " 2   Fishing Mode  2848 non-null   object\n",
      " 3   Fishing Area  2848 non-null   object\n",
      " 4   SpecGroup     2848 non-null   object\n",
      " 5   SubGroup      2848 non-null   object\n",
      " 6   Angler Trips  2848 non-null   int64 \n",
      " 7   total         2848 non-null   int64 \n",
      "dtypes: int64(3), object(5)\n",
      "memory usage: 200.2+ KB\n",
      "None\n"
     ]
    }
   ],
   "source": [
    "print(df1.info())"
   ]
  },
  {
   "cell_type": "code",
   "execution_count": 15,
   "metadata": {},
   "outputs": [
    {
     "name": "stdout",
     "output_type": "stream",
     "text": [
      "<class 'pandas.core.frame.DataFrame'>\n",
      "Int64Index: 2848 entries, 0 to 2847\n",
      "Data columns (total 8 columns):\n",
      " #   Column        Non-Null Count  Dtype \n",
      "---  ------        --------------  ----- \n",
      " 0   Year          2848 non-null   int64 \n",
      " 1   Wave          2848 non-null   int32 \n",
      " 2   Fishing Mode  2848 non-null   int32 \n",
      " 3   Fishing Area  2848 non-null   int32 \n",
      " 4   SpecGroup     2848 non-null   int32 \n",
      " 5   SubGroup      2848 non-null   object\n",
      " 6   Angler Trips  2848 non-null   int64 \n",
      " 7   total         2848 non-null   int64 \n",
      "dtypes: int32(4), int64(3), object(1)\n",
      "memory usage: 155.8+ KB\n",
      "None\n"
     ]
    }
   ],
   "source": [
    "#transform 'Fishing Mode' and 'Fishing Area' colums into numerical values\n",
    "le = LabelEncoder().fit(df1['Fishing Mode'])\n",
    "df1['Fishing Mode'] = le.transform(df1['Fishing Mode'])\n",
    "\n",
    "ld = LabelEncoder().fit(df1['Fishing Area'])\n",
    "df1['Fishing Area'] = ld.transform(df1['Fishing Area'])\n",
    "\n",
    "ls = LabelEncoder().fit(df1['SpecGroup'])\n",
    "df1['SpecGroup'] = ls.transform(df1['SpecGroup'])\n",
    "\n",
    "lw = LabelEncoder().fit(df1['Wave'])\n",
    "df1['Wave'] = lw.transform(df1['Wave'])\n",
    "print(df1.info())"
   ]
  },
  {
   "cell_type": "code",
   "execution_count": 16,
   "metadata": {},
   "outputs": [
    {
     "name": "stdout",
     "output_type": "stream",
     "text": [
      "{'BLUEFISH': 0, 'CARTILAGINOUS FISHES': 1, 'CATFISHES': 2, 'CODS AND HAKES': 3, 'DOLPHINS': 4, 'DRUMS': 5, 'EELS': 6, 'FLOUNDERS': 7, 'GRUNTS': 8, 'HERRINGS': 9, 'JACKS': 10, 'OTHER FISHES': 11, 'PORGIES': 12, 'PUFFERS': 13, 'SCULPINS': 14, 'SEA BASSES': 15, 'SEAROBINS': 16, 'TEMPERATE BASSES': 17, 'TOADFISHES': 18, 'TRIGGERFISHES/FILEFISHES': 19, 'TUNAS AND MACKERELS': 20, 'WRASSES': 21}\n"
     ]
    }
   ],
   "source": [
    "#tried to make a dictionary to show the old name of 'Fishing Area : New Key, but it's not working\n",
    "L = list(ls.inverse_transform(df1['SpecGroup']))\n",
    "d = dict(zip(ls.classes_, ls.transform(ls.classes_)))\n",
    "print (d)"
   ]
  },
  {
   "cell_type": "code",
   "execution_count": 17,
   "metadata": {},
   "outputs": [
    {
     "name": "stdout",
     "output_type": "stream",
     "text": [
      "{'INLAND': 0, 'OCEAN (<= 3 MI)': 1, 'OCEAN (> 3 MI)': 2}\n"
     ]
    }
   ],
   "source": [
    "#tried to make a dictionary to show the old name of 'Fishing Area : New Key, but it's not working\n",
    "L = list(ld.inverse_transform(df1['Fishing Area']))\n",
    "d = dict(zip(ld.classes_, ld.transform(ld.classes_)))\n",
    "print (d)"
   ]
  },
  {
   "cell_type": "code",
   "execution_count": 18,
   "metadata": {},
   "outputs": [
    {
     "name": "stdout",
     "output_type": "stream",
     "text": [
      "{'CHARTER BOAT': 0, 'PARTY BOAT': 1, 'PRIVATE/RENTAL BOAT': 2, 'SHORE': 3}\n"
     ]
    }
   ],
   "source": [
    "L = list(le.inverse_transform(df1['Fishing Mode']))\n",
    "d = dict(zip(le.classes_, le.transform(le.classes_)))\n",
    "print (d)"
   ]
  },
  {
   "cell_type": "code",
   "execution_count": 19,
   "metadata": {},
   "outputs": [
    {
     "name": "stdout",
     "output_type": "stream",
     "text": [
      "{'JULY/AUGUST': 0, 'MARCH/APRIL': 1, 'MAY/JUNE': 2, 'NOVEMBER/DECEMBER': 3, 'SEPTEMBER/OCTOBER': 4}\n"
     ]
    }
   ],
   "source": [
    "L = list(lw.inverse_transform(df1['Wave']))\n",
    "d = dict(zip(lw.classes_, lw.transform(lw.classes_)))\n",
    "print (d)"
   ]
  },
  {
   "cell_type": "code",
   "execution_count": 19,
   "metadata": {},
   "outputs": [
    {
     "data": {
      "text/plain": [
       "<AxesSubplot:xlabel='Wave', ylabel='count'>"
      ]
     },
     "execution_count": 19,
     "metadata": {},
     "output_type": "execute_result"
    },
    {
     "data": {
      "image/png": "[encoded data removed]",
      "text/plain": [
       "<Figure size 432x288 with 1 Axes>"
      ]
     },
     "metadata": {
      "needs_background": "light"
     },
     "output_type": "display_data"
    }
   ],
   "source": [
    "#I think this is a useless graph. count plot of fishing mode in each year. but the counts in the dataframe each have their own number of trips recorded?\n",
    "sns.countplot(x='Wave',hue='Fishing Mode',data=df)"
   ]
  },
  {
   "cell_type": "code",
   "execution_count": 20,
   "metadata": {},
   "outputs": [
    {
     "data": {
      "text/plain": [
       "<seaborn.axisgrid.FacetGrid at 0x28cd038dc70>"
      ]
     },
     "execution_count": 20,
     "metadata": {},
     "output_type": "execute_result"
    },
    {
     "data": {
      "image/png": "[encoded data removed]",
      "text/plain": [
       "<Figure size 1080x216 with 5 Axes>"
      ]
     },
     "metadata": {
      "needs_background": "light"
     },
     "output_type": "display_data"
    }
   ],
   "source": [
    "g = sns.FacetGrid(col='Wave',hue='Fishing Mode',data=df,legend_out=False)\n",
    "g.map(sns.scatterplot,'Fishing Mode','total')"
   ]
  },
  {
   "cell_type": "code",
   "execution_count": 21,
   "metadata": {},
   "outputs": [
    {
     "data": {
      "text/plain": [
       "<seaborn.axisgrid.FacetGrid at 0x28cd050c460>"
      ]
     },
     "execution_count": 21,
     "metadata": {},
     "output_type": "execute_result"
    },
    {
     "data": {
      "image/png": "[encoded data removed]",
      "text/plain": [
       "<Figure size 864x216 with 4 Axes>"
      ]
     },
     "metadata": {
      "needs_background": "light"
     },
     "output_type": "display_data"
    }
   ],
   "source": [
    "g = sns.FacetGrid(col='Fishing Mode',data=df,legend_out=False)\n",
    "g.map(sns.scatterplot,'Angler Trips','total')"
   ]
  },
  {
   "cell_type": "code",
   "execution_count": 22,
   "metadata": {},
   "outputs": [
    {
     "data": {
      "text/plain": [
       "<seaborn.axisgrid.FacetGrid at 0x28cd04a0670>"
      ]
     },
     "execution_count": 22,
     "metadata": {},
     "output_type": "execute_result"
    },
    {
     "data": {
      "image/png": "[encoded data removed]",
      "text/plain": [
       "<Figure size 648x216 with 3 Axes>"
      ]
     },
     "metadata": {
      "needs_background": "light"
     },
     "output_type": "display_data"
    }
   ],
   "source": [
    "g = sns.FacetGrid(col='Fishing Area',data=df,legend_out=False)\n",
    "g.map(sns.scatterplot,'Angler Trips','total')"
   ]
  },
  {
   "cell_type": "code",
   "execution_count": 23,
   "metadata": {},
   "outputs": [
    {
     "data": {
      "text/plain": [
       "<AxesSubplot:xlabel='total'>"
      ]
     },
     "execution_count": 23,
     "metadata": {},
     "output_type": "execute_result"
    },
    {
     "data": {
      "image/png": "[encoded data removed]",
      "text/plain": [
       "<Figure size 432x288 with 1 Axes>"
      ]
     },
     "metadata": {
      "needs_background": "light"
     },
     "output_type": "display_data"
    }
   ],
   "source": [
    "sns.boxplot(x=df['total'])"
   ]
  },
  {
   "cell_type": "code",
   "execution_count": 24,
   "metadata": {},
   "outputs": [
    {
     "data": {
      "text/plain": [
       "<AxesSubplot:>"
      ]
     },
     "execution_count": 24,
     "metadata": {},
     "output_type": "execute_result"
    },
    {
     "data": {
      "image/png": "[encoded data removed]",
      "text/plain": [
       "<Figure size 432x288 with 2 Axes>"
      ]
     },
     "metadata": {
      "needs_background": "light"
     },
     "output_type": "display_data"
    }
   ],
   "source": [
    "corr = df1.corr()\n",
    "sns.heatmap(corr)"
   ]
  },
  {
   "cell_type": "code",
   "execution_count": 25,
   "metadata": {},
   "outputs": [
    {
     "data": {
      "text/plain": [
       "<AxesSubplot:xlabel='Fishing Mode', ylabel='Angler Trips'>"
      ]
     },
     "execution_count": 25,
     "metadata": {},
     "output_type": "execute_result"
    },
    {
     "data": {
      "image/png": "[encoded data removed]",
      "text/plain": [
       "<Figure size 432x288 with 1 Axes>"
      ]
     },
     "metadata": {
      "needs_background": "light"
     },
     "output_type": "display_data"
    }
   ],
   "source": [
    "sns.scatterplot(data=df1, x=\"Fishing Mode\", y=\"Angler Trips\")"
   ]
  },
  {
   "cell_type": "code",
   "execution_count": 73,
   "metadata": {},
   "outputs": [
    {
     "name": "stderr",
     "output_type": "stream",
     "text": [
      "No handles with labels found to put in legend.\n"
     ]
    },
    {
     "data": {
      "text/plain": [
       "Text(0.5, 1.0, 'Year vs Catch Totals')"
      ]
     },
     "execution_count": 73,
     "metadata": {},
     "output_type": "execute_result"
    },
    {
     "data": {
      "image/png": "[encoded data removed]",
      "text/plain": [
       "<Figure size 432x288 with 1 Axes>"
      ]
     },
     "metadata": {
      "needs_background": "light"
     },
     "output_type": "display_data"
    }
   ],
   "source": [
    "## Wave vs. Total fish caught\n",
    "sns.scatterplot(data=df1, x=\"Year\", y=\"total\")\n",
    "plt.legend(bbox_to_anchor=(1.05, 1), loc=2, borderaxespad=0.)\n",
    "plt.title('Year vs Catch Totals')"
   ]
  },
  {
   "cell_type": "code",
   "execution_count": 27,
   "metadata": {},
   "outputs": [
    {
     "name": "stderr",
     "output_type": "stream",
     "text": [
      "C:\\Users\\hindm\\Anaconda\\lib\\site-packages\\seaborn\\axisgrid.py:645: UserWarning: Using the boxplot function without specifying `order` is likely to produce an incorrect plot.\n",
      "  warnings.warn(warning)\n"
     ]
    },
    {
     "data": {
      "text/plain": [
       "(0.0, 1000000.0)"
      ]
     },
     "execution_count": 27,
     "metadata": {},
     "output_type": "execute_result"
    },
    {
     "data": {
      "image/png": "[encoded data removed]",
      "text/plain": [
       "<Figure size 648x216 with 3 Axes>"
      ]
     },
     "metadata": {
      "needs_background": "light"
     },
     "output_type": "display_data"
    }
   ],
   "source": [
    "g = sns.FacetGrid(col='Fishing Area',data=df1,legend_out=False)\n",
    "g.map(sns.boxplot,'total')\n",
    "plt.xlim(0, 1000000)"
   ]
  },
  {
   "cell_type": "code",
   "execution_count": 28,
   "metadata": {},
   "outputs": [
    {
     "name": "stderr",
     "output_type": "stream",
     "text": [
      "C:\\Users\\hindm\\Anaconda\\lib\\site-packages\\seaborn\\axisgrid.py:645: UserWarning: Using the boxplot function without specifying `order` is likely to produce an incorrect plot.\n",
      "  warnings.warn(warning)\n"
     ]
    },
    {
     "data": {
      "text/plain": [
       "(0.0, 1000000.0)"
      ]
     },
     "execution_count": 28,
     "metadata": {},
     "output_type": "execute_result"
    },
    {
     "data": {
      "image/png": "[encoded data removed]",
      "text/plain": [
       "<Figure size 1080x216 with 5 Axes>"
      ]
     },
     "metadata": {
      "needs_background": "light"
     },
     "output_type": "display_data"
    }
   ],
   "source": [
    "g = sns.FacetGrid(col='Wave',data=df1,legend_out=False)\n",
    "g.map(sns.boxplot,'total')\n",
    "plt.xlim(0, 1000000)"
   ]
  },
  {
   "cell_type": "code",
   "execution_count": 20,
   "metadata": {},
   "outputs": [
    {
     "name": "stdout",
     "output_type": "stream",
     "text": [
      "[0.29196507 0.12413102 0.34646815 ... 0.00532011 0.31024667 0.27825582]\n"
     ]
    }
   ],
   "source": [
    "#looking for an outlier using z-score\n",
    "from scipy import stats\n",
    "z = np.abs(stats.zscore(df['total']))\n",
    "print(z)"
   ]
  },
  {
   "cell_type": "code",
   "execution_count": 21,
   "metadata": {},
   "outputs": [
    {
     "name": "stdout",
     "output_type": "stream",
     "text": [
      "(array([   4,   68,   90,   94,  149,  152,  160,  182,  260,  459,  543,\n",
      "        598,  644,  654,  662,  712,  722,  723,  733,  734,  781,  791,\n",
      "        792,  841,  866,  867,  875,  886,  888,  894,  941,  944,  952,\n",
      "        953, 1065, 1106, 1123, 1130, 1192, 1194, 1205, 1264, 1296, 1434,\n",
      "       1512, 1513, 1540, 1570, 1623, 1624, 1723, 1724, 1852, 1938, 1954,\n",
      "       2026, 2030, 2042, 2043, 2182, 2364, 2365, 2504, 2698, 2711, 2712,\n",
      "       2727, 2805, 2806], dtype=int64),)\n"
     ]
    }
   ],
   "source": [
    "#set threshold to 3 std deviations\n",
    "threshold = 3\n",
    "print(np.where(z > 3))"
   ]
  },
  {
   "cell_type": "code",
   "execution_count": 31,
   "metadata": {},
   "outputs": [
    {
     "name": "stderr",
     "output_type": "stream",
     "text": [
      "C:\\Users\\hindm\\Anaconda\\lib\\site-packages\\seaborn\\distributions.py:2551: FutureWarning: `distplot` is a deprecated function and will be removed in a future version. Please adapt your code to use either `displot` (a figure-level function with similar flexibility) or `histplot` (an axes-level function for histograms).\n",
      "  warnings.warn(msg, FutureWarning)\n",
      "C:\\Users\\hindm\\Anaconda\\lib\\site-packages\\seaborn\\distributions.py:2551: FutureWarning: `distplot` is a deprecated function and will be removed in a future version. Please adapt your code to use either `displot` (a figure-level function with similar flexibility) or `histplot` (an axes-level function for histograms).\n",
      "  warnings.warn(msg, FutureWarning)\n",
      "C:\\Users\\hindm\\Anaconda\\lib\\site-packages\\seaborn\\distributions.py:2551: FutureWarning: `distplot` is a deprecated function and will be removed in a future version. Please adapt your code to use either `displot` (a figure-level function with similar flexibility) or `histplot` (an axes-level function for histograms).\n",
      "  warnings.warn(msg, FutureWarning)\n"
     ]
    },
    {
     "data": {
      "text/plain": [
       "(0.0, 1000000.0)"
      ]
     },
     "execution_count": 31,
     "metadata": {},
     "output_type": "execute_result"
    },
    {
     "data": {
      "image/png": "[encoded data removed]",
      "text/plain": [
       "<Figure size 648x216 with 3 Axes>"
      ]
     },
     "metadata": {
      "needs_background": "light"
     },
     "output_type": "display_data"
    }
   ],
   "source": [
    "g = sns.FacetGrid(col='Fishing Area',data=df,legend_out=False)\n",
    "g.map(sns.distplot,'total')\n",
    "plt.xlim(0, 1000000)"
   ]
  },
  {
   "cell_type": "code",
   "execution_count": 22,
   "metadata": {},
   "outputs": [
    {
     "data": {
      "text/html": [
       "<div>\n",
       "<style scoped>\n",
       "    .dataframe tbody tr th:only-of-type {\n",
       "        vertical-align: middle;\n",
       "    }\n",
       "\n",
       "    .dataframe tbody tr th {\n",
       "        vertical-align: top;\n",
       "    }\n",
       "\n",
       "    .dataframe thead th {\n",
       "        text-align: right;\n",
       "    }\n",
       "</style>\n",
       "<table border=\"1\" class=\"dataframe\">\n",
       "  <thead>\n",
       "    <tr style=\"text-align: right;\">\n",
       "      <th></th>\n",
       "      <th>Year</th>\n",
       "      <th>Wave</th>\n",
       "      <th>Fishing Mode</th>\n",
       "      <th>Fishing Area</th>\n",
       "      <th>SpecGroup</th>\n",
       "      <th>SubGroup</th>\n",
       "      <th>Angler Trips</th>\n",
       "      <th>total</th>\n",
       "      <th>CatchPerTrip</th>\n",
       "    </tr>\n",
       "  </thead>\n",
       "  <tbody>\n",
       "    <tr>\n",
       "      <th>0</th>\n",
       "      <td>2010</td>\n",
       "      <td>1</td>\n",
       "      <td>3</td>\n",
       "      <td>0</td>\n",
       "      <td>1</td>\n",
       "      <td>SKATES/RAYS</td>\n",
       "      <td>730139</td>\n",
       "      <td>10143</td>\n",
       "      <td>0.013892</td>\n",
       "    </tr>\n",
       "    <tr>\n",
       "      <th>1</th>\n",
       "      <td>2010</td>\n",
       "      <td>1</td>\n",
       "      <td>3</td>\n",
       "      <td>0</td>\n",
       "      <td>2</td>\n",
       "      <td>FRESHWATER CATFISHES</td>\n",
       "      <td>730139</td>\n",
       "      <td>96256</td>\n",
       "      <td>0.131832</td>\n",
       "    </tr>\n",
       "    <tr>\n",
       "      <th>2</th>\n",
       "      <td>2010</td>\n",
       "      <td>1</td>\n",
       "      <td>3</td>\n",
       "      <td>0</td>\n",
       "      <td>11</td>\n",
       "      <td>OTHER FISHES</td>\n",
       "      <td>730139</td>\n",
       "      <td>337713</td>\n",
       "      <td>0.462532</td>\n",
       "    </tr>\n",
       "    <tr>\n",
       "      <th>3</th>\n",
       "      <td>2010</td>\n",
       "      <td>1</td>\n",
       "      <td>3</td>\n",
       "      <td>0</td>\n",
       "      <td>17</td>\n",
       "      <td>STRIPED BASS</td>\n",
       "      <td>730139</td>\n",
       "      <td>714968</td>\n",
       "      <td>0.979222</td>\n",
       "    </tr>\n",
       "    <tr>\n",
       "      <th>4</th>\n",
       "      <td>2010</td>\n",
       "      <td>1</td>\n",
       "      <td>3</td>\n",
       "      <td>0</td>\n",
       "      <td>17</td>\n",
       "      <td>WHITE PERCH</td>\n",
       "      <td>730139</td>\n",
       "      <td>2616125</td>\n",
       "      <td>3.583051</td>\n",
       "    </tr>\n",
       "  </tbody>\n",
       "</table>\n",
       "</div>"
      ],
      "text/plain": [
       "   Year  Wave  Fishing Mode  Fishing Area  SpecGroup              SubGroup  \\\n",
       "0  2010     1             3             0          1           SKATES/RAYS   \n",
       "1  2010     1             3             0          2  FRESHWATER CATFISHES   \n",
       "2  2010     1             3             0         11          OTHER FISHES   \n",
       "3  2010     1             3             0         17          STRIPED BASS   \n",
       "4  2010     1             3             0         17           WHITE PERCH   \n",
       "\n",
       "   Angler Trips    total  CatchPerTrip  \n",
       "0        730139    10143      0.013892  \n",
       "1        730139    96256      0.131832  \n",
       "2        730139   337713      0.462532  \n",
       "3        730139   714968      0.979222  \n",
       "4        730139  2616125      3.583051  "
      ]
     },
     "execution_count": 22,
     "metadata": {},
     "output_type": "execute_result"
    }
   ],
   "source": [
    "#Total catch varies such a large amount. I'm going to incorporate a catch per trip column, which divides the total catch\n",
    "#by the number of angler trips recorded.\n",
    "\n",
    "df1['CatchPerTrip'] = np.where(df1['total'] < 1, df1['total'], df1['total']/df1['Angler Trips'])\n",
    "df1.head()"
   ]
  },
  {
   "cell_type": "code",
   "execution_count": 17,
   "metadata": {},
   "outputs": [
    {
     "data": {
      "text/plain": [
       "Text(0.5, 1.0, 'Average Catch per Fishing Trip (2010-2019)')"
      ]
     },
     "execution_count": 17,
     "metadata": {},
     "output_type": "execute_result"
    },
    {
     "data": {
      "image/png": "[encoded data removed]",
      "text/plain": [
       "<Figure size 432x288 with 1 Axes>"
      ]
     },
     "metadata": {
      "needs_background": "light"
     },
     "output_type": "display_data"
    }
   ],
   "source": [
    "plt.hist(df1['CatchPerTrip'], bins=20)\n",
    "plt.title('Average Catch per Fishing Trip (2010-2019)')"
   ]
  },
  {
   "cell_type": "code",
   "execution_count": 23,
   "metadata": {},
   "outputs": [
    {
     "data": {
      "text/plain": [
       "1180002824"
      ]
     },
     "execution_count": 23,
     "metadata": {},
     "output_type": "execute_result"
    }
   ],
   "source": [
    "df1['Angler Trips'].sum()"
   ]
  },
  {
   "cell_type": "code",
   "execution_count": 20,
   "metadata": {},
   "outputs": [
    {
     "data": {
      "text/plain": [
       "count    2848.000000\n",
       "mean        0.852991\n",
       "std         3.606193\n",
       "min         0.000000\n",
       "25%         0.019794\n",
       "50%         0.103738\n",
       "75%         0.500000\n",
       "max        98.437743\n",
       "Name: CatchPerTrip, dtype: float64"
      ]
     },
     "execution_count": 20,
     "metadata": {},
     "output_type": "execute_result"
    }
   ],
   "source": [
    "df1['CatchPerTrip'].describe()"
   ]
  },
  {
   "cell_type": "code",
   "execution_count": 33,
   "metadata": {},
   "outputs": [
    {
     "data": {
      "text/plain": [
       "<AxesSubplot:>"
      ]
     },
     "execution_count": 33,
     "metadata": {},
     "output_type": "execute_result"
    },
    {
     "data": {
      "image/png": "[encoded data removed]",
      "text/plain": [
       "<Figure size 432x288 with 2 Axes>"
      ]
     },
     "metadata": {
      "needs_background": "light"
     },
     "output_type": "display_data"
    }
   ],
   "source": [
    "corr = df1.corr()\n",
    "sns.heatmap(corr)"
   ]
  },
  {
   "cell_type": "code",
   "execution_count": 75,
   "metadata": {},
   "outputs": [
    {
     "data": {
      "text/plain": [
       "Text(0.5, 1.0, 'Fishing Mode vs Total Catch')"
      ]
     },
     "execution_count": 75,
     "metadata": {},
     "output_type": "execute_result"
    },
    {
     "data": {
      "image/png": "[encoded data removed]",
      "text/plain": [
       "<Figure size 432x288 with 1 Axes>"
      ]
     },
     "metadata": {
      "needs_background": "light"
     },
     "output_type": "display_data"
    }
   ],
   "source": [
    "ax = sns.barplot(x=\"Fishing Mode\", y=\"total\", data=df1)\n",
    "ax.set_xticklabels(\n",
    "    labels=[\"Charter\",\"Party Boat\", \"Private/Rental\", \"Shore\"], rotation=45)\n",
    "plt.title('Fishing Mode vs Total Catch')"
   ]
  },
  {
   "cell_type": "code",
   "execution_count": 27,
   "metadata": {},
   "outputs": [],
   "source": [
    "floatdf = df1.drop(columns=['SubGroup'])"
   ]
  },
  {
   "cell_type": "code",
   "execution_count": 28,
   "metadata": {},
   "outputs": [
    {
     "data": {
      "text/html": [
       "<div>\n",
       "<style scoped>\n",
       "    .dataframe tbody tr th:only-of-type {\n",
       "        vertical-align: middle;\n",
       "    }\n",
       "\n",
       "    .dataframe tbody tr th {\n",
       "        vertical-align: top;\n",
       "    }\n",
       "\n",
       "    .dataframe thead th {\n",
       "        text-align: right;\n",
       "    }\n",
       "</style>\n",
       "<table border=\"1\" class=\"dataframe\">\n",
       "  <thead>\n",
       "    <tr style=\"text-align: right;\">\n",
       "      <th></th>\n",
       "      <th>Year</th>\n",
       "      <th>Wave</th>\n",
       "      <th>Mode</th>\n",
       "      <th>Area</th>\n",
       "      <th>SpecGroup</th>\n",
       "      <th>AnglerTrips</th>\n",
       "      <th>total</th>\n",
       "      <th>CatchPerTrip</th>\n",
       "    </tr>\n",
       "  </thead>\n",
       "  <tbody>\n",
       "    <tr>\n",
       "      <th>0</th>\n",
       "      <td>2010</td>\n",
       "      <td>1</td>\n",
       "      <td>3</td>\n",
       "      <td>0</td>\n",
       "      <td>1</td>\n",
       "      <td>730139</td>\n",
       "      <td>10143</td>\n",
       "      <td>0.013892</td>\n",
       "    </tr>\n",
       "    <tr>\n",
       "      <th>1</th>\n",
       "      <td>2010</td>\n",
       "      <td>1</td>\n",
       "      <td>3</td>\n",
       "      <td>0</td>\n",
       "      <td>2</td>\n",
       "      <td>730139</td>\n",
       "      <td>96256</td>\n",
       "      <td>0.131832</td>\n",
       "    </tr>\n",
       "    <tr>\n",
       "      <th>2</th>\n",
       "      <td>2010</td>\n",
       "      <td>1</td>\n",
       "      <td>3</td>\n",
       "      <td>0</td>\n",
       "      <td>11</td>\n",
       "      <td>730139</td>\n",
       "      <td>337713</td>\n",
       "      <td>0.462532</td>\n",
       "    </tr>\n",
       "    <tr>\n",
       "      <th>3</th>\n",
       "      <td>2010</td>\n",
       "      <td>1</td>\n",
       "      <td>3</td>\n",
       "      <td>0</td>\n",
       "      <td>17</td>\n",
       "      <td>730139</td>\n",
       "      <td>714968</td>\n",
       "      <td>0.979222</td>\n",
       "    </tr>\n",
       "    <tr>\n",
       "      <th>4</th>\n",
       "      <td>2010</td>\n",
       "      <td>1</td>\n",
       "      <td>3</td>\n",
       "      <td>0</td>\n",
       "      <td>17</td>\n",
       "      <td>730139</td>\n",
       "      <td>2616125</td>\n",
       "      <td>3.583051</td>\n",
       "    </tr>\n",
       "  </tbody>\n",
       "</table>\n",
       "</div>"
      ],
      "text/plain": [
       "   Year  Wave  Mode  Area  SpecGroup  AnglerTrips    total  CatchPerTrip\n",
       "0  2010     1     3     0          1       730139    10143      0.013892\n",
       "1  2010     1     3     0          2       730139    96256      0.131832\n",
       "2  2010     1     3     0         11       730139   337713      0.462532\n",
       "3  2010     1     3     0         17       730139   714968      0.979222\n",
       "4  2010     1     3     0         17       730139  2616125      3.583051"
      ]
     },
     "execution_count": 28,
     "metadata": {},
     "output_type": "execute_result"
    }
   ],
   "source": [
    "df = floatdf.rename(columns={\"Fishing Mode\": \"Mode\", \"Fishing Area\": \"Area\", \"Angler Trips\": \"AnglerTrips\"})\n",
    "df.head()"
   ]
  },
  {
   "cell_type": "code",
   "execution_count": 29,
   "metadata": {},
   "outputs": [],
   "source": [
    "from patsy import dmatrices\n",
    "import statsmodels.api as sm"
   ]
  },
  {
   "cell_type": "code",
   "execution_count": 30,
   "metadata": {},
   "outputs": [],
   "source": [
    "from sklearn.model_selection import train_test_split\n",
    "from sklearn.linear_model import LinearRegression"
   ]
  },
  {
   "cell_type": "code",
   "execution_count": 31,
   "metadata": {},
   "outputs": [],
   "source": [
    "X = df[['Year','Wave','Mode','Area']]\n",
    "y = df['CatchPerTrip']"
   ]
  },
  {
   "cell_type": "code",
   "execution_count": 32,
   "metadata": {},
   "outputs": [
    {
     "data": {
      "text/plain": [
       "0.03540582235317968"
      ]
     },
     "execution_count": 32,
     "metadata": {},
     "output_type": "execute_result"
    }
   ],
   "source": [
    "X_train, X_test, y_train, y_test = train_test_split(X,y, test_size=0.3, random_state=42)\n",
    "reg_all = LinearRegression()\n",
    "reg_all.fit(X_train, y_train)\n",
    "y_pred = reg_all.predict(X_test)\n",
    "reg_all.score(X_test, y_test)"
   ]
  },
  {
   "cell_type": "code",
   "execution_count": 99,
   "metadata": {},
   "outputs": [
    {
     "ename": "ValueError",
     "evalue": "x and y must be the same size",
     "output_type": "error",
     "traceback": [
      "\u001b[1;31m---------------------------------------------------------------------------\u001b[0m",
      "\u001b[1;31mValueError\u001b[0m                                Traceback (most recent call last)",
      "\u001b[1;32m<ipython-input-99-df33b3eb8c63>\u001b[0m in \u001b[0;36m<module>\u001b[1;34m\u001b[0m\n\u001b[1;32m----> 1\u001b[1;33m \u001b[0mplt\u001b[0m\u001b[1;33m.\u001b[0m\u001b[0mscatter\u001b[0m\u001b[1;33m(\u001b[0m\u001b[0mX_test\u001b[0m\u001b[1;33m,\u001b[0m \u001b[0my_test\u001b[0m\u001b[1;33m,\u001b[0m \u001b[0mcolor\u001b[0m \u001b[1;33m=\u001b[0m \u001b[1;34m'red'\u001b[0m\u001b[1;33m)\u001b[0m\u001b[1;33m\u001b[0m\u001b[1;33m\u001b[0m\u001b[0m\n\u001b[0m\u001b[0;32m      2\u001b[0m \u001b[0mplt\u001b[0m\u001b[1;33m.\u001b[0m\u001b[0mplot\u001b[0m\u001b[1;33m(\u001b[0m\u001b[0mX_train\u001b[0m\u001b[1;33m,\u001b[0m \u001b[0mreg_all\u001b[0m\u001b[1;33m.\u001b[0m\u001b[0mpredict\u001b[0m\u001b[1;33m(\u001b[0m\u001b[0mX_train\u001b[0m\u001b[1;33m)\u001b[0m\u001b[1;33m,\u001b[0m \u001b[0mcolor\u001b[0m \u001b[1;33m=\u001b[0m \u001b[1;34m'blue'\u001b[0m\u001b[1;33m)\u001b[0m\u001b[1;33m\u001b[0m\u001b[1;33m\u001b[0m\u001b[0m\n\u001b[0;32m      3\u001b[0m \u001b[0mplt\u001b[0m\u001b[1;33m.\u001b[0m\u001b[0mtitle\u001b[0m\u001b[1;33m(\u001b[0m\u001b[1;34m'Actual Points vs Predicted'\u001b[0m\u001b[1;33m)\u001b[0m\u001b[1;33m\u001b[0m\u001b[1;33m\u001b[0m\u001b[0m\n\u001b[0;32m      4\u001b[0m \u001b[0mplt\u001b[0m\u001b[1;33m.\u001b[0m\u001b[0mxlabel\u001b[0m\u001b[1;33m(\u001b[0m\u001b[1;34m'Year+Wave+Mode+Area'\u001b[0m\u001b[1;33m)\u001b[0m\u001b[1;33m\u001b[0m\u001b[1;33m\u001b[0m\u001b[0m\n\u001b[0;32m      5\u001b[0m \u001b[0mplt\u001b[0m\u001b[1;33m.\u001b[0m\u001b[0mylabel\u001b[0m\u001b[1;33m(\u001b[0m\u001b[1;34m'Catch Per Trip'\u001b[0m\u001b[1;33m)\u001b[0m\u001b[1;33m\u001b[0m\u001b[1;33m\u001b[0m\u001b[0m\n",
      "\u001b[1;32m~\\Anaconda\\lib\\site-packages\\matplotlib\\pyplot.py\u001b[0m in \u001b[0;36mscatter\u001b[1;34m(x, y, s, c, marker, cmap, norm, vmin, vmax, alpha, linewidths, verts, edgecolors, plotnonfinite, data, **kwargs)\u001b[0m\n\u001b[0;32m   2888\u001b[0m         \u001b[0mverts\u001b[0m\u001b[1;33m=\u001b[0m\u001b[0mcbook\u001b[0m\u001b[1;33m.\u001b[0m\u001b[0mdeprecation\u001b[0m\u001b[1;33m.\u001b[0m\u001b[0m_deprecated_parameter\u001b[0m\u001b[1;33m,\u001b[0m\u001b[1;33m\u001b[0m\u001b[1;33m\u001b[0m\u001b[0m\n\u001b[0;32m   2889\u001b[0m         edgecolors=None, *, plotnonfinite=False, data=None, **kwargs):\n\u001b[1;32m-> 2890\u001b[1;33m     __ret = gca().scatter(\n\u001b[0m\u001b[0;32m   2891\u001b[0m         \u001b[0mx\u001b[0m\u001b[1;33m,\u001b[0m \u001b[0my\u001b[0m\u001b[1;33m,\u001b[0m \u001b[0ms\u001b[0m\u001b[1;33m=\u001b[0m\u001b[0ms\u001b[0m\u001b[1;33m,\u001b[0m \u001b[0mc\u001b[0m\u001b[1;33m=\u001b[0m\u001b[0mc\u001b[0m\u001b[1;33m,\u001b[0m \u001b[0mmarker\u001b[0m\u001b[1;33m=\u001b[0m\u001b[0mmarker\u001b[0m\u001b[1;33m,\u001b[0m \u001b[0mcmap\u001b[0m\u001b[1;33m=\u001b[0m\u001b[0mcmap\u001b[0m\u001b[1;33m,\u001b[0m \u001b[0mnorm\u001b[0m\u001b[1;33m=\u001b[0m\u001b[0mnorm\u001b[0m\u001b[1;33m,\u001b[0m\u001b[1;33m\u001b[0m\u001b[1;33m\u001b[0m\u001b[0m\n\u001b[0;32m   2892\u001b[0m         \u001b[0mvmin\u001b[0m\u001b[1;33m=\u001b[0m\u001b[0mvmin\u001b[0m\u001b[1;33m,\u001b[0m \u001b[0mvmax\u001b[0m\u001b[1;33m=\u001b[0m\u001b[0mvmax\u001b[0m\u001b[1;33m,\u001b[0m \u001b[0malpha\u001b[0m\u001b[1;33m=\u001b[0m\u001b[0malpha\u001b[0m\u001b[1;33m,\u001b[0m \u001b[0mlinewidths\u001b[0m\u001b[1;33m=\u001b[0m\u001b[0mlinewidths\u001b[0m\u001b[1;33m,\u001b[0m\u001b[1;33m\u001b[0m\u001b[1;33m\u001b[0m\u001b[0m\n",
      "\u001b[1;32m~\\Anaconda\\lib\\site-packages\\matplotlib\\__init__.py\u001b[0m in \u001b[0;36minner\u001b[1;34m(ax, data, *args, **kwargs)\u001b[0m\n\u001b[0;32m   1436\u001b[0m     \u001b[1;32mdef\u001b[0m \u001b[0minner\u001b[0m\u001b[1;33m(\u001b[0m\u001b[0max\u001b[0m\u001b[1;33m,\u001b[0m \u001b[1;33m*\u001b[0m\u001b[0margs\u001b[0m\u001b[1;33m,\u001b[0m \u001b[0mdata\u001b[0m\u001b[1;33m=\u001b[0m\u001b[1;32mNone\u001b[0m\u001b[1;33m,\u001b[0m \u001b[1;33m**\u001b[0m\u001b[0mkwargs\u001b[0m\u001b[1;33m)\u001b[0m\u001b[1;33m:\u001b[0m\u001b[1;33m\u001b[0m\u001b[1;33m\u001b[0m\u001b[0m\n\u001b[0;32m   1437\u001b[0m         \u001b[1;32mif\u001b[0m \u001b[0mdata\u001b[0m \u001b[1;32mis\u001b[0m \u001b[1;32mNone\u001b[0m\u001b[1;33m:\u001b[0m\u001b[1;33m\u001b[0m\u001b[1;33m\u001b[0m\u001b[0m\n\u001b[1;32m-> 1438\u001b[1;33m             \u001b[1;32mreturn\u001b[0m \u001b[0mfunc\u001b[0m\u001b[1;33m(\u001b[0m\u001b[0max\u001b[0m\u001b[1;33m,\u001b[0m \u001b[1;33m*\u001b[0m\u001b[0mmap\u001b[0m\u001b[1;33m(\u001b[0m\u001b[0msanitize_sequence\u001b[0m\u001b[1;33m,\u001b[0m \u001b[0margs\u001b[0m\u001b[1;33m)\u001b[0m\u001b[1;33m,\u001b[0m \u001b[1;33m**\u001b[0m\u001b[0mkwargs\u001b[0m\u001b[1;33m)\u001b[0m\u001b[1;33m\u001b[0m\u001b[1;33m\u001b[0m\u001b[0m\n\u001b[0m\u001b[0;32m   1439\u001b[0m \u001b[1;33m\u001b[0m\u001b[0m\n\u001b[0;32m   1440\u001b[0m         \u001b[0mbound\u001b[0m \u001b[1;33m=\u001b[0m \u001b[0mnew_sig\u001b[0m\u001b[1;33m.\u001b[0m\u001b[0mbind\u001b[0m\u001b[1;33m(\u001b[0m\u001b[0max\u001b[0m\u001b[1;33m,\u001b[0m \u001b[1;33m*\u001b[0m\u001b[0margs\u001b[0m\u001b[1;33m,\u001b[0m \u001b[1;33m**\u001b[0m\u001b[0mkwargs\u001b[0m\u001b[1;33m)\u001b[0m\u001b[1;33m\u001b[0m\u001b[1;33m\u001b[0m\u001b[0m\n",
      "\u001b[1;32m~\\Anaconda\\lib\\site-packages\\matplotlib\\cbook\\deprecation.py\u001b[0m in \u001b[0;36mwrapper\u001b[1;34m(*inner_args, **inner_kwargs)\u001b[0m\n\u001b[0;32m    409\u001b[0m                          \u001b[1;32melse\u001b[0m \u001b[0mdeprecation_addendum\u001b[0m\u001b[1;33m,\u001b[0m\u001b[1;33m\u001b[0m\u001b[1;33m\u001b[0m\u001b[0m\n\u001b[0;32m    410\u001b[0m                 **kwargs)\n\u001b[1;32m--> 411\u001b[1;33m         \u001b[1;32mreturn\u001b[0m \u001b[0mfunc\u001b[0m\u001b[1;33m(\u001b[0m\u001b[1;33m*\u001b[0m\u001b[0minner_args\u001b[0m\u001b[1;33m,\u001b[0m \u001b[1;33m**\u001b[0m\u001b[0minner_kwargs\u001b[0m\u001b[1;33m)\u001b[0m\u001b[1;33m\u001b[0m\u001b[1;33m\u001b[0m\u001b[0m\n\u001b[0m\u001b[0;32m    412\u001b[0m \u001b[1;33m\u001b[0m\u001b[0m\n\u001b[0;32m    413\u001b[0m     \u001b[1;32mreturn\u001b[0m \u001b[0mwrapper\u001b[0m\u001b[1;33m\u001b[0m\u001b[1;33m\u001b[0m\u001b[0m\n",
      "\u001b[1;32m~\\Anaconda\\lib\\site-packages\\matplotlib\\axes\\_axes.py\u001b[0m in \u001b[0;36mscatter\u001b[1;34m(self, x, y, s, c, marker, cmap, norm, vmin, vmax, alpha, linewidths, verts, edgecolors, plotnonfinite, **kwargs)\u001b[0m\n\u001b[0;32m   4439\u001b[0m         \u001b[0my\u001b[0m \u001b[1;33m=\u001b[0m \u001b[0mnp\u001b[0m\u001b[1;33m.\u001b[0m\u001b[0mma\u001b[0m\u001b[1;33m.\u001b[0m\u001b[0mravel\u001b[0m\u001b[1;33m(\u001b[0m\u001b[0my\u001b[0m\u001b[1;33m)\u001b[0m\u001b[1;33m\u001b[0m\u001b[1;33m\u001b[0m\u001b[0m\n\u001b[0;32m   4440\u001b[0m         \u001b[1;32mif\u001b[0m \u001b[0mx\u001b[0m\u001b[1;33m.\u001b[0m\u001b[0msize\u001b[0m \u001b[1;33m!=\u001b[0m \u001b[0my\u001b[0m\u001b[1;33m.\u001b[0m\u001b[0msize\u001b[0m\u001b[1;33m:\u001b[0m\u001b[1;33m\u001b[0m\u001b[1;33m\u001b[0m\u001b[0m\n\u001b[1;32m-> 4441\u001b[1;33m             \u001b[1;32mraise\u001b[0m \u001b[0mValueError\u001b[0m\u001b[1;33m(\u001b[0m\u001b[1;34m\"x and y must be the same size\"\u001b[0m\u001b[1;33m)\u001b[0m\u001b[1;33m\u001b[0m\u001b[1;33m\u001b[0m\u001b[0m\n\u001b[0m\u001b[0;32m   4442\u001b[0m \u001b[1;33m\u001b[0m\u001b[0m\n\u001b[0;32m   4443\u001b[0m         \u001b[1;32mif\u001b[0m \u001b[0ms\u001b[0m \u001b[1;32mis\u001b[0m \u001b[1;32mNone\u001b[0m\u001b[1;33m:\u001b[0m\u001b[1;33m\u001b[0m\u001b[1;33m\u001b[0m\u001b[0m\n",
      "\u001b[1;31mValueError\u001b[0m: x and y must be the same size"
     ]
    },
    {
     "data": {
      "image/png": "[encoded data removed]",
      "text/plain": [
       "<Figure size 432x288 with 1 Axes>"
      ]
     },
     "metadata": {
      "needs_background": "light"
     },
     "output_type": "display_data"
    }
   ],
   "source": [
    "plt.scatter(X_test, y_test, color = 'red')\n",
    "plt.plot(X_train, reg_all.predict(X_train), color = 'blue')\n",
    "plt.title('Actual Points vs Predicted')\n",
    "plt.xlabel('Year+Wave+Mode+Area')\n",
    "plt.ylabel('Catch Per Trip')\n",
    "plt.show()\n"
   ]
  },
  {
   "cell_type": "code",
   "execution_count": 93,
   "metadata": {},
   "outputs": [
    {
     "data": {
      "text/plain": [
       "count    2848.000000\n",
       "mean        0.852991\n",
       "std         3.606193\n",
       "min         0.000000\n",
       "25%         0.019794\n",
       "50%         0.103738\n",
       "75%         0.500000\n",
       "max        98.437743\n",
       "Name: CatchPerTrip, dtype: float64"
      ]
     },
     "execution_count": 93,
     "metadata": {},
     "output_type": "execute_result"
    }
   ],
   "source": [
    "df['CatchPerTrip'].describe()"
   ]
  },
  {
   "cell_type": "code",
   "execution_count": 37,
   "metadata": {},
   "outputs": [
    {
     "name": "stdout",
     "output_type": "stream",
     "text": [
      "Training data set length=2242\n",
      "Testing data set length=606\n"
     ]
    }
   ],
   "source": [
    "np.random.seed(47)\n",
    "mask = np.random.rand(len(df)) < 0.8\n",
    "df_train = df[mask]\n",
    "df_test = df[~mask]\n",
    "print('Training data set length='+str(len(df_train)))\n",
    "print('Testing data set length='+str(len(df_test)))"
   ]
  },
  {
   "cell_type": "code",
   "execution_count": 38,
   "metadata": {},
   "outputs": [
    {
     "data": {
      "text/html": [
       "<div>\n",
       "<style scoped>\n",
       "    .dataframe tbody tr th:only-of-type {\n",
       "        vertical-align: middle;\n",
       "    }\n",
       "\n",
       "    .dataframe tbody tr th {\n",
       "        vertical-align: top;\n",
       "    }\n",
       "\n",
       "    .dataframe thead th {\n",
       "        text-align: right;\n",
       "    }\n",
       "</style>\n",
       "<table border=\"1\" class=\"dataframe\">\n",
       "  <thead>\n",
       "    <tr style=\"text-align: right;\">\n",
       "      <th></th>\n",
       "      <th>Year</th>\n",
       "      <th>Wave</th>\n",
       "      <th>Mode</th>\n",
       "      <th>Area</th>\n",
       "      <th>SpecGroup</th>\n",
       "      <th>AnglerTrips</th>\n",
       "      <th>total</th>\n",
       "      <th>CatchPerTrip</th>\n",
       "    </tr>\n",
       "  </thead>\n",
       "  <tbody>\n",
       "    <tr>\n",
       "      <th>0</th>\n",
       "      <td>2010</td>\n",
       "      <td>1</td>\n",
       "      <td>3</td>\n",
       "      <td>0</td>\n",
       "      <td>1</td>\n",
       "      <td>730139</td>\n",
       "      <td>10143</td>\n",
       "      <td>0.013892</td>\n",
       "    </tr>\n",
       "    <tr>\n",
       "      <th>1</th>\n",
       "      <td>2010</td>\n",
       "      <td>1</td>\n",
       "      <td>3</td>\n",
       "      <td>0</td>\n",
       "      <td>2</td>\n",
       "      <td>730139</td>\n",
       "      <td>96256</td>\n",
       "      <td>0.131832</td>\n",
       "    </tr>\n",
       "    <tr>\n",
       "      <th>2</th>\n",
       "      <td>2010</td>\n",
       "      <td>1</td>\n",
       "      <td>3</td>\n",
       "      <td>0</td>\n",
       "      <td>11</td>\n",
       "      <td>730139</td>\n",
       "      <td>337713</td>\n",
       "      <td>0.462532</td>\n",
       "    </tr>\n",
       "    <tr>\n",
       "      <th>3</th>\n",
       "      <td>2010</td>\n",
       "      <td>1</td>\n",
       "      <td>3</td>\n",
       "      <td>0</td>\n",
       "      <td>17</td>\n",
       "      <td>730139</td>\n",
       "      <td>714968</td>\n",
       "      <td>0.979222</td>\n",
       "    </tr>\n",
       "    <tr>\n",
       "      <th>4</th>\n",
       "      <td>2010</td>\n",
       "      <td>1</td>\n",
       "      <td>3</td>\n",
       "      <td>0</td>\n",
       "      <td>17</td>\n",
       "      <td>730139</td>\n",
       "      <td>2616125</td>\n",
       "      <td>3.583051</td>\n",
       "    </tr>\n",
       "  </tbody>\n",
       "</table>\n",
       "</div>"
      ],
      "text/plain": [
       "   Year  Wave  Mode  Area  SpecGroup  AnglerTrips    total  CatchPerTrip\n",
       "0  2010     1     3     0          1       730139    10143      0.013892\n",
       "1  2010     1     3     0          2       730139    96256      0.131832\n",
       "2  2010     1     3     0         11       730139   337713      0.462532\n",
       "3  2010     1     3     0         17       730139   714968      0.979222\n",
       "4  2010     1     3     0         17       730139  2616125      3.583051"
      ]
     },
     "execution_count": 38,
     "metadata": {},
     "output_type": "execute_result"
    }
   ],
   "source": [
    "df.head()"
   ]
  },
  {
   "cell_type": "code",
   "execution_count": 39,
   "metadata": {},
   "outputs": [],
   "source": [
    "expr = \"\"\"CatchPerTrip ~ Mode  + Area + Wave \"\"\""
   ]
  },
  {
   "cell_type": "code",
   "execution_count": 40,
   "metadata": {},
   "outputs": [],
   "source": [
    "y_train, X_train = dmatrices(expr, df_train, return_type='dataframe')\n",
    "y_test, X_test = dmatrices(expr, df_test, return_type='dataframe')"
   ]
  },
  {
   "cell_type": "code",
   "execution_count": 41,
   "metadata": {},
   "outputs": [],
   "source": [
    "poisson_training_results = sm.GLM(y_train, X_train, family=sm.families.Poisson()).fit()"
   ]
  },
  {
   "cell_type": "code",
   "execution_count": 42,
   "metadata": {},
   "outputs": [
    {
     "name": "stdout",
     "output_type": "stream",
     "text": [
      "                 Generalized Linear Model Regression Results                  \n",
      "==============================================================================\n",
      "Dep. Variable:           CatchPerTrip   No. Observations:                 2242\n",
      "Model:                            GLM   Df Residuals:                     2238\n",
      "Model Family:                 Poisson   Df Model:                            3\n",
      "Link Function:                    log   Scale:                          1.0000\n",
      "Method:                          IRLS   Log-Likelihood:                -4454.9\n",
      "Date:                Wed, 21 Apr 2021   Deviance:                       6721.2\n",
      "Time:                        19:30:57   Pearson chi2:                 1.82e+04\n",
      "No. Iterations:                     6                                         \n",
      "Covariance Type:            nonrobust                                         \n",
      "==============================================================================\n",
      "                 coef    std err          z      P>|z|      [0.025      0.975]\n",
      "------------------------------------------------------------------------------\n",
      "Intercept     -0.2458      0.057     -4.343      0.000      -0.357      -0.135\n",
      "Mode          -0.4116      0.025    -16.583      0.000      -0.460      -0.363\n",
      "Area           0.5393      0.023     23.392      0.000       0.494       0.585\n",
      "Wave           0.1378      0.014     10.051      0.000       0.111       0.165\n",
      "==============================================================================\n"
     ]
    }
   ],
   "source": [
    "print(poisson_training_results.summary())"
   ]
  },
  {
   "cell_type": "code",
   "execution_count": 43,
   "metadata": {},
   "outputs": [
    {
     "name": "stdout",
     "output_type": "stream",
     "text": [
      "          mean   mean_se  mean_ci_lower  mean_ci_upper\n",
      "1     0.261091  0.014739       0.233745       0.291638\n",
      "17    0.394062  0.016464       0.363079       0.427689\n",
      "20    0.394062  0.016464       0.363079       0.427689\n",
      "24    0.513882  0.025718       0.465868       0.566844\n",
      "27    0.513882  0.025718       0.465868       0.566844\n",
      "...        ...       ...            ...            ...\n",
      "2828  2.303977  0.071129       2.168701       2.447691\n",
      "2834  1.526533  0.058794       1.415540       1.646228\n",
      "2841  0.519092  0.019835       0.481635       0.559461\n",
      "2843  0.519092  0.019835       0.481635       0.559461\n",
      "2846  0.519092  0.019835       0.481635       0.559461\n",
      "\n",
      "[606 rows x 4 columns]\n"
     ]
    }
   ],
   "source": [
    "poisson_predictions = poisson_training_results.get_prediction(X_test)\n",
    "#.summary_frame() returns a pandas DataFrame\n",
    "predictions_summary_frame = poisson_predictions.summary_frame()\n",
    "print(predictions_summary_frame)"
   ]
  },
  {
   "cell_type": "code",
   "execution_count": 44,
   "metadata": {},
   "outputs": [
    {
     "data": {
      "image/png": "[encoded data removed]",
      "text/plain": [
       "<Figure size 432x288 with 1 Axes>"
      ]
     },
     "metadata": {
      "needs_background": "light"
     },
     "output_type": "display_data"
    }
   ],
   "source": [
    "predicted_counts=predictions_summary_frame['mean']\n",
    "actual_counts = y_test['CatchPerTrip']\n",
    "fig = plt.figure()\n",
    "fig.suptitle('Predicted versus actual catch per trip counts of fish')\n",
    "predicted, = plt.plot(X_test.index, predicted_counts, 'go-', label='Predicted counts', alpha=0.5, linestyle='none') #check\n",
    "actual, = plt.plot(X_test.index, actual_counts, 'ro-', label='Actual counts', alpha=0.5, linestyle='none')\n",
    "plt.legend(handles=[predicted, actual])\n",
    "plt.show()"
   ]
  },
  {
   "cell_type": "code",
   "execution_count": 45,
   "metadata": {},
   "outputs": [
    {
     "name": "stdout",
     "output_type": "stream",
     "text": [
      "Poisson RMSE=44.19149935076705\n"
     ]
    }
   ],
   "source": [
    "print('Poisson RMSE='+str(np.sqrt(np.sum(np.power(np.subtract(predicted_counts,actual_counts),2)))))"
   ]
  },
  {
   "cell_type": "code",
   "execution_count": 46,
   "metadata": {},
   "outputs": [
    {
     "data": {
      "text/plain": [
       "<Figure size 432x288 with 0 Axes>"
      ]
     },
     "metadata": {},
     "output_type": "display_data"
    },
    {
     "data": {
      "image/png": "[encoded data removed]",
      "text/plain": [
       "<Figure size 432x288 with 1 Axes>"
      ]
     },
     "metadata": {
      "needs_background": "light"
     },
     "output_type": "display_data"
    }
   ],
   "source": [
    "plt.clf()\n",
    "fig = plt.figure()\n",
    "fig.suptitle('Scatter plot of Actual versus Predicted counts')\n",
    "plt.scatter(x=predicted_counts, y=actual_counts, marker='.')\n",
    "plt.xlabel('Predicted counts')\n",
    "plt.ylabel('Actual counts')\n",
    "plt.show()"
   ]
  },
  {
   "cell_type": "code",
   "execution_count": 47,
   "metadata": {},
   "outputs": [
    {
     "data": {
      "image/png": "[encoded data removed]",
      "text/plain": [
       "<Figure size 402.375x360 with 1 Axes>"
      ]
     },
     "metadata": {
      "needs_background": "light"
     },
     "output_type": "display_data"
    }
   ],
   "source": [
    "sns.lmplot(x='AnglerTrips', y='total', data=df, hue='Area')\n",
    "plt.show()"
   ]
  },
  {
   "cell_type": "code",
   "execution_count": 48,
   "metadata": {},
   "outputs": [
    {
     "data": {
      "text/html": [
       "<div>\n",
       "<style scoped>\n",
       "    .dataframe tbody tr th:only-of-type {\n",
       "        vertical-align: middle;\n",
       "    }\n",
       "\n",
       "    .dataframe tbody tr th {\n",
       "        vertical-align: top;\n",
       "    }\n",
       "\n",
       "    .dataframe thead th {\n",
       "        text-align: right;\n",
       "    }\n",
       "</style>\n",
       "<table border=\"1\" class=\"dataframe\">\n",
       "  <thead>\n",
       "    <tr style=\"text-align: right;\">\n",
       "      <th></th>\n",
       "      <th>Year</th>\n",
       "      <th>Wave</th>\n",
       "      <th>Mode</th>\n",
       "      <th>Area</th>\n",
       "      <th>SpecGroup</th>\n",
       "      <th>AnglerTrips</th>\n",
       "      <th>total</th>\n",
       "      <th>CatchPerTrip</th>\n",
       "    </tr>\n",
       "  </thead>\n",
       "  <tbody>\n",
       "    <tr>\n",
       "      <th>0</th>\n",
       "      <td>2010</td>\n",
       "      <td>1</td>\n",
       "      <td>3</td>\n",
       "      <td>0</td>\n",
       "      <td>1</td>\n",
       "      <td>730139</td>\n",
       "      <td>10143</td>\n",
       "      <td>0.013892</td>\n",
       "    </tr>\n",
       "    <tr>\n",
       "      <th>1</th>\n",
       "      <td>2010</td>\n",
       "      <td>1</td>\n",
       "      <td>3</td>\n",
       "      <td>0</td>\n",
       "      <td>2</td>\n",
       "      <td>730139</td>\n",
       "      <td>96256</td>\n",
       "      <td>0.131832</td>\n",
       "    </tr>\n",
       "    <tr>\n",
       "      <th>2</th>\n",
       "      <td>2010</td>\n",
       "      <td>1</td>\n",
       "      <td>3</td>\n",
       "      <td>0</td>\n",
       "      <td>11</td>\n",
       "      <td>730139</td>\n",
       "      <td>337713</td>\n",
       "      <td>0.462532</td>\n",
       "    </tr>\n",
       "    <tr>\n",
       "      <th>3</th>\n",
       "      <td>2010</td>\n",
       "      <td>1</td>\n",
       "      <td>3</td>\n",
       "      <td>0</td>\n",
       "      <td>17</td>\n",
       "      <td>730139</td>\n",
       "      <td>714968</td>\n",
       "      <td>0.979222</td>\n",
       "    </tr>\n",
       "    <tr>\n",
       "      <th>4</th>\n",
       "      <td>2010</td>\n",
       "      <td>1</td>\n",
       "      <td>3</td>\n",
       "      <td>0</td>\n",
       "      <td>17</td>\n",
       "      <td>730139</td>\n",
       "      <td>2616125</td>\n",
       "      <td>3.583051</td>\n",
       "    </tr>\n",
       "    <tr>\n",
       "      <th>5</th>\n",
       "      <td>2010</td>\n",
       "      <td>1</td>\n",
       "      <td>1</td>\n",
       "      <td>2</td>\n",
       "      <td>3</td>\n",
       "      <td>788</td>\n",
       "      <td>47</td>\n",
       "      <td>0.059645</td>\n",
       "    </tr>\n",
       "    <tr>\n",
       "      <th>6</th>\n",
       "      <td>2010</td>\n",
       "      <td>1</td>\n",
       "      <td>1</td>\n",
       "      <td>2</td>\n",
       "      <td>6</td>\n",
       "      <td>788</td>\n",
       "      <td>31</td>\n",
       "      <td>0.039340</td>\n",
       "    </tr>\n",
       "    <tr>\n",
       "      <th>7</th>\n",
       "      <td>2010</td>\n",
       "      <td>1</td>\n",
       "      <td>1</td>\n",
       "      <td>2</td>\n",
       "      <td>15</td>\n",
       "      <td>788</td>\n",
       "      <td>94</td>\n",
       "      <td>0.119289</td>\n",
       "    </tr>\n",
       "    <tr>\n",
       "      <th>8</th>\n",
       "      <td>2010</td>\n",
       "      <td>1</td>\n",
       "      <td>1</td>\n",
       "      <td>2</td>\n",
       "      <td>21</td>\n",
       "      <td>788</td>\n",
       "      <td>63</td>\n",
       "      <td>0.079949</td>\n",
       "    </tr>\n",
       "    <tr>\n",
       "      <th>9</th>\n",
       "      <td>2010</td>\n",
       "      <td>1</td>\n",
       "      <td>1</td>\n",
       "      <td>2</td>\n",
       "      <td>21</td>\n",
       "      <td>788</td>\n",
       "      <td>3924</td>\n",
       "      <td>4.979695</td>\n",
       "    </tr>\n",
       "  </tbody>\n",
       "</table>\n",
       "</div>"
      ],
      "text/plain": [
       "   Year  Wave  Mode  Area  SpecGroup  AnglerTrips    total  CatchPerTrip\n",
       "0  2010     1     3     0          1       730139    10143      0.013892\n",
       "1  2010     1     3     0          2       730139    96256      0.131832\n",
       "2  2010     1     3     0         11       730139   337713      0.462532\n",
       "3  2010     1     3     0         17       730139   714968      0.979222\n",
       "4  2010     1     3     0         17       730139  2616125      3.583051\n",
       "5  2010     1     1     2          3          788       47      0.059645\n",
       "6  2010     1     1     2          6          788       31      0.039340\n",
       "7  2010     1     1     2         15          788       94      0.119289\n",
       "8  2010     1     1     2         21          788       63      0.079949\n",
       "9  2010     1     1     2         21          788     3924      4.979695"
      ]
     },
     "execution_count": 48,
     "metadata": {},
     "output_type": "execute_result"
    }
   ],
   "source": [
    "#zero inflated poisson model\n",
    "df.head(10)"
   ]
  },
  {
   "cell_type": "code",
   "execution_count": 101,
   "metadata": {
    "scrolled": true
   },
   "outputs": [
    {
     "name": "stdout",
     "output_type": "stream",
     "text": [
      "2415\n"
     ]
    }
   ],
   "source": [
    "print(len(df[df['CatchPerTrip'] < 1]))"
   ]
  },
  {
   "cell_type": "code",
   "execution_count": 33,
   "metadata": {},
   "outputs": [
    {
     "name": "stderr",
     "output_type": "stream",
     "text": [
      "<ipython-input-33-1da74abf8ced>:2: SettingWithCopyWarning: \n",
      "A value is trying to be set on a copy of a slice from a DataFrame\n",
      "\n",
      "See the caveats in the documentation: https://pandas.pydata.org/pandas-docs/stable/user_guide/indexing.html#returning-a-view-versus-a-copy\n",
      "  df.CatchPerTrip[df.CatchPerTrip < 1] = 0\n"
     ]
    },
    {
     "data": {
      "text/html": [
       "<div>\n",
       "<style scoped>\n",
       "    .dataframe tbody tr th:only-of-type {\n",
       "        vertical-align: middle;\n",
       "    }\n",
       "\n",
       "    .dataframe tbody tr th {\n",
       "        vertical-align: top;\n",
       "    }\n",
       "\n",
       "    .dataframe thead th {\n",
       "        text-align: right;\n",
       "    }\n",
       "</style>\n",
       "<table border=\"1\" class=\"dataframe\">\n",
       "  <thead>\n",
       "    <tr style=\"text-align: right;\">\n",
       "      <th></th>\n",
       "      <th>Year</th>\n",
       "      <th>Wave</th>\n",
       "      <th>Mode</th>\n",
       "      <th>Area</th>\n",
       "      <th>SpecGroup</th>\n",
       "      <th>AnglerTrips</th>\n",
       "      <th>total</th>\n",
       "    </tr>\n",
       "    <tr>\n",
       "      <th>CatchPerTrip</th>\n",
       "      <th></th>\n",
       "      <th></th>\n",
       "      <th></th>\n",
       "      <th></th>\n",
       "      <th></th>\n",
       "      <th></th>\n",
       "      <th></th>\n",
       "    </tr>\n",
       "  </thead>\n",
       "  <tbody>\n",
       "    <tr>\n",
       "      <th>0.000000</th>\n",
       "      <td>2415</td>\n",
       "      <td>2415</td>\n",
       "      <td>2415</td>\n",
       "      <td>2415</td>\n",
       "      <td>2415</td>\n",
       "      <td>2415</td>\n",
       "      <td>2415</td>\n",
       "    </tr>\n",
       "    <tr>\n",
       "      <th>1.000000</th>\n",
       "      <td>3</td>\n",
       "      <td>3</td>\n",
       "      <td>3</td>\n",
       "      <td>3</td>\n",
       "      <td>3</td>\n",
       "      <td>3</td>\n",
       "      <td>3</td>\n",
       "    </tr>\n",
       "    <tr>\n",
       "      <th>1.004530</th>\n",
       "      <td>1</td>\n",
       "      <td>1</td>\n",
       "      <td>1</td>\n",
       "      <td>1</td>\n",
       "      <td>1</td>\n",
       "      <td>1</td>\n",
       "      <td>1</td>\n",
       "    </tr>\n",
       "    <tr>\n",
       "      <th>1.007584</th>\n",
       "      <td>1</td>\n",
       "      <td>1</td>\n",
       "      <td>1</td>\n",
       "      <td>1</td>\n",
       "      <td>1</td>\n",
       "      <td>1</td>\n",
       "      <td>1</td>\n",
       "    </tr>\n",
       "    <tr>\n",
       "      <th>1.010653</th>\n",
       "      <td>1</td>\n",
       "      <td>1</td>\n",
       "      <td>1</td>\n",
       "      <td>1</td>\n",
       "      <td>1</td>\n",
       "      <td>1</td>\n",
       "      <td>1</td>\n",
       "    </tr>\n",
       "    <tr>\n",
       "      <th>...</th>\n",
       "      <td>...</td>\n",
       "      <td>...</td>\n",
       "      <td>...</td>\n",
       "      <td>...</td>\n",
       "      <td>...</td>\n",
       "      <td>...</td>\n",
       "      <td>...</td>\n",
       "    </tr>\n",
       "    <tr>\n",
       "      <th>38.800000</th>\n",
       "      <td>1</td>\n",
       "      <td>1</td>\n",
       "      <td>1</td>\n",
       "      <td>1</td>\n",
       "      <td>1</td>\n",
       "      <td>1</td>\n",
       "      <td>1</td>\n",
       "    </tr>\n",
       "    <tr>\n",
       "      <th>45.327911</th>\n",
       "      <td>1</td>\n",
       "      <td>1</td>\n",
       "      <td>1</td>\n",
       "      <td>1</td>\n",
       "      <td>1</td>\n",
       "      <td>1</td>\n",
       "      <td>1</td>\n",
       "    </tr>\n",
       "    <tr>\n",
       "      <th>46.910665</th>\n",
       "      <td>1</td>\n",
       "      <td>1</td>\n",
       "      <td>1</td>\n",
       "      <td>1</td>\n",
       "      <td>1</td>\n",
       "      <td>1</td>\n",
       "      <td>1</td>\n",
       "    </tr>\n",
       "    <tr>\n",
       "      <th>60.374319</th>\n",
       "      <td>1</td>\n",
       "      <td>1</td>\n",
       "      <td>1</td>\n",
       "      <td>1</td>\n",
       "      <td>1</td>\n",
       "      <td>1</td>\n",
       "      <td>1</td>\n",
       "    </tr>\n",
       "    <tr>\n",
       "      <th>98.437743</th>\n",
       "      <td>1</td>\n",
       "      <td>1</td>\n",
       "      <td>1</td>\n",
       "      <td>1</td>\n",
       "      <td>1</td>\n",
       "      <td>1</td>\n",
       "      <td>1</td>\n",
       "    </tr>\n",
       "  </tbody>\n",
       "</table>\n",
       "<p>430 rows × 7 columns</p>\n",
       "</div>"
      ],
      "text/plain": [
       "              Year  Wave  Mode  Area  SpecGroup  AnglerTrips  total\n",
       "CatchPerTrip                                                       \n",
       "0.000000      2415  2415  2415  2415       2415         2415   2415\n",
       "1.000000         3     3     3     3          3            3      3\n",
       "1.004530         1     1     1     1          1            1      1\n",
       "1.007584         1     1     1     1          1            1      1\n",
       "1.010653         1     1     1     1          1            1      1\n",
       "...            ...   ...   ...   ...        ...          ...    ...\n",
       "38.800000        1     1     1     1          1            1      1\n",
       "45.327911        1     1     1     1          1            1      1\n",
       "46.910665        1     1     1     1          1            1      1\n",
       "60.374319        1     1     1     1          1            1      1\n",
       "98.437743        1     1     1     1          1            1      1\n",
       "\n",
       "[430 rows x 7 columns]"
      ]
     },
     "execution_count": 33,
     "metadata": {},
     "output_type": "execute_result"
    }
   ],
   "source": [
    "#realized there are a lot of numbers <1 in CatchPerTrip. Since there is no such thing as half a fish, I'm reducing these numbers to zero.\n",
    "df.CatchPerTrip[df.CatchPerTrip < 1] = 0\n",
    "df.groupby('CatchPerTrip').count()"
   ]
  },
  {
   "cell_type": "code",
   "execution_count": 103,
   "metadata": {},
   "outputs": [
    {
     "data": {
      "text/html": [
       "<div>\n",
       "<style scoped>\n",
       "    .dataframe tbody tr th:only-of-type {\n",
       "        vertical-align: middle;\n",
       "    }\n",
       "\n",
       "    .dataframe tbody tr th {\n",
       "        vertical-align: top;\n",
       "    }\n",
       "\n",
       "    .dataframe thead th {\n",
       "        text-align: right;\n",
       "    }\n",
       "</style>\n",
       "<table border=\"1\" class=\"dataframe\">\n",
       "  <thead>\n",
       "    <tr style=\"text-align: right;\">\n",
       "      <th></th>\n",
       "      <th>Year</th>\n",
       "      <th>Wave</th>\n",
       "      <th>Mode</th>\n",
       "      <th>Area</th>\n",
       "      <th>SpecGroup</th>\n",
       "      <th>AnglerTrips</th>\n",
       "      <th>total</th>\n",
       "      <th>CatchPerTrip</th>\n",
       "    </tr>\n",
       "  </thead>\n",
       "  <tbody>\n",
       "    <tr>\n",
       "      <th>0</th>\n",
       "      <td>2010</td>\n",
       "      <td>1</td>\n",
       "      <td>3</td>\n",
       "      <td>0</td>\n",
       "      <td>1</td>\n",
       "      <td>730139</td>\n",
       "      <td>10143</td>\n",
       "      <td>0.000000</td>\n",
       "    </tr>\n",
       "    <tr>\n",
       "      <th>1</th>\n",
       "      <td>2010</td>\n",
       "      <td>1</td>\n",
       "      <td>3</td>\n",
       "      <td>0</td>\n",
       "      <td>2</td>\n",
       "      <td>730139</td>\n",
       "      <td>96256</td>\n",
       "      <td>0.000000</td>\n",
       "    </tr>\n",
       "    <tr>\n",
       "      <th>2</th>\n",
       "      <td>2010</td>\n",
       "      <td>1</td>\n",
       "      <td>3</td>\n",
       "      <td>0</td>\n",
       "      <td>11</td>\n",
       "      <td>730139</td>\n",
       "      <td>337713</td>\n",
       "      <td>0.000000</td>\n",
       "    </tr>\n",
       "    <tr>\n",
       "      <th>3</th>\n",
       "      <td>2010</td>\n",
       "      <td>1</td>\n",
       "      <td>3</td>\n",
       "      <td>0</td>\n",
       "      <td>17</td>\n",
       "      <td>730139</td>\n",
       "      <td>714968</td>\n",
       "      <td>0.000000</td>\n",
       "    </tr>\n",
       "    <tr>\n",
       "      <th>4</th>\n",
       "      <td>2010</td>\n",
       "      <td>1</td>\n",
       "      <td>3</td>\n",
       "      <td>0</td>\n",
       "      <td>17</td>\n",
       "      <td>730139</td>\n",
       "      <td>2616125</td>\n",
       "      <td>3.583051</td>\n",
       "    </tr>\n",
       "  </tbody>\n",
       "</table>\n",
       "</div>"
      ],
      "text/plain": [
       "   Year  Wave  Mode  Area  SpecGroup  AnglerTrips    total  CatchPerTrip\n",
       "0  2010     1     3     0          1       730139    10143      0.000000\n",
       "1  2010     1     3     0          2       730139    96256      0.000000\n",
       "2  2010     1     3     0         11       730139   337713      0.000000\n",
       "3  2010     1     3     0         17       730139   714968      0.000000\n",
       "4  2010     1     3     0         17       730139  2616125      3.583051"
      ]
     },
     "execution_count": 103,
     "metadata": {},
     "output_type": "execute_result"
    }
   ],
   "source": [
    "df.head()"
   ]
  },
  {
   "cell_type": "code",
   "execution_count": 104,
   "metadata": {},
   "outputs": [
    {
     "data": {
      "text/plain": [
       "count    2848.000000\n",
       "mean        0.703402\n",
       "std         3.628165\n",
       "min         0.000000\n",
       "25%         0.000000\n",
       "50%         0.000000\n",
       "75%         0.000000\n",
       "max        98.437743\n",
       "Name: CatchPerTrip, dtype: float64"
      ]
     },
     "execution_count": 104,
     "metadata": {},
     "output_type": "execute_result"
    }
   ],
   "source": [
    "df['CatchPerTrip'].describe()"
   ]
  },
  {
   "cell_type": "code",
   "execution_count": 105,
   "metadata": {},
   "outputs": [
    {
     "name": "stdout",
     "output_type": "stream",
     "text": [
      "Training data set length=2242\n",
      "Testing data set length=606\n"
     ]
    }
   ],
   "source": [
    "np.random.seed(47)\n",
    "mask = np.random.rand(len(df)) < 0.8\n",
    "df_train2 = df[mask]\n",
    "df_test2 = df[~mask]\n",
    "print('Training data set length='+str(len(df_train2)))\n",
    "print('Testing data set length='+str(len(df_test2)))"
   ]
  },
  {
   "cell_type": "code",
   "execution_count": 108,
   "metadata": {},
   "outputs": [],
   "source": [
    "expr = \"\"\"CatchPerTrip ~ Mode  + Area + Wave + Year \"\"\""
   ]
  },
  {
   "cell_type": "code",
   "execution_count": 109,
   "metadata": {},
   "outputs": [],
   "source": [
    "y_train1, X_train1 = dmatrices(expr, df_train2, return_type='dataframe')\n",
    "y_test1, X_test1 = dmatrices(expr, df_test2, return_type='dataframe')"
   ]
  },
  {
   "cell_type": "code",
   "execution_count": 110,
   "metadata": {},
   "outputs": [
    {
     "name": "stdout",
     "output_type": "stream",
     "text": [
      "Warning: Desired error not necessarily achieved due to precision loss.\n",
      "         Current function value: 7.305597\n",
      "         Iterations: 0\n",
      "         Function evaluations: 15\n",
      "         Gradient evaluations: 3\n"
     ]
    },
    {
     "name": "stderr",
     "output_type": "stream",
     "text": [
      "C:\\Users\\hindm\\Anaconda\\lib\\site-packages\\statsmodels\\base\\model.py:566: ConvergenceWarning: Maximum Likelihood optimization failed to converge. Check mle_retvals\n",
      "  warnings.warn(\"Maximum Likelihood optimization failed to \"\n",
      "C:\\Users\\hindm\\Anaconda\\lib\\site-packages\\statsmodels\\discrete\\discrete_model.py:1081: RuntimeWarning: overflow encountered in exp\n",
      "  return -np.exp(XB) +  endog*XB - gammaln(endog+1)\n",
      "C:\\Users\\hindm\\Anaconda\\lib\\site-packages\\statsmodels\\discrete\\discrete_model.py:1258: RuntimeWarning: overflow encountered in exp\n",
      "  L = np.exp(np.dot(X,params) + offset + exposure)\n",
      "C:\\Users\\hindm\\Anaconda\\lib\\site-packages\\statsmodels\\discrete\\discrete_model.py:1259: RuntimeWarning: invalid value encountered in multiply\n",
      "  return (self.endog - L)[:,None] * X\n",
      "C:\\Users\\hindm\\Anaconda\\lib\\site-packages\\statsmodels\\discrete\\discrete_model.py:852: RuntimeWarning: overflow encountered in exp\n",
      "  return np.exp(linpred) # not cdf\n",
      "C:\\Users\\hindm\\Anaconda\\lib\\site-packages\\statsmodels\\discrete\\discrete_model.py:1081: RuntimeWarning: overflow encountered in exp\n",
      "  return -np.exp(XB) +  endog*XB - gammaln(endog+1)\n",
      "C:\\Users\\hindm\\Anaconda\\lib\\site-packages\\statsmodels\\base\\model.py:566: ConvergenceWarning: Maximum Likelihood optimization failed to converge. Check mle_retvals\n",
      "  warnings.warn(\"Maximum Likelihood optimization failed to \"\n"
     ]
    }
   ],
   "source": [
    "zip_training_results = sm.ZeroInflatedPoisson(endog=y_train1, exog=X_train1, exog_infl=X_train1, inflation='logit').fit()"
   ]
  },
  {
   "cell_type": "code",
   "execution_count": 111,
   "metadata": {},
   "outputs": [
    {
     "name": "stdout",
     "output_type": "stream",
     "text": [
      "                     ZeroInflatedPoisson Regression Results                    \n",
      "===============================================================================\n",
      "Dep. Variable:            CatchPerTrip   No. Observations:                 2242\n",
      "Model:             ZeroInflatedPoisson   Df Residuals:                     2237\n",
      "Method:                            MLE   Df Model:                            4\n",
      "Date:                 Fri, 23 Apr 2021   Pseudo R-squ.:                  -4.863\n",
      "Time:                         13:03:34   Log-Likelihood:                -16379.\n",
      "converged:                       False   LL-Null:                       -2793.6\n",
      "Covariance Type:             nonrobust   LLR p-value:                     1.000\n",
      "=====================================================================================\n",
      "                        coef    std err          z      P>|z|      [0.025      0.975]\n",
      "-------------------------------------------------------------------------------------\n",
      "inflate_Intercept     0.1000   1.23e+09   8.13e-11      1.000   -2.41e+09    2.41e+09\n",
      "inflate_Mode          0.1000   1.85e+06   5.41e-08      1.000   -3.62e+06    3.62e+06\n",
      "inflate_Area          0.1000   2.11e+06   4.73e-08      1.000   -4.14e+06    4.14e+06\n",
      "inflate_Wave          0.1000   1.11e+06   8.99e-08      1.000   -2.18e+06    2.18e+06\n",
      "inflate_Year          0.1000   6.11e+05   1.64e-07      1.000    -1.2e+06     1.2e+06\n",
      "Intercept            -0.3303     41.798     -0.008      0.994     -82.253      81.592\n",
      "Mode                  0.0013      0.061      0.021      0.983      -0.119       0.121\n",
      "Area                  0.0012      0.066      0.018      0.985      -0.129       0.131\n",
      "Wave                  0.0010      0.038      0.026      0.979      -0.073       0.075\n",
      "Year               4.878e-05      0.021      0.002      0.998      -0.041       0.041\n",
      "=====================================================================================\n"
     ]
    }
   ],
   "source": [
    "print(zip_training_results.summary())"
   ]
  },
  {
   "cell_type": "code",
   "execution_count": 53,
   "metadata": {},
   "outputs": [],
   "source": [
    "from sklearn.model_selection import cross_val_score"
   ]
  },
  {
   "cell_type": "code",
   "execution_count": 54,
   "metadata": {},
   "outputs": [
    {
     "data": {
      "image/png": "[encoded data removed]",
      "text/plain": [
       "<Figure size 432x288 with 1 Axes>"
      ]
     },
     "metadata": {
      "needs_background": "light"
     },
     "output_type": "display_data"
    }
   ],
   "source": [
    "xs= df['Mode']\n",
    "ys = df['CatchPerTrip']\n",
    "plt.scatter(xs, ys, c=df['SpecGroup'])\n",
    "plt.show()"
   ]
  },
  {
   "cell_type": "code",
   "execution_count": 55,
   "metadata": {},
   "outputs": [
    {
     "data": {
      "image/png": "[encoded data removed]",
      "text/plain": [
       "<Figure size 432x288 with 1 Axes>"
      ]
     },
     "metadata": {
      "needs_background": "light"
     },
     "output_type": "display_data"
    }
   ],
   "source": [
    "sns.stripplot(x='Mode', y='CatchPerTrip', data=df, hue='Area')\n",
    "plt.ylabel('Cath Per Trip')\n",
    "plt.show()"
   ]
  },
  {
   "cell_type": "code",
   "execution_count": 34,
   "metadata": {},
   "outputs": [],
   "source": [
    "from sklearn.model_selection import train_test_split\n",
    "from sklearn import preprocessing\n",
    "from sklearn import utils\n",
    "\n",
    "X = df[['Year', 'Wave', 'Area', 'Mode']]\n",
    "y = df['CatchPerTrip']\n",
    "\n",
    "\n",
    "lab_enc = preprocessing.LabelEncoder()\n",
    "encoded = lab_enc.fit_transform(y) #turning y from continuous into integers\n",
    "X_train, X_test, y_train, y_test = train_test_split(X, encoded, test_size=0.25, random_state=23)"
   ]
  },
  {
   "cell_type": "code",
   "execution_count": 35,
   "metadata": {},
   "outputs": [
    {
     "data": {
      "text/plain": [
       "0.8525280898876404"
      ]
     },
     "execution_count": 35,
     "metadata": {},
     "output_type": "execute_result"
    }
   ],
   "source": [
    "from sklearn.neighbors import KNeighborsClassifier\n",
    "\n",
    "knn = KNeighborsClassifier(n_neighbors = 5)\n",
    "knn.fit(X_train, y_train)\n",
    "y_pred = knn.predict(X_test)\n",
    "knn.score(X_test, y_test)"
   ]
  },
  {
   "cell_type": "code",
   "execution_count": 36,
   "metadata": {},
   "outputs": [],
   "source": [
    "#comparing error with K\n",
    "error = []\n",
    "\n",
    "# Calculating error for K values between 1 and 40\n",
    "for i in range(1, 10):\n",
    "    knn = KNeighborsClassifier(n_neighbors=i)\n",
    "    knn.fit(X_train, y_train)\n",
    "    pred_i = knn.predict(X_test)\n",
    "    error.append(np.mean(pred_i != y_test))"
   ]
  },
  {
   "cell_type": "code",
   "execution_count": 37,
   "metadata": {},
   "outputs": [
    {
     "data": {
      "text/plain": [
       "Text(0, 0.5, 'Mean Error')"
      ]
     },
     "execution_count": 37,
     "metadata": {},
     "output_type": "execute_result"
    },
    {
     "data": {
      "image/png": "[encoded data removed]",
      "text/plain": [
       "<Figure size 864x432 with 1 Axes>"
      ]
     },
     "metadata": {
      "needs_background": "light"
     },
     "output_type": "display_data"
    }
   ],
   "source": [
    "plt.figure(figsize=(12, 6))\n",
    "plt.plot(range(1, 10), error, color='red', linestyle='dashed', marker='o',\n",
    "         markerfacecolor='blue', markersize=10)\n",
    "plt.title('Error Rate K Value')\n",
    "plt.xlabel('K Value')\n",
    "plt.ylabel('Mean Error')"
   ]
  },
  {
   "cell_type": "code",
   "execution_count": null,
   "metadata": {},
   "outputs": [],
   "source": [
    "#looks like the ideal k is either 2 or 3"
   ]
  },
  {
   "cell_type": "code",
   "execution_count": 63,
   "metadata": {},
   "outputs": [
    {
     "data": {
      "text/plain": [
       "0.8426966292134831"
      ]
     },
     "execution_count": 63,
     "metadata": {},
     "output_type": "execute_result"
    }
   ],
   "source": [
    "knn = KNeighborsClassifier(n_neighbors = 2)\n",
    "knn.fit(X_train, y_train)\n",
    "y_pred = knn.predict(X_test)\n",
    "knn.score(X_test, y_test)"
   ]
  },
  {
   "cell_type": "code",
   "execution_count": 38,
   "metadata": {},
   "outputs": [
    {
     "data": {
      "text/plain": [
       "0.8525280898876404"
      ]
     },
     "execution_count": 38,
     "metadata": {},
     "output_type": "execute_result"
    }
   ],
   "source": [
    "knn = KNeighborsClassifier(n_neighbors = 3)\n",
    "knn.fit(X_train, y_train)\n",
    "y_pred = knn.predict(X_test)\n",
    "knn.score(X_test, y_test)\n",
    "\n",
    "#k=3 is best"
   ]
  },
  {
   "cell_type": "code",
   "execution_count": 39,
   "metadata": {},
   "outputs": [
    {
     "name": "stdout",
     "output_type": "stream",
     "text": [
      "[[607   0   0 ...   0   0   0]\n",
      " [  1   0   0 ...   0   0   0]\n",
      " [  1   0   0 ...   0   0   0]\n",
      " ...\n",
      " [  1   0   0 ...   0   0   0]\n",
      " [  1   0   0 ...   0   0   0]\n",
      " [  1   0   0 ...   0   0   0]]\n",
      "              precision    recall  f1-score   support\n",
      "\n",
      "           0       0.85      1.00      0.92       607\n",
      "           3       0.00      0.00      0.00         1\n",
      "           6       0.00      0.00      0.00         1\n",
      "           7       0.00      0.00      0.00         1\n",
      "           8       0.00      0.00      0.00         1\n",
      "          12       0.00      0.00      0.00         1\n",
      "          17       0.00      0.00      0.00         1\n",
      "          19       0.00      0.00      0.00         1\n",
      "          21       0.00      0.00      0.00         0\n",
      "          24       0.00      0.00      0.00         1\n",
      "          25       0.00      0.00      0.00         1\n",
      "          26       0.00      0.00      0.00         1\n",
      "          27       0.00      0.00      0.00         1\n",
      "          31       0.00      0.00      0.00         1\n",
      "          33       0.00      0.00      0.00         1\n",
      "          34       0.00      0.00      0.00         1\n",
      "          42       0.00      0.00      0.00         1\n",
      "          51       0.00      0.00      0.00         1\n",
      "          67       0.00      0.00      0.00         1\n",
      "          68       0.00      0.00      0.00         1\n",
      "          76       0.00      0.00      0.00         1\n",
      "          78       0.00      0.00      0.00         1\n",
      "          82       0.00      0.00      0.00         1\n",
      "          91       0.00      0.00      0.00         1\n",
      "          94       0.00      0.00      0.00         1\n",
      "          99       0.00      0.00      0.00         1\n",
      "         101       0.00      0.00      0.00         1\n",
      "         104       0.00      0.00      0.00         1\n",
      "         106       0.00      0.00      0.00         1\n",
      "         107       0.00      0.00      0.00         1\n",
      "         111       0.00      0.00      0.00         1\n",
      "         113       0.00      0.00      0.00         1\n",
      "         115       0.00      0.00      0.00         1\n",
      "         119       0.00      0.00      0.00         1\n",
      "         121       0.00      0.00      0.00         1\n",
      "         123       0.00      0.00      0.00         1\n",
      "         130       0.00      0.00      0.00         1\n",
      "         143       0.00      0.00      0.00         1\n",
      "         147       0.00      0.00      0.00         1\n",
      "         149       0.00      0.00      0.00         1\n",
      "         152       0.00      0.00      0.00         1\n",
      "         157       0.00      0.00      0.00         1\n",
      "         162       0.00      0.00      0.00         1\n",
      "         167       0.00      0.00      0.00         1\n",
      "         168       0.00      0.00      0.00         1\n",
      "         170       0.00      0.00      0.00         1\n",
      "         171       0.00      0.00      0.00         1\n",
      "         175       0.00      0.00      0.00         1\n",
      "         179       0.00      0.00      0.00         1\n",
      "         186       0.00      0.00      0.00         1\n",
      "         188       0.00      0.00      0.00         1\n",
      "         191       0.00      0.00      0.00         1\n",
      "         211       0.00      0.00      0.00         1\n",
      "         218       0.00      0.00      0.00         1\n",
      "         220       0.00      0.00      0.00         1\n",
      "         223       0.00      0.00      0.00         1\n",
      "         224       0.00      0.00      0.00         1\n",
      "         228       0.00      0.00      0.00         1\n",
      "         237       0.00      0.00      0.00         1\n",
      "         238       0.00      0.00      0.00         1\n",
      "         240       0.00      0.00      0.00         1\n",
      "         249       0.00      0.00      0.00         1\n",
      "         250       0.00      0.00      0.00         1\n",
      "         260       0.00      0.00      0.00         1\n",
      "         262       0.00      0.00      0.00         1\n",
      "         264       0.00      0.00      0.00         1\n",
      "         265       0.00      0.00      0.00         1\n",
      "         266       0.00      0.00      0.00         1\n",
      "         267       0.00      0.00      0.00         1\n",
      "         268       0.00      0.00      0.00         1\n",
      "         273       0.00      0.00      0.00         1\n",
      "         277       0.00      0.00      0.00         1\n",
      "         292       0.00      0.00      0.00         1\n",
      "         299       0.00      0.00      0.00         1\n",
      "         300       0.00      0.00      0.00         1\n",
      "         304       0.00      0.00      0.00         1\n",
      "         307       0.00      0.00      0.00         1\n",
      "         311       0.00      0.00      0.00         1\n",
      "         322       0.00      0.00      0.00         1\n",
      "         324       0.00      0.00      0.00         1\n",
      "         325       0.00      0.00      0.00         1\n",
      "         331       0.00      0.00      0.00         1\n",
      "         340       0.00      0.00      0.00         1\n",
      "         352       0.00      0.00      0.00         1\n",
      "         358       0.00      0.00      0.00         1\n",
      "         360       0.00      0.00      0.00         1\n",
      "         372       0.00      0.00      0.00         1\n",
      "         375       0.00      0.00      0.00         1\n",
      "         376       0.00      0.00      0.00         1\n",
      "         384       0.00      0.00      0.00         1\n",
      "         388       0.00      0.00      0.00         1\n",
      "         389       0.00      0.00      0.00         1\n",
      "         397       0.00      0.00      0.00         1\n",
      "         398       0.00      0.00      0.00         1\n",
      "         399       0.00      0.00      0.00         1\n",
      "         406       0.00      0.00      0.00         1\n",
      "         409       0.00      0.00      0.00         1\n",
      "         410       0.00      0.00      0.00         1\n",
      "         415       0.00      0.00      0.00         1\n",
      "         416       0.00      0.00      0.00         1\n",
      "         417       0.00      0.00      0.00         1\n",
      "         419       0.00      0.00      0.00         1\n",
      "         421       0.00      0.00      0.00         1\n",
      "         424       0.00      0.00      0.00         1\n",
      "         426       0.00      0.00      0.00         1\n",
      "         428       0.00      0.00      0.00         1\n",
      "         429       0.00      0.00      0.00         1\n",
      "\n",
      "    accuracy                           0.85       712\n",
      "   macro avg       0.01      0.01      0.01       712\n",
      "weighted avg       0.73      0.85      0.79       712\n",
      "\n"
     ]
    },
    {
     "name": "stderr",
     "output_type": "stream",
     "text": [
      "C:\\Users\\hindm\\Anaconda\\lib\\site-packages\\sklearn\\metrics\\_classification.py:1221: UndefinedMetricWarning: Precision and F-score are ill-defined and being set to 0.0 in labels with no predicted samples. Use `zero_division` parameter to control this behavior.\n",
      "  _warn_prf(average, modifier, msg_start, len(result))\n",
      "C:\\Users\\hindm\\Anaconda\\lib\\site-packages\\sklearn\\metrics\\_classification.py:1221: UndefinedMetricWarning: Recall and F-score are ill-defined and being set to 0.0 in labels with no true samples. Use `zero_division` parameter to control this behavior.\n",
      "  _warn_prf(average, modifier, msg_start, len(result))\n"
     ]
    }
   ],
   "source": [
    "\n",
    "\n",
    "#evaluate the model\n",
    "from sklearn.metrics import classification_report, confusion_matrix\n",
    "print(confusion_matrix(y_test, y_pred))\n",
    "print(classification_report(y_test, y_pred))"
   ]
  },
  {
   "cell_type": "code",
   "execution_count": 43,
   "metadata": {},
   "outputs": [
    {
     "name": "stderr",
     "output_type": "stream",
     "text": [
      "C:\\Users\\hindm\\Anaconda\\lib\\site-packages\\seaborn\\distributions.py:2551: FutureWarning: `distplot` is a deprecated function and will be removed in a future version. Please adapt your code to use either `displot` (a figure-level function with similar flexibility) or `kdeplot` (an axes-level function for kernel density plots).\n",
      "  warnings.warn(msg, FutureWarning)\n",
      "C:\\Users\\hindm\\Anaconda\\lib\\site-packages\\seaborn\\distributions.py:2551: FutureWarning: `distplot` is a deprecated function and will be removed in a future version. Please adapt your code to use either `displot` (a figure-level function with similar flexibility) or `kdeplot` (an axes-level function for kernel density plots).\n",
      "  warnings.warn(msg, FutureWarning)\n"
     ]
    },
    {
     "data": {
      "image/png": "[encoded data removed]",
      "text/plain": [
       "<Figure size 360x504 with 1 Axes>"
      ]
     },
     "metadata": {
      "needs_background": "light"
     },
     "output_type": "display_data"
    }
   ],
   "source": [
    "plt.figure(figsize=(5, 7))\n",
    "ax = sns.distplot(df['CatchPerTrip'], hist=False, color=\"r\", label=\"Actual Value\")\n",
    "sns.distplot(y_pred, hist=False, color=\"b\", label=\"Predicted Values\", ax=ax)\n",
    "plt.title('Actual vs Precited value for outcome')\n",
    "plt.legend(loc='upper right')\n",
    "plt.show()\n",
    "plt.close()"
   ]
  },
  {
   "cell_type": "code",
   "execution_count": 65,
   "metadata": {},
   "outputs": [
    {
     "ename": "ValueError",
     "evalue": "multiclass format is not supported",
     "output_type": "error",
     "traceback": [
      "\u001b[1;31m---------------------------------------------------------------------------\u001b[0m",
      "\u001b[1;31mValueError\u001b[0m                                Traceback (most recent call last)",
      "\u001b[1;32m<ipython-input-65-088cd511278f>\u001b[0m in \u001b[0;36m<module>\u001b[1;34m\u001b[0m\n\u001b[0;32m      2\u001b[0m \u001b[1;33m\u001b[0m\u001b[0m\n\u001b[0;32m      3\u001b[0m \u001b[0my_pred_prob\u001b[0m \u001b[1;33m=\u001b[0m \u001b[0mknn\u001b[0m\u001b[1;33m.\u001b[0m\u001b[0mpredict_proba\u001b[0m\u001b[1;33m(\u001b[0m\u001b[0mX_test\u001b[0m\u001b[1;33m)\u001b[0m\u001b[1;33m[\u001b[0m\u001b[1;33m:\u001b[0m\u001b[1;33m,\u001b[0m\u001b[1;36m1\u001b[0m\u001b[1;33m]\u001b[0m\u001b[1;33m\u001b[0m\u001b[1;33m\u001b[0m\u001b[0m\n\u001b[1;32m----> 4\u001b[1;33m \u001b[0mfalse_positive_rate1\u001b[0m\u001b[1;33m,\u001b[0m \u001b[0mtrue_positive_rate1\u001b[0m\u001b[1;33m,\u001b[0m \u001b[0mthreshold1\u001b[0m \u001b[1;33m=\u001b[0m \u001b[0mroc_curve\u001b[0m\u001b[1;33m(\u001b[0m\u001b[0my_test\u001b[0m\u001b[1;33m,\u001b[0m \u001b[0my_pred_prob\u001b[0m\u001b[1;33m)\u001b[0m\u001b[1;33m\u001b[0m\u001b[1;33m\u001b[0m\u001b[0m\n\u001b[0m\u001b[0;32m      5\u001b[0m \u001b[1;33m\u001b[0m\u001b[0m\n\u001b[0;32m      6\u001b[0m \u001b[1;33m\u001b[0m\u001b[0m\n",
      "\u001b[1;32m~\\Anaconda\\lib\\site-packages\\sklearn\\utils\\validation.py\u001b[0m in \u001b[0;36minner_f\u001b[1;34m(*args, **kwargs)\u001b[0m\n\u001b[0;32m     70\u001b[0m                           FutureWarning)\n\u001b[0;32m     71\u001b[0m         \u001b[0mkwargs\u001b[0m\u001b[1;33m.\u001b[0m\u001b[0mupdate\u001b[0m\u001b[1;33m(\u001b[0m\u001b[1;33m{\u001b[0m\u001b[0mk\u001b[0m\u001b[1;33m:\u001b[0m \u001b[0marg\u001b[0m \u001b[1;32mfor\u001b[0m \u001b[0mk\u001b[0m\u001b[1;33m,\u001b[0m \u001b[0marg\u001b[0m \u001b[1;32min\u001b[0m \u001b[0mzip\u001b[0m\u001b[1;33m(\u001b[0m\u001b[0msig\u001b[0m\u001b[1;33m.\u001b[0m\u001b[0mparameters\u001b[0m\u001b[1;33m,\u001b[0m \u001b[0margs\u001b[0m\u001b[1;33m)\u001b[0m\u001b[1;33m}\u001b[0m\u001b[1;33m)\u001b[0m\u001b[1;33m\u001b[0m\u001b[1;33m\u001b[0m\u001b[0m\n\u001b[1;32m---> 72\u001b[1;33m         \u001b[1;32mreturn\u001b[0m \u001b[0mf\u001b[0m\u001b[1;33m(\u001b[0m\u001b[1;33m**\u001b[0m\u001b[0mkwargs\u001b[0m\u001b[1;33m)\u001b[0m\u001b[1;33m\u001b[0m\u001b[1;33m\u001b[0m\u001b[0m\n\u001b[0m\u001b[0;32m     73\u001b[0m     \u001b[1;32mreturn\u001b[0m \u001b[0minner_f\u001b[0m\u001b[1;33m\u001b[0m\u001b[1;33m\u001b[0m\u001b[0m\n\u001b[0;32m     74\u001b[0m \u001b[1;33m\u001b[0m\u001b[0m\n",
      "\u001b[1;32m~\\Anaconda\\lib\\site-packages\\sklearn\\metrics\\_ranking.py\u001b[0m in \u001b[0;36mroc_curve\u001b[1;34m(y_true, y_score, pos_label, sample_weight, drop_intermediate)\u001b[0m\n\u001b[0;32m    773\u001b[0m \u001b[1;33m\u001b[0m\u001b[0m\n\u001b[0;32m    774\u001b[0m     \"\"\"\n\u001b[1;32m--> 775\u001b[1;33m     fps, tps, thresholds = _binary_clf_curve(\n\u001b[0m\u001b[0;32m    776\u001b[0m         y_true, y_score, pos_label=pos_label, sample_weight=sample_weight)\n\u001b[0;32m    777\u001b[0m \u001b[1;33m\u001b[0m\u001b[0m\n",
      "\u001b[1;32m~\\Anaconda\\lib\\site-packages\\sklearn\\metrics\\_ranking.py\u001b[0m in \u001b[0;36m_binary_clf_curve\u001b[1;34m(y_true, y_score, pos_label, sample_weight)\u001b[0m\n\u001b[0;32m    537\u001b[0m     if not (y_type == \"binary\" or\n\u001b[0;32m    538\u001b[0m             (y_type == \"multiclass\" and pos_label is not None)):\n\u001b[1;32m--> 539\u001b[1;33m         \u001b[1;32mraise\u001b[0m \u001b[0mValueError\u001b[0m\u001b[1;33m(\u001b[0m\u001b[1;34m\"{0} format is not supported\"\u001b[0m\u001b[1;33m.\u001b[0m\u001b[0mformat\u001b[0m\u001b[1;33m(\u001b[0m\u001b[0my_type\u001b[0m\u001b[1;33m)\u001b[0m\u001b[1;33m)\u001b[0m\u001b[1;33m\u001b[0m\u001b[1;33m\u001b[0m\u001b[0m\n\u001b[0m\u001b[0;32m    540\u001b[0m \u001b[1;33m\u001b[0m\u001b[0m\n\u001b[0;32m    541\u001b[0m     \u001b[0mcheck_consistent_length\u001b[0m\u001b[1;33m(\u001b[0m\u001b[0my_true\u001b[0m\u001b[1;33m,\u001b[0m \u001b[0my_score\u001b[0m\u001b[1;33m,\u001b[0m \u001b[0msample_weight\u001b[0m\u001b[1;33m)\u001b[0m\u001b[1;33m\u001b[0m\u001b[1;33m\u001b[0m\u001b[0m\n",
      "\u001b[1;31mValueError\u001b[0m: multiclass format is not supported"
     ]
    }
   ],
   "source": [
    "from sklearn.metrics import roc_curve\n",
    "\n",
    "y_pred_prob = knn.predict_proba(X_test)[:,1]\n",
    "false_positive_rate1, true_positive_rate1, threshold1 = roc_curve(y_test, y_pred_prob)\n",
    "\n",
    "\n",
    "plt.plot([0,1], [0,1], 'k--')\n",
    "plt.plot(fale_positive_rate1, true_positive_rate1, label='KNN')\n",
    "plt.xlabel('False Positive Rate')\n",
    "plt.ylabel('True Positive Rate')\n",
    "plt.title('K Nearest Neighbors ROC Curve')\n",
    "plt.show()\n",
    "\n",
    "#ROC curve not working because my y is not logistic. how do I fix this?"
   ]
  },
  {
   "cell_type": "code",
   "execution_count": 66,
   "metadata": {},
   "outputs": [
    {
     "data": {
      "image/png": "[encoded data removed]",
      "text/plain": [
       "<Figure size 432x288 with 1 Axes>"
      ]
     },
     "metadata": {
      "needs_background": "light"
     },
     "output_type": "display_data"
    }
   ],
   "source": [
    "from sklearn import datasets, neighbors\n",
    "#from mlxtend.plotting import plot_decision_regions\n",
    "\n",
    "knn1 = KNeighborsClassifier\n",
    "def plot_decision_boundaries(X, y, model_class, k):\n",
    "    \n",
    "    try:\n",
    "        X = np.array(X)\n",
    "        y = np.array(y).flatten()\n",
    "    except:\n",
    "        print(\"Coercing input data to NumPy arrays failed\")\n",
    "    # Reduces to the first two columns of data\n",
    "    reduced_data = X[:, :2]\n",
    "    # Instantiate the model object\n",
    "    model = model_class(k)\n",
    "    # Fits the model with the reduced data\n",
    "    model.fit(reduced_data, y)\n",
    "\n",
    "    # Step size of the mesh. Decrease to increase the quality of the VQ.\n",
    "    h = .02     # point in the mesh [x_min, m_max]x[y_min, y_max].    \n",
    "\n",
    "    # Plot the decision boundary. For that, we will assign a color to each\n",
    "    x_min, x_max = reduced_data[:, 0].min() - 1, reduced_data[:, 0].max() + 1\n",
    "    y_min, y_max = reduced_data[:, 1].min() - 1, reduced_data[:, 1].max() + 1\n",
    "    # Meshgrid creation\n",
    "    xx, yy = np.meshgrid(np.arange(x_min, x_max, h), np.arange(y_min, y_max, h))\n",
    "\n",
    "    # Obtain labels for each point in mesh using the model.\n",
    "    Z = model.predict(np.c_[xx.ravel(), yy.ravel()])    \n",
    "\n",
    "    x_min, x_max = X[:, 0].min() - 1, X[:, 0].max() + 1\n",
    "    y_min, y_max = X[:, 1].min() - 1, X[:, 1].max() + 1\n",
    "    xx, yy = np.meshgrid(np.arange(x_min, x_max, 0.1),\n",
    "                         np.arange(y_min, y_max, 0.1))\n",
    "\n",
    "    # Predictions to obtain the classification results\n",
    "    Z = model.predict(np.c_[xx.ravel(), yy.ravel()]).reshape(xx.shape)\n",
    "\n",
    "    # Plotting\n",
    "    plt.contourf(xx, yy, Z, alpha=0.4)\n",
    "    plt.scatter(X[:, 0], X[:, 1], c=y, alpha=0.8)\n",
    "    plt.xlabel(\"Feature-1\",fontsize=15)\n",
    "    plt.ylabel(\"Feature-2\",fontsize=15)\n",
    "    plt.xticks(fontsize=14)\n",
    "    plt.yticks(fontsize=14)\n",
    "    return plt\n",
    "    \n",
    "    \n",
    "plt.figure()\n",
    "plt.title('KNN Decision Boundary')\n",
    "plot_decision_boundaries(X_train, y_train, knn1, 3)\n",
    "plt.show()"
   ]
  },
  {
   "cell_type": "code",
   "execution_count": 1,
   "metadata": {},
   "outputs": [
    {
     "ename": "NameError",
     "evalue": "name 'plt' is not defined",
     "output_type": "error",
     "traceback": [
      "\u001b[1;31m---------------------------------------------------------------------------\u001b[0m",
      "\u001b[1;31mNameError\u001b[0m                                 Traceback (most recent call last)",
      "\u001b[1;32m<ipython-input-1-80defc1fef6f>\u001b[0m in \u001b[0;36m<module>\u001b[1;34m\u001b[0m\n\u001b[1;32m----> 1\u001b[1;33m \u001b[0mplt\u001b[0m\u001b[1;33m.\u001b[0m\u001b[0mfigure\u001b[0m\u001b[1;33m(\u001b[0m\u001b[0mfigsize\u001b[0m\u001b[1;33m=\u001b[0m\u001b[1;33m(\u001b[0m\u001b[1;36m5\u001b[0m\u001b[1;33m,\u001b[0m \u001b[1;36m7\u001b[0m\u001b[1;33m)\u001b[0m\u001b[1;33m)\u001b[0m\u001b[1;33m\u001b[0m\u001b[1;33m\u001b[0m\u001b[0m\n\u001b[0m\u001b[0;32m      2\u001b[0m \u001b[0max\u001b[0m \u001b[1;33m=\u001b[0m \u001b[0msns\u001b[0m\u001b[1;33m.\u001b[0m\u001b[0mdistplot\u001b[0m\u001b[1;33m(\u001b[0m\u001b[0mdata\u001b[0m\u001b[1;33m[\u001b[0m\u001b[1;34m'Outcome'\u001b[0m\u001b[1;33m]\u001b[0m\u001b[1;33m,\u001b[0m \u001b[0mhist\u001b[0m\u001b[1;33m=\u001b[0m\u001b[1;32mFalse\u001b[0m\u001b[1;33m,\u001b[0m \u001b[0mcolor\u001b[0m\u001b[1;33m=\u001b[0m\u001b[1;34m\"r\"\u001b[0m\u001b[1;33m,\u001b[0m \u001b[0mlabel\u001b[0m\u001b[1;33m=\u001b[0m\u001b[1;34m\"Actual Value\"\u001b[0m\u001b[1;33m)\u001b[0m\u001b[1;33m\u001b[0m\u001b[1;33m\u001b[0m\u001b[0m\n\u001b[0;32m      3\u001b[0m \u001b[0msns\u001b[0m\u001b[1;33m.\u001b[0m\u001b[0mdistplot\u001b[0m\u001b[1;33m(\u001b[0m\u001b[0my_pred\u001b[0m\u001b[1;33m,\u001b[0m \u001b[0mhist\u001b[0m\u001b[1;33m=\u001b[0m\u001b[1;32mFalse\u001b[0m\u001b[1;33m,\u001b[0m \u001b[0mcolor\u001b[0m\u001b[1;33m=\u001b[0m\u001b[1;34m\"b\"\u001b[0m\u001b[1;33m,\u001b[0m \u001b[0mlabel\u001b[0m\u001b[1;33m=\u001b[0m\u001b[1;34m\"Predicted Values\"\u001b[0m\u001b[1;33m,\u001b[0m \u001b[0max\u001b[0m\u001b[1;33m=\u001b[0m\u001b[0max\u001b[0m\u001b[1;33m)\u001b[0m\u001b[1;33m\u001b[0m\u001b[1;33m\u001b[0m\u001b[0m\n\u001b[0;32m      4\u001b[0m \u001b[0mplt\u001b[0m\u001b[1;33m.\u001b[0m\u001b[0mtitle\u001b[0m\u001b[1;33m(\u001b[0m\u001b[1;34m'Actual vs Precited value for outcome'\u001b[0m\u001b[1;33m)\u001b[0m\u001b[1;33m\u001b[0m\u001b[1;33m\u001b[0m\u001b[0m\n\u001b[0;32m      5\u001b[0m \u001b[0mplt\u001b[0m\u001b[1;33m.\u001b[0m\u001b[0mshow\u001b[0m\u001b[1;33m(\u001b[0m\u001b[1;33m)\u001b[0m\u001b[1;33m\u001b[0m\u001b[1;33m\u001b[0m\u001b[0m\n",
      "\u001b[1;31mNameError\u001b[0m: name 'plt' is not defined"
     ]
    }
   ],
   "source": [
    "plt.figure(figsize=(5, 7))\n",
    "ax = sns.distplot(data['Outcome'], hist=False, color=\"r\", label=\"Actual Value\")\n",
    "sns.distplot(y_pred, hist=False, color=\"b\", label=\"Predicted Values\", ax=ax)\n",
    "plt.title('Actual vs Precited value for outcome')\n",
    "plt.show()\n",
    "plt.close()"
   ]
  }
 ],
 "metadata": {
  "kernelspec": {
   "display_name": "Python 3",
   "language": "python",
   "name": "python3"
  },
  "language_info": {
   "codemirror_mode": {
    "name": "ipython",
    "version": 3
   },
   "file_extension": ".py",
   "mimetype": "text/x-python",
   "name": "python",
   "nbconvert_exporter": "python",
   "pygments_lexer": "ipython3",
   "version": "3.8.5"
  }
 },
 "nbformat": 4,
 "nbformat_minor": 4
}
